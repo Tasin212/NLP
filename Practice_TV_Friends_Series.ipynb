{
  "nbformat": 4,
  "nbformat_minor": 0,
  "metadata": {
    "colab": {
      "provenance": [],
      "gpuType": "T4"
    },
    "kernelspec": {
      "name": "python3",
      "display_name": "Python 3"
    },
    "language_info": {
      "name": "python"
    }
  },
  "cells": [
    {
      "cell_type": "code",
      "source": [
        "!pip install gensim"
      ],
      "metadata": {
        "colab": {
          "base_uri": "https://localhost:8080/",
          "height": 689
        },
        "id": "LaiMZKIHI4cz",
        "outputId": "2065ad04-cd9d-4b45-fe25-d1953b31bf0c"
      },
      "execution_count": 3,
      "outputs": [
        {
          "output_type": "stream",
          "name": "stdout",
          "text": [
            "Collecting gensim\n",
            "  Downloading gensim-4.3.3-cp312-cp312-manylinux_2_17_x86_64.manylinux2014_x86_64.whl.metadata (8.1 kB)\n",
            "Collecting numpy<2.0,>=1.18.5 (from gensim)\n",
            "  Downloading numpy-1.26.4-cp312-cp312-manylinux_2_17_x86_64.manylinux2014_x86_64.whl.metadata (61 kB)\n",
            "\u001b[2K     \u001b[90m━━━━━━━━━━━━━━━━━━━━━━━━━━━━━━━━━━━━━━━━\u001b[0m \u001b[32m61.0/61.0 kB\u001b[0m \u001b[31m3.8 MB/s\u001b[0m eta \u001b[36m0:00:00\u001b[0m\n",
            "\u001b[?25hCollecting scipy<1.14.0,>=1.7.0 (from gensim)\n",
            "  Downloading scipy-1.13.1-cp312-cp312-manylinux_2_17_x86_64.manylinux2014_x86_64.whl.metadata (60 kB)\n",
            "\u001b[2K     \u001b[90m━━━━━━━━━━━━━━━━━━━━━━━━━━━━━━━━━━━━━━━━\u001b[0m \u001b[32m60.6/60.6 kB\u001b[0m \u001b[31m4.1 MB/s\u001b[0m eta \u001b[36m0:00:00\u001b[0m\n",
            "\u001b[?25hRequirement already satisfied: smart-open>=1.8.1 in /usr/local/lib/python3.12/dist-packages (from gensim) (7.3.0.post1)\n",
            "Requirement already satisfied: wrapt in /usr/local/lib/python3.12/dist-packages (from smart-open>=1.8.1->gensim) (1.17.3)\n",
            "Downloading gensim-4.3.3-cp312-cp312-manylinux_2_17_x86_64.manylinux2014_x86_64.whl (26.6 MB)\n",
            "\u001b[2K   \u001b[90m━━━━━━━━━━━━━━━━━━━━━━━━━━━━━━━━━━━━━━━━\u001b[0m \u001b[32m26.6/26.6 MB\u001b[0m \u001b[31m87.1 MB/s\u001b[0m eta \u001b[36m0:00:00\u001b[0m\n",
            "\u001b[?25hDownloading numpy-1.26.4-cp312-cp312-manylinux_2_17_x86_64.manylinux2014_x86_64.whl (18.0 MB)\n",
            "\u001b[2K   \u001b[90m━━━━━━━━━━━━━━━━━━━━━━━━━━━━━━━━━━━━━━━━\u001b[0m \u001b[32m18.0/18.0 MB\u001b[0m \u001b[31m119.9 MB/s\u001b[0m eta \u001b[36m0:00:00\u001b[0m\n",
            "\u001b[?25hDownloading scipy-1.13.1-cp312-cp312-manylinux_2_17_x86_64.manylinux2014_x86_64.whl (38.2 MB)\n",
            "\u001b[2K   \u001b[90m━━━━━━━━━━━━━━━━━━━━━━━━━━━━━━━━━━━━━━━━\u001b[0m \u001b[32m38.2/38.2 MB\u001b[0m \u001b[31m23.0 MB/s\u001b[0m eta \u001b[36m0:00:00\u001b[0m\n",
            "\u001b[?25hInstalling collected packages: numpy, scipy, gensim\n",
            "  Attempting uninstall: numpy\n",
            "    Found existing installation: numpy 2.0.2\n",
            "    Uninstalling numpy-2.0.2:\n",
            "      Successfully uninstalled numpy-2.0.2\n",
            "  Attempting uninstall: scipy\n",
            "    Found existing installation: scipy 1.16.1\n",
            "    Uninstalling scipy-1.16.1:\n",
            "      Successfully uninstalled scipy-1.16.1\n",
            "\u001b[31mERROR: pip's dependency resolver does not currently take into account all the packages that are installed. This behaviour is the source of the following dependency conflicts.\n",
            "opencv-python 4.12.0.88 requires numpy<2.3.0,>=2; python_version >= \"3.9\", but you have numpy 1.26.4 which is incompatible.\n",
            "thinc 8.3.6 requires numpy<3.0.0,>=2.0.0, but you have numpy 1.26.4 which is incompatible.\n",
            "opencv-python-headless 4.12.0.88 requires numpy<2.3.0,>=2; python_version >= \"3.9\", but you have numpy 1.26.4 which is incompatible.\n",
            "opencv-contrib-python 4.12.0.88 requires numpy<2.3.0,>=2; python_version >= \"3.9\", but you have numpy 1.26.4 which is incompatible.\n",
            "tsfresh 0.21.1 requires scipy>=1.14.0; python_version >= \"3.10\", but you have scipy 1.13.1 which is incompatible.\u001b[0m\u001b[31m\n",
            "\u001b[0mSuccessfully installed gensim-4.3.3 numpy-1.26.4 scipy-1.13.1\n"
          ]
        },
        {
          "output_type": "display_data",
          "data": {
            "application/vnd.colab-display-data+json": {
              "pip_warning": {
                "packages": [
                  "numpy"
                ]
              },
              "id": "16b87b8f947449b3bab6d5aecd0dfdef"
            }
          },
          "metadata": {}
        }
      ]
    },
    {
      "cell_type": "code",
      "execution_count": 2,
      "metadata": {
        "id": "Er6Xd7xsHucN"
      },
      "outputs": [],
      "source": [
        "import numpy as np\n",
        "import pandas as pd\n",
        "import gensim\n",
        "import os\n",
        "\n",
        "from nltk import sent_tokenize\n",
        "from gensim.utils import simple_preprocess\n",
        "from nltk.corpus import stopwords\n",
        "from gensim.models import Word2Vec"
      ]
    },
    {
      "cell_type": "code",
      "source": [
        "import nltk\n",
        "nltk.download('stopwords')\n",
        "nltk.download('punkt_tab')"
      ],
      "metadata": {
        "colab": {
          "base_uri": "https://localhost:8080/"
        },
        "id": "IH9IfDOtLMKZ",
        "outputId": "0f71c69f-0208-4063-ba03-9eb3f8806060"
      },
      "execution_count": 6,
      "outputs": [
        {
          "output_type": "stream",
          "name": "stderr",
          "text": [
            "[nltk_data] Downloading package stopwords to /root/nltk_data...\n",
            "[nltk_data]   Package stopwords is already up-to-date!\n",
            "[nltk_data] Downloading package punkt_tab to /root/nltk_data...\n",
            "[nltk_data]   Unzipping tokenizers/punkt_tab.zip.\n"
          ]
        },
        {
          "output_type": "execute_result",
          "data": {
            "text/plain": [
              "True"
            ]
          },
          "metadata": {},
          "execution_count": 6
        }
      ]
    },
    {
      "cell_type": "code",
      "source": [
        "story = []\n",
        "file_path = '/content/sample_data/Friends_Transcript.txt'\n",
        "with open(file_path, 'r') as f:\n",
        "  corpus = f.read()\n",
        "\n",
        "raw_sent = sent_tokenize(corpus)\n",
        "stop_words = set(stopwords.words('english'))\n",
        "\n",
        "for sent in raw_sent:\n",
        "    # Preprocess the sentence to get a list of words\n",
        "    words = simple_preprocess(sent, deacc=True) # deacc=True removes accents\n",
        "\n",
        "    filtered_words = [word for word in words if word not in stop_words]\n",
        "\n",
        "    # Append the list of filtered words to your story list\n",
        "    if filtered_words: # Optional: only append if the list is not empty\n",
        "        story.append(filtered_words)\n",
        "\n",
        "# Print the first 10 entries of the story list\n",
        "story[:10]"
      ],
      "metadata": {
        "colab": {
          "base_uri": "https://localhost:8080/"
        },
        "id": "pxOUPsnPHzWI",
        "outputId": "6957b8e3-b172-401d-f505-854227f3e9ef"
      },
      "execution_count": 8,
      "outputs": [
        {
          "output_type": "execute_result",
          "data": {
            "text/plain": [
              "[['one',\n",
              "  'monica',\n",
              "  'gets',\n",
              "  'new',\n",
              "  'roomate',\n",
              "  'pilot',\n",
              "  'uncut',\n",
              "  'version',\n",
              "  'written',\n",
              "  'marta',\n",
              "  'kauffman',\n",
              "  'david',\n",
              "  'crane',\n",
              "  'scene',\n",
              "  'central',\n",
              "  'perk',\n",
              "  'chandler',\n",
              "  'joey',\n",
              "  'phoebe',\n",
              "  'monica'],\n",
              " ['monica', 'nothing', 'tell'],\n",
              " ['guy', 'work'],\n",
              " ['joey', 'mon', 'going', 'guy'],\n",
              " ['gotta', 'something', 'wrong'],\n",
              " ['chandler', 'right', 'joey', 'nice'],\n",
              " ['hump'],\n",
              " ['hump', 'hairpiece'],\n",
              " ['phoebe', 'wait', 'eat', 'chalk'],\n",
              " ['stare', 'bemused']]"
            ]
          },
          "metadata": {},
          "execution_count": 8
        }
      ]
    },
    {
      "cell_type": "code",
      "source": [
        "model = gensim.models.Word2Vec(\n",
        "    window=10,\n",
        "    min_count=2\n",
        ")\n",
        "#This line initializes the Word2Vec model. It creates a placeholder for the model but doesn't train it yet.\n",
        "# A window of 10 means the model will look at up to 10 words to the left and 10 words to the right of a given word to understand its context.\n",
        "# min_count=2: This is a frequency threshold. It tells the model to ignore all words that have a total frequency less than 2 across the entire corpus."
      ],
      "metadata": {
        "id": "S60ucdixMiVB"
      },
      "execution_count": 9,
      "outputs": []
    },
    {
      "cell_type": "code",
      "source": [
        "model.build_vocab(story) # This is the vocabulary building step(indicating unqiue words)"
      ],
      "metadata": {
        "colab": {
          "base_uri": "https://localhost:8080/"
        },
        "id": "teE6rC7YNUpQ",
        "outputId": "c7bff7d7-73e4-4976-8835-fffbebf7817f"
      },
      "execution_count": 12,
      "outputs": [
        {
          "output_type": "stream",
          "name": "stderr",
          "text": [
            "WARNING:gensim.models.keyedvectors:sorting after vectors have been allocated is expensive & error-prone\n"
          ]
        }
      ]
    },
    {
      "cell_type": "code",
      "source": [
        "model.train(story, total_examples=model.corpus_count, epochs=model.epochs)\n",
        "# this is a training step\n",
        "# total_examples=model.corpus_count: This parameter tells the model the total number of sentences it should expect to see for training.\n",
        "# epochs=model.epochs: An epoch is one full pass over the entire training data. The default number of epochs is 5, but you can increase this for better results."
      ],
      "metadata": {
        "colab": {
          "base_uri": "https://localhost:8080/"
        },
        "id": "iauRqvXbNtzp",
        "outputId": "ebfb7fb6-51e0-4018-beb7-a299f201f2b0"
      },
      "execution_count": 13,
      "outputs": [
        {
          "output_type": "execute_result",
          "data": {
            "text/plain": [
              "(1909809, 2450035)"
            ]
          },
          "metadata": {},
          "execution_count": 13
        }
      ]
    },
    {
      "cell_type": "code",
      "source": [
        "model.wv.most_similar('chef')"
      ],
      "metadata": {
        "colab": {
          "base_uri": "https://localhost:8080/"
        },
        "id": "GNEK-eG3N_yA",
        "outputId": "6cc014dc-e5af-4c72-955f-28913277607c"
      },
      "execution_count": 14,
      "outputs": [
        {
          "output_type": "execute_result",
          "data": {
            "text/plain": [
              "[('states', 0.9903604388237),\n",
              " ('human', 0.9893077611923218),\n",
              " ('partner', 0.9886582493782043),\n",
              " ('biggest', 0.9885435104370117),\n",
              " ('weddings', 0.9884939193725586),\n",
              " ('percent', 0.9881830215454102),\n",
              " ('career', 0.9878454804420471),\n",
              " ('death', 0.98684161901474),\n",
              " ('childhood', 0.9867883920669556),\n",
              " ('professional', 0.98671954870224)]"
            ]
          },
          "metadata": {},
          "execution_count": 14
        }
      ]
    },
    {
      "cell_type": "code",
      "source": [
        "model.wv.most_similar('paleontologist')"
      ],
      "metadata": {
        "colab": {
          "base_uri": "https://localhost:8080/"
        },
        "id": "cYWwEdx4OiMB",
        "outputId": "665bc1b4-6dd6-4668-a2cf-f0a7beab01b7"
      },
      "execution_count": 16,
      "outputs": [
        {
          "output_type": "execute_result",
          "data": {
            "text/plain": [
              "[('sucks', 0.9880186915397644),\n",
              " ('spit', 0.9879329800605774),\n",
              " ('tux', 0.9876961708068848),\n",
              " ('passenger', 0.987050473690033),\n",
              " ('awesome', 0.9868683815002441),\n",
              " ('proud', 0.9856809973716736),\n",
              " ('soup', 0.9855806827545166),\n",
              " ('role', 0.9854955077171326),\n",
              " ('sophie', 0.985356867313385),\n",
              " ('gas', 0.9852485060691833)]"
            ]
          },
          "metadata": {},
          "execution_count": 16
        }
      ]
    },
    {
      "cell_type": "code",
      "source": [
        "model.wv.most_similar('sarcastic')"
      ],
      "metadata": {
        "colab": {
          "base_uri": "https://localhost:8080/"
        },
        "id": "Bcdki3pvOsxw",
        "outputId": "ad225632-d964-41ae-b6fa-60d87e57341e"
      },
      "execution_count": 17,
      "outputs": [
        {
          "output_type": "execute_result",
          "data": {
            "text/plain": [
              "[('deadpan', 0.9809156060218811),\n",
              " ('soo', 0.9779818058013916),\n",
              " ('sarcastically', 0.971541702747345),\n",
              " ('yay', 0.9712703824043274),\n",
              " ('phoe', 0.9711645245552063),\n",
              " ('tasted', 0.9708167314529419),\n",
              " ('kathy', 0.9704561829566956),\n",
              " ('certificate', 0.9690752029418945),\n",
              " ('lord', 0.9690244793891907),\n",
              " ('sympathetic', 0.9690150618553162)]"
            ]
          },
          "metadata": {},
          "execution_count": 17
        }
      ]
    },
    {
      "cell_type": "code",
      "source": [
        "model.wv.most_similar('rachel')"
      ],
      "metadata": {
        "colab": {
          "base_uri": "https://localhost:8080/"
        },
        "id": "SRdoHtwVOv4h",
        "outputId": "481ddb19-b062-4c60-a78b-12e31e162f76"
      },
      "execution_count": 18,
      "outputs": [
        {
          "output_type": "execute_result",
          "data": {
            "text/plain": [
              "[('phoebe', 0.9435337781906128),\n",
              " ('monica', 0.9266968965530396),\n",
              " ('chandler', 0.9134315848350525),\n",
              " ('ross', 0.9081670641899109),\n",
              " ('joey', 0.8482985496520996),\n",
              " ('richard', 0.8444336652755737),\n",
              " ('mona', 0.8440428972244263),\n",
              " ('janine', 0.8353392481803894),\n",
              " ('charlie', 0.8338221311569214),\n",
              " ('everyone', 0.8252940773963928)]"
            ]
          },
          "metadata": {},
          "execution_count": 18
        }
      ]
    },
    {
      "cell_type": "code",
      "source": [
        "model.wv.doesnt_match(['actor', 'monica', 'chef'])"
      ],
      "metadata": {
        "colab": {
          "base_uri": "https://localhost:8080/",
          "height": 35
        },
        "id": "nR4tbo6ZPCLA",
        "outputId": "ad325122-36da-43b8-b732-42031edc6e07"
      },
      "execution_count": 21,
      "outputs": [
        {
          "output_type": "execute_result",
          "data": {
            "text/plain": [
              "'monica'"
            ],
            "application/vnd.google.colaboratory.intrinsic+json": {
              "type": "string"
            }
          },
          "metadata": {},
          "execution_count": 21
        }
      ]
    },
    {
      "cell_type": "code",
      "source": [
        "model.wv.most_similar(positive=['joey', 'actor'], negative=['chandler'])"
      ],
      "metadata": {
        "colab": {
          "base_uri": "https://localhost:8080/"
        },
        "id": "uuiyN9QtPc-o",
        "outputId": "a51bd6fd-63c5-44c7-cdd1-d4d02f0abf9b"
      },
      "execution_count": 23,
      "outputs": [
        {
          "output_type": "execute_result",
          "data": {
            "text/plain": [
              "[('sensitive', 0.942059338092804),\n",
              " ('uhm', 0.9385665655136108),\n",
              " ('chat', 0.9378799200057983),\n",
              " ('toes', 0.93719881772995),\n",
              " ('mention', 0.9324274659156799),\n",
              " ('gay', 0.9322300553321838),\n",
              " ('rough', 0.9318049550056458),\n",
              " ('shouldve', 0.9316884875297546),\n",
              " ('hot', 0.9315028190612793),\n",
              " ('scientist', 0.9313750267028809)]"
            ]
          },
          "metadata": {},
          "execution_count": 23
        }
      ]
    },
    {
      "cell_type": "code",
      "source": [
        "model.wv['monica'] #word vector for monica"
      ],
      "metadata": {
        "colab": {
          "base_uri": "https://localhost:8080/"
        },
        "id": "nGyyNskRPmug",
        "outputId": "29d3fd87-61ff-4747-a9fe-17d382ec45c4"
      },
      "execution_count": 25,
      "outputs": [
        {
          "output_type": "execute_result",
          "data": {
            "text/plain": [
              "array([-8.09033811e-01,  5.78274190e-01,  5.33925116e-01, -1.86798379e-01,\n",
              "        5.40846050e-01, -6.29733801e-01, -5.13582230e-01,  6.93454683e-01,\n",
              "       -5.03006168e-02, -5.84272966e-02, -3.93655390e-01, -1.57421723e-01,\n",
              "        9.64083942e-04, -2.66773313e-01,  8.24569345e-01,  1.27357140e-01,\n",
              "        4.25139576e-01, -3.05440545e-01,  5.41362166e-02,  2.67661750e-01,\n",
              "        5.30929118e-02,  5.37874877e-01,  4.04174864e-01, -6.31183922e-01,\n",
              "        1.59458384e-01,  4.39698249e-01, -9.95142877e-01,  3.08850780e-02,\n",
              "        4.08238411e-01,  4.39063966e-01,  2.34010383e-01,  6.24282598e-01,\n",
              "        5.39258182e-01, -6.60832584e-01,  4.01766211e-01,  3.76639307e-01,\n",
              "       -1.01095760e+00,  9.34609026e-02, -2.26386547e-01,  1.69348821e-01,\n",
              "       -1.73750952e-01, -2.10097477e-01,  2.44252235e-01,  7.39671528e-01,\n",
              "       -7.02445284e-02, -3.55114311e-01, -2.32163638e-01,  1.62239105e-01,\n",
              "        6.74382225e-02, -2.41833091e-01, -3.70408930e-02, -7.26185560e-01,\n",
              "       -1.89366043e-01,  3.41848321e-02, -9.71579134e-01, -1.30177304e-01,\n",
              "        8.24098349e-01,  4.93185192e-01, -1.02382191e-02,  9.94050130e-02,\n",
              "       -3.82203281e-01,  2.35088468e-01, -6.80936873e-02, -2.05345929e-01,\n",
              "        5.90962581e-02, -1.69051811e-01,  5.06597340e-01,  7.40123570e-01,\n",
              "        2.03047231e-01, -6.57162666e-01, -7.99549878e-01,  2.83054382e-01,\n",
              "       -4.23925281e-01, -7.32318088e-02,  3.65706801e-01,  1.20474613e+00,\n",
              "        4.94830906e-02, -4.04388964e-01,  4.96410020e-02,  3.48465145e-01,\n",
              "       -1.53002575e-01, -4.77188021e-01,  3.55317712e-01, -5.74119329e-01,\n",
              "        6.87021554e-01,  8.57832968e-01,  1.60587534e-01, -4.13920023e-02,\n",
              "       -2.96470940e-01, -5.82042217e-01, -1.36449799e-01, -2.22408280e-01,\n",
              "        5.32593787e-01,  4.75619674e-01, -3.65487993e-01,  1.14081025e-01,\n",
              "       -1.86736450e-01, -6.85854256e-01, -5.53807974e-01,  1.04988551e+00],\n",
              "      dtype=float32)"
            ]
          },
          "metadata": {},
          "execution_count": 25
        }
      ]
    },
    {
      "cell_type": "code",
      "source": [
        "model.wv.similarity('monica','rachel')"
      ],
      "metadata": {
        "colab": {
          "base_uri": "https://localhost:8080/"
        },
        "id": "4LQK2X7KPx5Q",
        "outputId": "861bb6eb-0d47-4e65-bbc5-b359015cf431"
      },
      "execution_count": 26,
      "outputs": [
        {
          "output_type": "execute_result",
          "data": {
            "text/plain": [
              "0.92669696"
            ]
          },
          "metadata": {},
          "execution_count": 26
        }
      ]
    },
    {
      "cell_type": "code",
      "source": [
        "model.wv.similarity('joey','chef')"
      ],
      "metadata": {
        "colab": {
          "base_uri": "https://localhost:8080/"
        },
        "id": "4md-2fcuQA83",
        "outputId": "be4e3272-6892-441f-8c5b-fefe606037e6"
      },
      "execution_count": 30,
      "outputs": [
        {
          "output_type": "execute_result",
          "data": {
            "text/plain": [
              "0.59217674"
            ]
          },
          "metadata": {},
          "execution_count": 30
        }
      ]
    },
    {
      "cell_type": "code",
      "source": [
        "model.wv.similarity('monica','joey')"
      ],
      "metadata": {
        "colab": {
          "base_uri": "https://localhost:8080/"
        },
        "id": "FV-e5M48QN6P",
        "outputId": "ec251dd7-f6fb-44b1-9ac2-b8b5c6e78294"
      },
      "execution_count": 31,
      "outputs": [
        {
          "output_type": "execute_result",
          "data": {
            "text/plain": [
              "0.8294185"
            ]
          },
          "metadata": {},
          "execution_count": 31
        }
      ]
    },
    {
      "cell_type": "code",
      "source": [
        "model.wv.get_normed_vectors()\n",
        "#.get_normed_vectors(): This method returns a NumPy array containing the vectors for all the words in the vocabulary.\n",
        "# The vectors are normalized, meaning they are scaled to have a length of 1. This is a standard practice that makes it easy to calculate cosine similarity."
      ],
      "metadata": {
        "colab": {
          "base_uri": "https://localhost:8080/"
        },
        "id": "C60yC1w8QQv3",
        "outputId": "91300066-a83d-45bc-a340-b341ef7a4739"
      },
      "execution_count": 33,
      "outputs": [
        {
          "output_type": "execute_result",
          "data": {
            "text/plain": [
              "array([[-0.20864563,  0.1326938 ,  0.17647053, ..., -0.17145517,\n",
              "        -0.13065794,  0.23830888],\n",
              "       [-0.20149069,  0.07609778,  0.12979868, ..., -0.15957771,\n",
              "        -0.11480457,  0.18946266],\n",
              "       [-0.20788974,  0.13677287,  0.20799008, ..., -0.18238944,\n",
              "        -0.08974543,  0.23361088],\n",
              "       ...,\n",
              "       [-0.10330591,  0.10677546,  0.05589404, ..., -0.11315174,\n",
              "        -0.12720504,  0.13641489],\n",
              "       [-0.16977313,  0.20243652,  0.0760541 , ..., -0.11006381,\n",
              "        -0.11347207,  0.23622105],\n",
              "       [-0.14732398,  0.1407704 ,  0.08421227, ..., -0.16615108,\n",
              "        -0.15081365,  0.15688767]], dtype=float32)"
            ]
          },
          "metadata": {},
          "execution_count": 33
        }
      ]
    },
    {
      "cell_type": "code",
      "source": [
        "y = model.wv.index_to_key\n",
        "#This line gives you access to the model's vocabulary.\n",
        "#.index_to_key: This is a list of all the words that the model learned embeddings for.\n",
        "# The words are ordered by their index, which corresponds to the position of their vector in the internal vector array. It's a simple way to view the final vocabulary that your model has learned"
      ],
      "metadata": {
        "id": "5QnNax3lQQso"
      },
      "execution_count": 34,
      "outputs": []
    },
    {
      "cell_type": "code",
      "source": [
        "y[:20]"
      ],
      "metadata": {
        "colab": {
          "base_uri": "https://localhost:8080/"
        },
        "id": "hZYD-r2tQhcg",
        "outputId": "3052f374-b1b3-4a4a-a884-eec8977635b3"
      },
      "execution_count": 36,
      "outputs": [
        {
          "output_type": "execute_result",
          "data": {
            "text/plain": [
              "['ross',\n",
              " 'rachel',\n",
              " 'chandler',\n",
              " 'joey',\n",
              " 'monica',\n",
              " 'phoebe',\n",
              " 'oh',\n",
              " 'know',\n",
              " 'yeah',\n",
              " 'okay',\n",
              " 'well',\n",
              " 'hey',\n",
              " 'right',\n",
              " 'like',\n",
              " 'scene',\n",
              " 'get',\n",
              " 'im',\n",
              " 'gonna',\n",
              " 'go',\n",
              " 'one']"
            ]
          },
          "metadata": {},
          "execution_count": 36
        }
      ]
    },
    {
      "cell_type": "code",
      "source": [
        "from sklearn.decomposition import PCA"
      ],
      "metadata": {
        "id": "W-rwrKCRQ9iH"
      },
      "execution_count": 37,
      "outputs": []
    },
    {
      "cell_type": "markdown",
      "source": [
        "PCA is a dimensionality reduction technique. Word embeddings (like your 300-dimensional vectors) are very high-dimensional, making them impossible to visualize directly. PCA transforms these high-dimensional vectors into a lower-dimensional space (e.g., 2D or 3D) while retaining as much of the original variance (information) as possible."
      ],
      "metadata": {
        "id": "9hnEpTBBRT6w"
      }
    },
    {
      "cell_type": "code",
      "source": [
        "pca = PCA(n_components=3) # instance of PCA"
      ],
      "metadata": {
        "id": "muL6cMPgRDqY"
      },
      "execution_count": 38,
      "outputs": []
    },
    {
      "cell_type": "code",
      "source": [
        "X = pca.fit_transform(model.wv.get_normed_vectors())"
      ],
      "metadata": {
        "id": "vULFQJVzRHl4"
      },
      "execution_count": 39,
      "outputs": []
    },
    {
      "cell_type": "markdown",
      "source": [
        "model.wv.get_normed_vectors(): This provides the high-dimensional (300-dimensional in your case) word vectors that your Word2Vec model learned. Each row in this data represents a word vector.\n",
        "\n",
        ".fit_transform(...): This is a method that combines two steps:\n",
        "\n",
        "fit(): PCA analyzes model.wv.get_normed_vectors() to learn the principal components (the new axes that capture the most variance).\n",
        "\n",
        "transform(): PCA then projects the original high-dimensional word vectors onto these new 3 principal components, effectively reducing each 300-dimensional vector into a 3-dimensional vector.\n",
        "\n",
        "X = ...: The result of this operation (a NumPy array where each word's vector is now 3-dimensional) is stored in the variable X"
      ],
      "metadata": {
        "id": "Lb8cZ7CmScqm"
      }
    },
    {
      "cell_type": "code",
      "source": [
        "X.shape"
      ],
      "metadata": {
        "colab": {
          "base_uri": "https://localhost:8080/"
        },
        "id": "gEmcaNd9Sfu4",
        "outputId": "75049ee5-f077-44fd-c728-8d5f47cfbc79"
      },
      "execution_count": 40,
      "outputs": [
        {
          "output_type": "execute_result",
          "data": {
            "text/plain": [
              "(10751, 3)"
            ]
          },
          "metadata": {},
          "execution_count": 40
        }
      ]
    },
    {
      "cell_type": "code",
      "source": [
        "import plotly.express as px\n",
        "fig = px.scatter_3d(X[200:300],x=0,y=1,z=2, color=y[200:300])\n",
        "fig.show()"
      ],
      "metadata": {
        "colab": {
          "base_uri": "https://localhost:8080/",
          "height": 542
        },
        "id": "yfcyUGouSj65",
        "outputId": "76c479a6-c13a-435e-b2ff-eaee0e96f02f"
      },
      "execution_count": 41,
      "outputs": [
        {
          "output_type": "display_data",
          "data": {
            "text/html": [
              "<html>\n",
              "<head><meta charset=\"utf-8\" /></head>\n",
              "<body>\n",
              "    <div>            <script src=\"https://cdnjs.cloudflare.com/ajax/libs/mathjax/2.7.5/MathJax.js?config=TeX-AMS-MML_SVG\"></script><script type=\"text/javascript\">if (window.MathJax && window.MathJax.Hub && window.MathJax.Hub.Config) {window.MathJax.Hub.Config({SVG: {font: \"STIX-Web\"}});}</script>                <script type=\"text/javascript\">window.PlotlyConfig = {MathJaxConfig: 'local'};</script>\n",
              "        <script charset=\"utf-8\" src=\"https://cdn.plot.ly/plotly-2.35.2.min.js\"></script>                <div id=\"0908cf2d-76d1-41b1-b637-2412b054a5f2\" class=\"plotly-graph-div\" style=\"height:525px; width:100%;\"></div>            <script type=\"text/javascript\">                                    window.PLOTLYENV=window.PLOTLYENV || {};                                    if (document.getElementById(\"0908cf2d-76d1-41b1-b637-2412b054a5f2\")) {                    Plotly.newPlot(                        \"0908cf2d-76d1-41b1-b637-2412b054a5f2\",                        [{\"hovertemplate\":\"color=points\\u003cbr\\u003e0=%{x}\\u003cbr\\u003e1=%{y}\\u003cbr\\u003e2=%{z}\\u003cextra\\u003e\\u003c\\u002fextra\\u003e\",\"legendgroup\":\"points\",\"marker\":{\"color\":\"#636efa\",\"symbol\":\"circle\"},\"mode\":\"markers\",\"name\":\"points\",\"scene\":\"scene\",\"showlegend\":true,\"x\":[-0.26827395],\"y\":[0.010184556],\"z\":[0.025945723],\"type\":\"scatter3d\"},{\"hovertemplate\":\"color=comes\\u003cbr\\u003e0=%{x}\\u003cbr\\u003e1=%{y}\\u003cbr\\u003e2=%{z}\\u003cextra\\u003e\\u003c\\u002fextra\\u003e\",\"legendgroup\":\"comes\",\"marker\":{\"color\":\"#EF553B\",\"symbol\":\"circle\"},\"mode\":\"markers\",\"name\":\"comes\",\"scene\":\"scene\",\"showlegend\":true,\"x\":[-0.48727345],\"y\":[-0.26256984],\"z\":[-0.15641546],\"type\":\"scatter3d\"},{\"hovertemplate\":\"color=wanted\\u003cbr\\u003e0=%{x}\\u003cbr\\u003e1=%{y}\\u003cbr\\u003e2=%{z}\\u003cextra\\u003e\\u003c\\u002fextra\\u003e\",\"legendgroup\":\"wanted\",\"marker\":{\"color\":\"#00cc96\",\"symbol\":\"circle\"},\"mode\":\"markers\",\"name\":\"wanted\",\"scene\":\"scene\",\"showlegend\":true,\"x\":[0.63338995],\"y\":[0.18028876],\"z\":[-0.2542972],\"type\":\"scatter3d\"},{\"hovertemplate\":\"color=ready\\u003cbr\\u003e0=%{x}\\u003cbr\\u003e1=%{y}\\u003cbr\\u003e2=%{z}\\u003cextra\\u003e\\u003c\\u002fextra\\u003e\",\"legendgroup\":\"ready\",\"marker\":{\"color\":\"#ab63fa\",\"symbol\":\"circle\"},\"mode\":\"markers\",\"name\":\"ready\",\"scene\":\"scene\",\"showlegend\":true,\"x\":[0.00011678226],\"y\":[-0.16469516],\"z\":[-0.23816174],\"type\":\"scatter3d\"},{\"hovertemplate\":\"color=bathroom\\u003cbr\\u003e0=%{x}\\u003cbr\\u003e1=%{y}\\u003cbr\\u003e2=%{z}\\u003cextra\\u003e\\u003c\\u002fextra\\u003e\",\"legendgroup\":\"bathroom\",\"marker\":{\"color\":\"#FFA15A\",\"symbol\":\"circle\"},\"mode\":\"markers\",\"name\":\"bathroom\",\"scene\":\"scene\",\"showlegend\":true,\"x\":[-0.4492793],\"y\":[-0.41859195],\"z\":[-0.24385631],\"type\":\"scatter3d\"},{\"hovertemplate\":\"color=laughs\\u003cbr\\u003e0=%{x}\\u003cbr\\u003e1=%{y}\\u003cbr\\u003e2=%{z}\\u003cextra\\u003e\\u003c\\u002fextra\\u003e\",\"legendgroup\":\"laughs\",\"marker\":{\"color\":\"#19d3f3\",\"symbol\":\"circle\"},\"mode\":\"markers\",\"name\":\"laughs\",\"scene\":\"scene\",\"showlegend\":true,\"x\":[0.11809513],\"y\":[-0.3965056],\"z\":[0.059849143],\"type\":\"scatter3d\"},{\"hovertemplate\":\"color=ben\\u003cbr\\u003e0=%{x}\\u003cbr\\u003e1=%{y}\\u003cbr\\u003e2=%{z}\\u003cextra\\u003e\\u003c\\u002fextra\\u003e\",\"legendgroup\":\"ben\",\"marker\":{\"color\":\"#FF6692\",\"symbol\":\"circle\"},\"mode\":\"markers\",\"name\":\"ben\",\"scene\":\"scene\",\"showlegend\":true,\"x\":[-0.14760354],\"y\":[-0.36908183],\"z\":[-0.07456142],\"type\":\"scatter3d\"},{\"hovertemplate\":\"color=lets\\u003cbr\\u003e0=%{x}\\u003cbr\\u003e1=%{y}\\u003cbr\\u003e2=%{z}\\u003cextra\\u003e\\u003c\\u002fextra\\u003e\",\"legendgroup\":\"lets\",\"marker\":{\"color\":\"#B6E880\",\"symbol\":\"circle\"},\"mode\":\"markers\",\"name\":\"lets\",\"scene\":\"scene\",\"showlegend\":true,\"x\":[0.14209634],\"y\":[0.012046695],\"z\":[-0.2777236],\"type\":\"scatter3d\"},{\"hovertemplate\":\"color=thinking\\u003cbr\\u003e0=%{x}\\u003cbr\\u003e1=%{y}\\u003cbr\\u003e2=%{z}\\u003cextra\\u003e\\u003c\\u002fextra\\u003e\",\"legendgroup\":\"thinking\",\"marker\":{\"color\":\"#FF97FF\",\"symbol\":\"circle\"},\"mode\":\"markers\",\"name\":\"thinking\",\"scene\":\"scene\",\"showlegend\":true,\"x\":[0.5889727],\"y\":[0.13093138],\"z\":[-0.12990671],\"type\":\"scatter3d\"},{\"hovertemplate\":\"color=party\\u003cbr\\u003e0=%{x}\\u003cbr\\u003e1=%{y}\\u003cbr\\u003e2=%{z}\\u003cextra\\u003e\\u003c\\u002fextra\\u003e\",\"legendgroup\":\"party\",\"marker\":{\"color\":\"#FECB52\",\"symbol\":\"circle\"},\"mode\":\"markers\",\"name\":\"party\",\"scene\":\"scene\",\"showlegend\":true,\"x\":[0.05887366],\"y\":[-0.02900932],\"z\":[-0.08785099],\"type\":\"scatter3d\"},{\"hovertemplate\":\"color=friends\\u003cbr\\u003e0=%{x}\\u003cbr\\u003e1=%{y}\\u003cbr\\u003e2=%{z}\\u003cextra\\u003e\\u003c\\u002fextra\\u003e\",\"legendgroup\":\"friends\",\"marker\":{\"color\":\"#636efa\",\"symbol\":\"circle\"},\"mode\":\"markers\",\"name\":\"friends\",\"scene\":\"scene\",\"showlegend\":true,\"x\":[0.33818913],\"y\":[0.41488597],\"z\":[-0.19544196],\"type\":\"scatter3d\"},{\"hovertemplate\":\"color=everything\\u003cbr\\u003e0=%{x}\\u003cbr\\u003e1=%{y}\\u003cbr\\u003e2=%{z}\\u003cextra\\u003e\\u003c\\u002fextra\\u003e\",\"legendgroup\":\"everything\",\"marker\":{\"color\":\"#EF553B\",\"symbol\":\"circle\"},\"mode\":\"markers\",\"name\":\"everything\",\"scene\":\"scene\",\"showlegend\":true,\"x\":[0.5241624],\"y\":[0.14664763],\"z\":[-0.1313231],\"type\":\"scatter3d\"},{\"hovertemplate\":\"color=best\\u003cbr\\u003e0=%{x}\\u003cbr\\u003e1=%{y}\\u003cbr\\u003e2=%{z}\\u003cextra\\u003e\\u003c\\u002fextra\\u003e\",\"legendgroup\":\"best\",\"marker\":{\"color\":\"#00cc96\",\"symbol\":\"circle\"},\"mode\":\"markers\",\"name\":\"best\",\"scene\":\"scene\",\"showlegend\":true,\"x\":[0.53533214],\"y\":[0.30650207],\"z\":[-0.19070339],\"type\":\"scatter3d\"},{\"hovertemplate\":\"color=three\\u003cbr\\u003e0=%{x}\\u003cbr\\u003e1=%{y}\\u003cbr\\u003e2=%{z}\\u003cextra\\u003e\\u003c\\u002fextra\\u003e\",\"legendgroup\":\"three\",\"marker\":{\"color\":\"#ab63fa\",\"symbol\":\"circle\"},\"mode\":\"markers\",\"name\":\"three\",\"scene\":\"scene\",\"showlegend\":true,\"x\":[0.13731945],\"y\":[0.53366625],\"z\":[-0.18583632],\"type\":\"scatter3d\"},{\"hovertemplate\":\"color=always\\u003cbr\\u003e0=%{x}\\u003cbr\\u003e1=%{y}\\u003cbr\\u003e2=%{z}\\u003cextra\\u003e\\u003c\\u002fextra\\u003e\",\"legendgroup\":\"always\",\"marker\":{\"color\":\"#FFA15A\",\"symbol\":\"circle\"},\"mode\":\"markers\",\"name\":\"always\",\"scene\":\"scene\",\"showlegend\":true,\"x\":[0.5190378],\"y\":[0.34876132],\"z\":[-0.17749465],\"type\":\"scatter3d\"},{\"hovertemplate\":\"color=coffee\\u003cbr\\u003e0=%{x}\\u003cbr\\u003e1=%{y}\\u003cbr\\u003e2=%{z}\\u003cextra\\u003e\\u003c\\u002fextra\\u003e\",\"legendgroup\":\"coffee\",\"marker\":{\"color\":\"#19d3f3\",\"symbol\":\"circle\"},\"mode\":\"markers\",\"name\":\"coffee\",\"scene\":\"scene\",\"showlegend\":true,\"x\":[-0.5085131],\"y\":[-0.09883446],\"z\":[-0.24908048],\"type\":\"scatter3d\"},{\"hovertemplate\":\"color=opens\\u003cbr\\u003e0=%{x}\\u003cbr\\u003e1=%{y}\\u003cbr\\u003e2=%{z}\\u003cextra\\u003e\\u003c\\u002fextra\\u003e\",\"legendgroup\":\"opens\",\"marker\":{\"color\":\"#FF6692\",\"symbol\":\"circle\"},\"mode\":\"markers\",\"name\":\"opens\",\"scene\":\"scene\",\"showlegend\":true,\"x\":[-0.48688596],\"y\":[-0.2657119],\"z\":[-0.1839853],\"type\":\"scatter3d\"},{\"hovertemplate\":\"color=happened\\u003cbr\\u003e0=%{x}\\u003cbr\\u003e1=%{y}\\u003cbr\\u003e2=%{z}\\u003cextra\\u003e\\u003c\\u002fextra\\u003e\",\"legendgroup\":\"happened\",\"marker\":{\"color\":\"#B6E880\",\"symbol\":\"circle\"},\"mode\":\"markers\",\"name\":\"happened\",\"scene\":\"scene\",\"showlegend\":true,\"x\":[0.53989464],\"y\":[0.05395396],\"z\":[-0.08613145],\"type\":\"scatter3d\"},{\"hovertemplate\":\"color=tonight\\u003cbr\\u003e0=%{x}\\u003cbr\\u003e1=%{y}\\u003cbr\\u003e2=%{z}\\u003cextra\\u003e\\u003c\\u002fextra\\u003e\",\"legendgroup\":\"tonight\",\"marker\":{\"color\":\"#FF97FF\",\"symbol\":\"circle\"},\"mode\":\"markers\",\"name\":\"tonight\",\"scene\":\"scene\",\"showlegend\":true,\"x\":[0.5584129],\"y\":[0.0046637207],\"z\":[-0.16401589],\"type\":\"scatter3d\"},{\"hovertemplate\":\"color=went\\u003cbr\\u003e0=%{x}\\u003cbr\\u003e1=%{y}\\u003cbr\\u003e2=%{z}\\u003cextra\\u003e\\u003c\\u002fextra\\u003e\",\"legendgroup\":\"went\",\"marker\":{\"color\":\"#FECB52\",\"symbol\":\"circle\"},\"mode\":\"markers\",\"name\":\"went\",\"scene\":\"scene\",\"showlegend\":true,\"x\":[0.14906433],\"y\":[0.30856094],\"z\":[-0.063123524],\"type\":\"scatter3d\"},{\"hovertemplate\":\"color=sees\\u003cbr\\u003e0=%{x}\\u003cbr\\u003e1=%{y}\\u003cbr\\u003e2=%{z}\\u003cextra\\u003e\\u003c\\u002fextra\\u003e\",\"legendgroup\":\"sees\",\"marker\":{\"color\":\"#636efa\",\"symbol\":\"circle\"},\"mode\":\"markers\",\"name\":\"sees\",\"scene\":\"scene\",\"showlegend\":true,\"x\":[-0.501308],\"y\":[-0.48958722],\"z\":[-0.13502574],\"type\":\"scatter3d\"},{\"hovertemplate\":\"color=minute\\u003cbr\\u003e0=%{x}\\u003cbr\\u003e1=%{y}\\u003cbr\\u003e2=%{z}\\u003cextra\\u003e\\u003c\\u002fextra\\u003e\",\"legendgroup\":\"minute\",\"marker\":{\"color\":\"#EF553B\",\"symbol\":\"circle\"},\"mode\":\"markers\",\"name\":\"minute\",\"scene\":\"scene\",\"showlegend\":true,\"x\":[0.18876037],\"y\":[-0.05528798],\"z\":[-0.30264384],\"type\":\"scatter3d\"},{\"hovertemplate\":\"color=bedroom\\u003cbr\\u003e0=%{x}\\u003cbr\\u003e1=%{y}\\u003cbr\\u003e2=%{z}\\u003cextra\\u003e\\u003c\\u002fextra\\u003e\",\"legendgroup\":\"bedroom\",\"marker\":{\"color\":\"#00cc96\",\"symbol\":\"circle\"},\"mode\":\"markers\",\"name\":\"bedroom\",\"scene\":\"scene\",\"showlegend\":true,\"x\":[-0.5284303],\"y\":[-0.40708223],\"z\":[-0.28328794],\"type\":\"scatter3d\"},{\"hovertemplate\":\"color=else\\u003cbr\\u003e0=%{x}\\u003cbr\\u003e1=%{y}\\u003cbr\\u003e2=%{z}\\u003cextra\\u003e\\u003c\\u002fextra\\u003e\",\"legendgroup\":\"else\",\"marker\":{\"color\":\"#ab63fa\",\"symbol\":\"circle\"},\"mode\":\"markers\",\"name\":\"else\",\"scene\":\"scene\",\"showlegend\":true,\"x\":[0.54406416],\"y\":[0.29498115],\"z\":[-0.24330443],\"type\":\"scatter3d\"},{\"hovertemplate\":\"color=leaves\\u003cbr\\u003e0=%{x}\\u003cbr\\u003e1=%{y}\\u003cbr\\u003e2=%{z}\\u003cextra\\u003e\\u003c\\u002fextra\\u003e\",\"legendgroup\":\"leaves\",\"marker\":{\"color\":\"#FFA15A\",\"symbol\":\"circle\"},\"mode\":\"markers\",\"name\":\"leaves\",\"scene\":\"scene\",\"showlegend\":true,\"x\":[-0.45980412],\"y\":[-0.3922924],\"z\":[-0.08556688],\"type\":\"scatter3d\"},{\"hovertemplate\":\"color=ask\\u003cbr\\u003e0=%{x}\\u003cbr\\u003e1=%{y}\\u003cbr\\u003e2=%{z}\\u003cextra\\u003e\\u003c\\u002fextra\\u003e\",\"legendgroup\":\"ask\",\"marker\":{\"color\":\"#19d3f3\",\"symbol\":\"circle\"},\"mode\":\"markers\",\"name\":\"ask\",\"scene\":\"scene\",\"showlegend\":true,\"x\":[0.5990302],\"y\":[0.013626382],\"z\":[-0.22717369],\"type\":\"scatter3d\"},{\"hovertemplate\":\"color=old\\u003cbr\\u003e0=%{x}\\u003cbr\\u003e1=%{y}\\u003cbr\\u003e2=%{z}\\u003cextra\\u003e\\u003c\\u002fextra\\u003e\",\"legendgroup\":\"old\",\"marker\":{\"color\":\"#FF6692\",\"symbol\":\"circle\"},\"mode\":\"markers\",\"name\":\"old\",\"scene\":\"scene\",\"showlegend\":true,\"x\":[0.054803625],\"y\":[0.4053603],\"z\":[-0.0958547],\"type\":\"scatter3d\"},{\"hovertemplate\":\"color=doesnt\\u003cbr\\u003e0=%{x}\\u003cbr\\u003e1=%{y}\\u003cbr\\u003e2=%{z}\\u003cextra\\u003e\\u003c\\u002fextra\\u003e\",\"legendgroup\":\"doesnt\",\"marker\":{\"color\":\"#B6E880\",\"symbol\":\"circle\"},\"mode\":\"markers\",\"name\":\"doesnt\",\"scene\":\"scene\",\"showlegend\":true,\"x\":[0.52184594],\"y\":[0.27179977],\"z\":[-0.19096673],\"type\":\"scatter3d\"},{\"hovertemplate\":\"color=runs\\u003cbr\\u003e0=%{x}\\u003cbr\\u003e1=%{y}\\u003cbr\\u003e2=%{z}\\u003cextra\\u003e\\u003c\\u002fextra\\u003e\",\"legendgroup\":\"runs\",\"marker\":{\"color\":\"#FF97FF\",\"symbol\":\"circle\"},\"mode\":\"markers\",\"name\":\"runs\",\"scene\":\"scene\",\"showlegend\":true,\"x\":[-0.5653952],\"y\":[-0.29200414],\"z\":[-0.16021478],\"type\":\"scatter3d\"},{\"hovertemplate\":\"color=keep\\u003cbr\\u003e0=%{x}\\u003cbr\\u003e1=%{y}\\u003cbr\\u003e2=%{z}\\u003cextra\\u003e\\u003c\\u002fextra\\u003e\",\"legendgroup\":\"keep\",\"marker\":{\"color\":\"#FECB52\",\"symbol\":\"circle\"},\"mode\":\"markers\",\"name\":\"keep\",\"scene\":\"scene\",\"showlegend\":true,\"x\":[0.30776322],\"y\":[0.26051572],\"z\":[-0.120602906],\"type\":\"scatter3d\"},{\"hovertemplate\":\"color=wrong\\u003cbr\\u003e0=%{x}\\u003cbr\\u003e1=%{y}\\u003cbr\\u003e2=%{z}\\u003cextra\\u003e\\u003c\\u002fextra\\u003e\",\"legendgroup\":\"wrong\",\"marker\":{\"color\":\"#636efa\",\"symbol\":\"circle\"},\"mode\":\"markers\",\"name\":\"wrong\",\"scene\":\"scene\",\"showlegend\":true,\"x\":[0.47755563],\"y\":[-0.0060435385],\"z\":[-0.049430847],\"type\":\"scatter3d\"},{\"hovertemplate\":\"color=home\\u003cbr\\u003e0=%{x}\\u003cbr\\u003e1=%{y}\\u003cbr\\u003e2=%{z}\\u003cextra\\u003e\\u003c\\u002fextra\\u003e\",\"legendgroup\":\"home\",\"marker\":{\"color\":\"#EF553B\",\"symbol\":\"circle\"},\"mode\":\"markers\",\"name\":\"home\",\"scene\":\"scene\",\"showlegend\":true,\"x\":[0.21441624],\"y\":[0.19822496],\"z\":[-0.22796488],\"type\":\"scatter3d\"},{\"hovertemplate\":\"color=job\\u003cbr\\u003e0=%{x}\\u003cbr\\u003e1=%{y}\\u003cbr\\u003e2=%{z}\\u003cextra\\u003e\\u003c\\u002fextra\\u003e\",\"legendgroup\":\"job\",\"marker\":{\"color\":\"#00cc96\",\"symbol\":\"circle\"},\"mode\":\"markers\",\"name\":\"job\",\"scene\":\"scene\",\"showlegend\":true,\"x\":[0.3537708],\"y\":[0.3624973],\"z\":[-0.18412846],\"type\":\"scatter3d\"},{\"hovertemplate\":\"color=kind\\u003cbr\\u003e0=%{x}\\u003cbr\\u003e1=%{y}\\u003cbr\\u003e2=%{z}\\u003cextra\\u003e\\u003c\\u002fextra\\u003e\",\"legendgroup\":\"kind\",\"marker\":{\"color\":\"#ab63fa\",\"symbol\":\"circle\"},\"mode\":\"markers\",\"name\":\"kind\",\"scene\":\"scene\",\"showlegend\":true,\"x\":[0.5044748],\"y\":[0.29222447],\"z\":[-0.1330589],\"type\":\"scatter3d\"},{\"hovertemplate\":\"color=try\\u003cbr\\u003e0=%{x}\\u003cbr\\u003e1=%{y}\\u003cbr\\u003e2=%{z}\\u003cextra\\u003e\\u003c\\u002fextra\\u003e\",\"legendgroup\":\"try\",\"marker\":{\"color\":\"#FFA15A\",\"symbol\":\"circle\"},\"mode\":\"markers\",\"name\":\"try\",\"scene\":\"scene\",\"showlegend\":true,\"x\":[0.3500288],\"y\":[0.24909225],\"z\":[-0.16646099],\"type\":\"scatter3d\"},{\"hovertemplate\":\"color=funny\\u003cbr\\u003e0=%{x}\\u003cbr\\u003e1=%{y}\\u003cbr\\u003e2=%{z}\\u003cextra\\u003e\\u003c\\u002fextra\\u003e\",\"legendgroup\":\"funny\",\"marker\":{\"color\":\"#19d3f3\",\"symbol\":\"circle\"},\"mode\":\"markers\",\"name\":\"funny\",\"scene\":\"scene\",\"showlegend\":true,\"x\":[0.50510097],\"y\":[-0.11447753],\"z\":[-0.03261912],\"type\":\"scatter3d\"},{\"hovertemplate\":\"color=makes\\u003cbr\\u003e0=%{x}\\u003cbr\\u003e1=%{y}\\u003cbr\\u003e2=%{z}\\u003cextra\\u003e\\u003c\\u002fextra\\u003e\",\"legendgroup\":\"makes\",\"marker\":{\"color\":\"#FF6692\",\"symbol\":\"circle\"},\"mode\":\"markers\",\"name\":\"makes\",\"scene\":\"scene\",\"showlegend\":true,\"x\":[0.21160376],\"y\":[0.26654026],\"z\":[-0.10181904],\"type\":\"scatter3d\"},{\"hovertemplate\":\"color=dad\\u003cbr\\u003e0=%{x}\\u003cbr\\u003e1=%{y}\\u003cbr\\u003e2=%{z}\\u003cextra\\u003e\\u003c\\u002fextra\\u003e\",\"legendgroup\":\"dad\",\"marker\":{\"color\":\"#B6E880\",\"symbol\":\"circle\"},\"mode\":\"markers\",\"name\":\"dad\",\"scene\":\"scene\",\"showlegend\":true,\"x\":[0.44135654],\"y\":[-0.010635674],\"z\":[-0.041566014],\"type\":\"scatter3d\"},{\"hovertemplate\":\"color=mom\\u003cbr\\u003e0=%{x}\\u003cbr\\u003e1=%{y}\\u003cbr\\u003e2=%{z}\\u003cextra\\u003e\\u003c\\u002fextra\\u003e\",\"legendgroup\":\"mom\",\"marker\":{\"color\":\"#FF97FF\",\"symbol\":\"circle\"},\"mode\":\"markers\",\"name\":\"mom\",\"scene\":\"scene\",\"showlegend\":true,\"x\":[0.5177867],\"y\":[0.08915499],\"z\":[-0.064110935],\"type\":\"scatter3d\"},{\"hovertemplate\":\"color=money\\u003cbr\\u003e0=%{x}\\u003cbr\\u003e1=%{y}\\u003cbr\\u003e2=%{z}\\u003cextra\\u003e\\u003c\\u002fextra\\u003e\",\"legendgroup\":\"money\",\"marker\":{\"color\":\"#FECB52\",\"symbol\":\"circle\"},\"mode\":\"markers\",\"name\":\"money\",\"scene\":\"scene\",\"showlegend\":true,\"x\":[0.3580088],\"y\":[0.39553353],\"z\":[-0.16875225],\"type\":\"scatter3d\"},{\"hovertemplate\":\"color=whole\\u003cbr\\u003e0=%{x}\\u003cbr\\u003e1=%{y}\\u003cbr\\u003e2=%{z}\\u003cextra\\u003e\\u003c\\u002fextra\\u003e\",\"legendgroup\":\"whole\",\"marker\":{\"color\":\"#636efa\",\"symbol\":\"circle\"},\"mode\":\"markers\",\"name\":\"whole\",\"scene\":\"scene\",\"showlegend\":true,\"x\":[0.25249755],\"y\":[0.42251185],\"z\":[-0.196091],\"type\":\"scatter3d\"},{\"hovertemplate\":\"color=hard\\u003cbr\\u003e0=%{x}\\u003cbr\\u003e1=%{y}\\u003cbr\\u003e2=%{z}\\u003cextra\\u003e\\u003c\\u002fextra\\u003e\",\"legendgroup\":\"hard\",\"marker\":{\"color\":\"#EF553B\",\"symbol\":\"circle\"},\"mode\":\"markers\",\"name\":\"hard\",\"scene\":\"scene\",\"showlegend\":true,\"x\":[0.5466259],\"y\":[0.17986596],\"z\":[-0.13720804],\"type\":\"scatter3d\"},{\"hovertemplate\":\"color=charlie\\u003cbr\\u003e0=%{x}\\u003cbr\\u003e1=%{y}\\u003cbr\\u003e2=%{z}\\u003cextra\\u003e\\u003c\\u002fextra\\u003e\",\"legendgroup\":\"charlie\",\"marker\":{\"color\":\"#00cc96\",\"symbol\":\"circle\"},\"mode\":\"markers\",\"name\":\"charlie\",\"scene\":\"scene\",\"showlegend\":true,\"x\":[0.05409213],\"y\":[-0.27432692],\"z\":[-0.026617646],\"type\":\"scatter3d\"},{\"hovertemplate\":\"color=emma\\u003cbr\\u003e0=%{x}\\u003cbr\\u003e1=%{y}\\u003cbr\\u003e2=%{z}\\u003cextra\\u003e\\u003c\\u002fextra\\u003e\",\"legendgroup\":\"emma\",\"marker\":{\"color\":\"#ab63fa\",\"symbol\":\"circle\"},\"mode\":\"markers\",\"name\":\"emma\",\"scene\":\"scene\",\"showlegend\":true,\"x\":[-0.1410258],\"y\":[-0.2597373],\"z\":[0.050375164],\"type\":\"scatter3d\"},{\"hovertemplate\":\"color=grabs\\u003cbr\\u003e0=%{x}\\u003cbr\\u003e1=%{y}\\u003cbr\\u003e2=%{z}\\u003cextra\\u003e\\u003c\\u002fextra\\u003e\",\"legendgroup\":\"grabs\",\"marker\":{\"color\":\"#FFA15A\",\"symbol\":\"circle\"},\"mode\":\"markers\",\"name\":\"grabs\",\"scene\":\"scene\",\"showlegend\":true,\"x\":[-0.5566073],\"y\":[-0.015509918],\"z\":[-0.1116786],\"type\":\"scatter3d\"},{\"hovertemplate\":\"color=show\\u003cbr\\u003e0=%{x}\\u003cbr\\u003e1=%{y}\\u003cbr\\u003e2=%{z}\\u003cextra\\u003e\\u003c\\u002fextra\\u003e\",\"legendgroup\":\"show\",\"marker\":{\"color\":\"#19d3f3\",\"symbol\":\"circle\"},\"mode\":\"markers\",\"name\":\"show\",\"scene\":\"scene\",\"showlegend\":true,\"x\":[0.05289717],\"y\":[0.20973402],\"z\":[-0.03525865],\"type\":\"scatter3d\"},{\"hovertemplate\":\"color=life\\u003cbr\\u003e0=%{x}\\u003cbr\\u003e1=%{y}\\u003cbr\\u003e2=%{z}\\u003cextra\\u003e\\u003c\\u002fextra\\u003e\",\"legendgroup\":\"life\",\"marker\":{\"color\":\"#FF6692\",\"symbol\":\"circle\"},\"mode\":\"markers\",\"name\":\"life\",\"scene\":\"scene\",\"showlegend\":true,\"x\":[0.43892276],\"y\":[0.46423414],\"z\":[-0.22116762],\"type\":\"scatter3d\"},{\"hovertemplate\":\"color=years\\u003cbr\\u003e0=%{x}\\u003cbr\\u003e1=%{y}\\u003cbr\\u003e2=%{z}\\u003cextra\\u003e\\u003c\\u002fextra\\u003e\",\"legendgroup\":\"years\",\"marker\":{\"color\":\"#B6E880\",\"symbol\":\"circle\"},\"mode\":\"markers\",\"name\":\"years\",\"scene\":\"scene\",\"showlegend\":true,\"x\":[0.29075503],\"y\":[0.55556226],\"z\":[-0.28658885],\"type\":\"scatter3d\"},{\"hovertemplate\":\"color=sex\\u003cbr\\u003e0=%{x}\\u003cbr\\u003e1=%{y}\\u003cbr\\u003e2=%{z}\\u003cextra\\u003e\\u003c\\u002fextra\\u003e\",\"legendgroup\":\"sex\",\"marker\":{\"color\":\"#FF97FF\",\"symbol\":\"circle\"},\"mode\":\"markers\",\"name\":\"sex\",\"scene\":\"scene\",\"showlegend\":true,\"x\":[0.49031615],\"y\":[0.30602095],\"z\":[-0.15420026],\"type\":\"scatter3d\"},{\"hovertemplate\":\"color=theyre\\u003cbr\\u003e0=%{x}\\u003cbr\\u003e1=%{y}\\u003cbr\\u003e2=%{z}\\u003cextra\\u003e\\u003c\\u002fextra\\u003e\",\"legendgroup\":\"theyre\",\"marker\":{\"color\":\"#FECB52\",\"symbol\":\"circle\"},\"mode\":\"markers\",\"name\":\"theyre\",\"scene\":\"scene\",\"showlegend\":true,\"x\":[0.15292959],\"y\":[0.08412008],\"z\":[-0.08783263],\"type\":\"scatter3d\"},{\"hovertemplate\":\"color=office\\u003cbr\\u003e0=%{x}\\u003cbr\\u003e1=%{y}\\u003cbr\\u003e2=%{z}\\u003cextra\\u003e\\u003c\\u002fextra\\u003e\",\"legendgroup\":\"office\",\"marker\":{\"color\":\"#636efa\",\"symbol\":\"circle\"},\"mode\":\"markers\",\"name\":\"office\",\"scene\":\"scene\",\"showlegend\":true,\"x\":[-0.4333675],\"y\":[-0.25509185],\"z\":[-0.2713843],\"type\":\"scatter3d\"},{\"hovertemplate\":\"color=today\\u003cbr\\u003e0=%{x}\\u003cbr\\u003e1=%{y}\\u003cbr\\u003e2=%{z}\\u003cextra\\u003e\\u003c\\u002fextra\\u003e\",\"legendgroup\":\"today\",\"marker\":{\"color\":\"#EF553B\",\"symbol\":\"circle\"},\"mode\":\"markers\",\"name\":\"today\",\"scene\":\"scene\",\"showlegend\":true,\"x\":[0.42497241],\"y\":[0.2261844],\"z\":[-0.06072128],\"type\":\"scatter3d\"},{\"hovertemplate\":\"color=move\\u003cbr\\u003e0=%{x}\\u003cbr\\u003e1=%{y}\\u003cbr\\u003e2=%{z}\\u003cextra\\u003e\\u003c\\u002fextra\\u003e\",\"legendgroup\":\"move\",\"marker\":{\"color\":\"#00cc96\",\"symbol\":\"circle\"},\"mode\":\"markers\",\"name\":\"move\",\"scene\":\"scene\",\"showlegend\":true,\"x\":[0.12027509],\"y\":[0.16441071],\"z\":[-0.12263614],\"type\":\"scatter3d\"},{\"hovertemplate\":\"color=opening\\u003cbr\\u003e0=%{x}\\u003cbr\\u003e1=%{y}\\u003cbr\\u003e2=%{z}\\u003cextra\\u003e\\u003c\\u002fextra\\u003e\",\"legendgroup\":\"opening\",\"marker\":{\"color\":\"#ab63fa\",\"symbol\":\"circle\"},\"mode\":\"markers\",\"name\":\"opening\",\"scene\":\"scene\",\"showlegend\":true,\"x\":[-0.5071284],\"y\":[-0.5174484],\"z\":[-0.30337125],\"type\":\"scatter3d\"},{\"hovertemplate\":\"color=totally\\u003cbr\\u003e0=%{x}\\u003cbr\\u003e1=%{y}\\u003cbr\\u003e2=%{z}\\u003cextra\\u003e\\u003c\\u002fextra\\u003e\",\"legendgroup\":\"totally\",\"marker\":{\"color\":\"#FFA15A\",\"symbol\":\"circle\"},\"mode\":\"markers\",\"name\":\"totally\",\"scene\":\"scene\",\"showlegend\":true,\"x\":[0.4788692],\"y\":[0.032681286],\"z\":[-0.004213333],\"type\":\"scatter3d\"},{\"hovertemplate\":\"color=care\\u003cbr\\u003e0=%{x}\\u003cbr\\u003e1=%{y}\\u003cbr\\u003e2=%{z}\\u003cextra\\u003e\\u003c\\u002fextra\\u003e\",\"legendgroup\":\"care\",\"marker\":{\"color\":\"#19d3f3\",\"symbol\":\"circle\"},\"mode\":\"markers\",\"name\":\"care\",\"scene\":\"scene\",\"showlegend\":true,\"x\":[0.5624027],\"y\":[0.1167534],\"z\":[-0.14985454],\"type\":\"scatter3d\"},{\"hovertemplate\":\"color=behind\\u003cbr\\u003e0=%{x}\\u003cbr\\u003e1=%{y}\\u003cbr\\u003e2=%{z}\\u003cextra\\u003e\\u003c\\u002fextra\\u003e\",\"legendgroup\":\"behind\",\"marker\":{\"color\":\"#FF6692\",\"symbol\":\"circle\"},\"mode\":\"markers\",\"name\":\"behind\",\"scene\":\"scene\",\"showlegend\":true,\"x\":[-0.60362387],\"y\":[-0.21557754],\"z\":[-0.15364027],\"type\":\"scatter3d\"},{\"hovertemplate\":\"color=frank\\u003cbr\\u003e0=%{x}\\u003cbr\\u003e1=%{y}\\u003cbr\\u003e2=%{z}\\u003cextra\\u003e\\u003c\\u002fextra\\u003e\",\"legendgroup\":\"frank\",\"marker\":{\"color\":\"#B6E880\",\"symbol\":\"circle\"},\"mode\":\"markers\",\"name\":\"frank\",\"scene\":\"scene\",\"showlegend\":true,\"x\":[0.3061319],\"y\":[-0.27950567],\"z\":[-0.08429843],\"type\":\"scatter3d\"},{\"hovertemplate\":\"color=puts\\u003cbr\\u003e0=%{x}\\u003cbr\\u003e1=%{y}\\u003cbr\\u003e2=%{z}\\u003cextra\\u003e\\u003c\\u002fextra\\u003e\",\"legendgroup\":\"puts\",\"marker\":{\"color\":\"#FF97FF\",\"symbol\":\"circle\"},\"mode\":\"markers\",\"name\":\"puts\",\"scene\":\"scene\",\"showlegend\":true,\"x\":[-0.58569217],\"y\":[0.09000577],\"z\":[-0.1377179],\"type\":\"scatter3d\"},{\"hovertemplate\":\"color=watch\\u003cbr\\u003e0=%{x}\\u003cbr\\u003e1=%{y}\\u003cbr\\u003e2=%{z}\\u003cextra\\u003e\\u003c\\u002fextra\\u003e\",\"legendgroup\":\"watch\",\"marker\":{\"color\":\"#FECB52\",\"symbol\":\"circle\"},\"mode\":\"markers\",\"name\":\"watch\",\"scene\":\"scene\",\"showlegend\":true,\"x\":[0.15784664],\"y\":[0.05089611],\"z\":[0.0118172765],\"type\":\"scatter3d\"},{\"hovertemplate\":\"color=living\\u003cbr\\u003e0=%{x}\\u003cbr\\u003e1=%{y}\\u003cbr\\u003e2=%{z}\\u003cextra\\u003e\\u003c\\u002fextra\\u003e\",\"legendgroup\":\"living\",\"marker\":{\"color\":\"#636efa\",\"symbol\":\"circle\"},\"mode\":\"markers\",\"name\":\"living\",\"scene\":\"scene\",\"showlegend\":true,\"x\":[-0.26394087],\"y\":[-0.19829509],\"z\":[-0.164639],\"type\":\"scatter3d\"},{\"hovertemplate\":\"color=dinner\\u003cbr\\u003e0=%{x}\\u003cbr\\u003e1=%{y}\\u003cbr\\u003e2=%{z}\\u003cextra\\u003e\\u003c\\u002fextra\\u003e\",\"legendgroup\":\"dinner\",\"marker\":{\"color\":\"#EF553B\",\"symbol\":\"circle\"},\"mode\":\"markers\",\"name\":\"dinner\",\"scene\":\"scene\",\"showlegend\":true,\"x\":[0.12352481],\"y\":[-0.009472519],\"z\":[-0.17946792],\"type\":\"scatter3d\"},{\"hovertemplate\":\"color=weird\\u003cbr\\u003e0=%{x}\\u003cbr\\u003e1=%{y}\\u003cbr\\u003e2=%{z}\\u003cextra\\u003e\\u003c\\u002fextra\\u003e\",\"legendgroup\":\"weird\",\"marker\":{\"color\":\"#00cc96\",\"symbol\":\"circle\"},\"mode\":\"markers\",\"name\":\"weird\",\"scene\":\"scene\",\"showlegend\":true,\"x\":[0.5717835],\"y\":[0.085990086],\"z\":[-0.11033368],\"type\":\"scatter3d\"},{\"hovertemplate\":\"color=game\\u003cbr\\u003e0=%{x}\\u003cbr\\u003e1=%{y}\\u003cbr\\u003e2=%{z}\\u003cextra\\u003e\\u003c\\u002fextra\\u003e\",\"legendgroup\":\"game\",\"marker\":{\"color\":\"#ab63fa\",\"symbol\":\"circle\"},\"mode\":\"markers\",\"name\":\"game\",\"scene\":\"scene\",\"showlegend\":true,\"x\":[0.10675408],\"y\":[0.11838907],\"z\":[-0.09450889],\"type\":\"scatter3d\"},{\"hovertemplate\":\"color=hug\\u003cbr\\u003e0=%{x}\\u003cbr\\u003e1=%{y}\\u003cbr\\u003e2=%{z}\\u003cextra\\u003e\\u003c\\u002fextra\\u003e\",\"legendgroup\":\"hug\",\"marker\":{\"color\":\"#FFA15A\",\"symbol\":\"circle\"},\"mode\":\"markers\",\"name\":\"hug\",\"scene\":\"scene\",\"showlegend\":true,\"x\":[-0.21469325],\"y\":[-0.24949133],\"z\":[-0.0065751076],\"type\":\"scatter3d\"},{\"hovertemplate\":\"color=mon\\u003cbr\\u003e0=%{x}\\u003cbr\\u003e1=%{y}\\u003cbr\\u003e2=%{z}\\u003cextra\\u003e\\u003c\\u002fextra\\u003e\",\"legendgroup\":\"mon\",\"marker\":{\"color\":\"#19d3f3\",\"symbol\":\"circle\"},\"mode\":\"markers\",\"name\":\"mon\",\"scene\":\"scene\",\"showlegend\":true,\"x\":[0.38171428],\"y\":[-0.33608377],\"z\":[-0.046421647],\"type\":\"scatter3d\"},{\"hovertemplate\":\"color=walk\\u003cbr\\u003e0=%{x}\\u003cbr\\u003e1=%{y}\\u003cbr\\u003e2=%{z}\\u003cextra\\u003e\\u003c\\u002fextra\\u003e\",\"legendgroup\":\"walk\",\"marker\":{\"color\":\"#FF6692\",\"symbol\":\"circle\"},\"mode\":\"markers\",\"name\":\"walk\",\"scene\":\"scene\",\"showlegend\":true,\"x\":[-0.2653476],\"y\":[-0.029680267],\"z\":[-0.09305042],\"type\":\"scatter3d\"},{\"hovertemplate\":\"color=second\\u003cbr\\u003e0=%{x}\\u003cbr\\u003e1=%{y}\\u003cbr\\u003e2=%{z}\\u003cextra\\u003e\\u003c\\u002fextra\\u003e\",\"legendgroup\":\"second\",\"marker\":{\"color\":\"#B6E880\",\"symbol\":\"circle\"},\"mode\":\"markers\",\"name\":\"second\",\"scene\":\"scene\",\"showlegend\":true,\"x\":[0.14708185],\"y\":[0.058900297],\"z\":[-0.20390558],\"type\":\"scatter3d\"},{\"hovertemplate\":\"color=part\\u003cbr\\u003e0=%{x}\\u003cbr\\u003e1=%{y}\\u003cbr\\u003e2=%{z}\\u003cextra\\u003e\\u003c\\u002fextra\\u003e\",\"legendgroup\":\"part\",\"marker\":{\"color\":\"#FF97FF\",\"symbol\":\"circle\"},\"mode\":\"markers\",\"name\":\"part\",\"scene\":\"scene\",\"showlegend\":true,\"x\":[0.3098479],\"y\":[0.23056453],\"z\":[-0.1060192],\"type\":\"scatter3d\"},{\"hovertemplate\":\"color=saying\\u003cbr\\u003e0=%{x}\\u003cbr\\u003e1=%{y}\\u003cbr\\u003e2=%{z}\\u003cextra\\u003e\\u003c\\u002fextra\\u003e\",\"legendgroup\":\"saying\",\"marker\":{\"color\":\"#FECB52\",\"symbol\":\"circle\"},\"mode\":\"markers\",\"name\":\"saying\",\"scene\":\"scene\",\"showlegend\":true,\"x\":[0.5211654],\"y\":[0.07826188],\"z\":[-0.071852505],\"type\":\"scatter3d\"},{\"hovertemplate\":\"color=gunther\\u003cbr\\u003e0=%{x}\\u003cbr\\u003e1=%{y}\\u003cbr\\u003e2=%{z}\\u003cextra\\u003e\\u003c\\u002fextra\\u003e\",\"legendgroup\":\"gunther\",\"marker\":{\"color\":\"#636efa\",\"symbol\":\"circle\"},\"mode\":\"markers\",\"name\":\"gunther\",\"scene\":\"scene\",\"showlegend\":true,\"x\":[-0.13015388],\"y\":[-0.1372812],\"z\":[-0.035735786],\"type\":\"scatter3d\"},{\"hovertemplate\":\"color=tv\\u003cbr\\u003e0=%{x}\\u003cbr\\u003e1=%{y}\\u003cbr\\u003e2=%{z}\\u003cextra\\u003e\\u003c\\u002fextra\\u003e\",\"legendgroup\":\"tv\",\"marker\":{\"color\":\"#EF553B\",\"symbol\":\"circle\"},\"mode\":\"markers\",\"name\":\"tv\",\"scene\":\"scene\",\"showlegend\":true,\"x\":[-0.4609211],\"y\":[-0.15806666],\"z\":[-0.059949577],\"type\":\"scatter3d\"},{\"hovertemplate\":\"color=sits\\u003cbr\\u003e0=%{x}\\u003cbr\\u003e1=%{y}\\u003cbr\\u003e2=%{z}\\u003cextra\\u003e\\u003c\\u002fextra\\u003e\",\"legendgroup\":\"sits\",\"marker\":{\"color\":\"#00cc96\",\"symbol\":\"circle\"},\"mode\":\"markers\",\"name\":\"sits\",\"scene\":\"scene\",\"showlegend\":true,\"x\":[-0.58595604],\"y\":[-0.19124354],\"z\":[-0.12831426],\"type\":\"scatter3d\"},{\"hovertemplate\":\"color=green\\u003cbr\\u003e0=%{x}\\u003cbr\\u003e1=%{y}\\u003cbr\\u003e2=%{z}\\u003cextra\\u003e\\u003c\\u002fextra\\u003e\",\"legendgroup\":\"green\",\"marker\":{\"color\":\"#ab63fa\",\"symbol\":\"circle\"},\"mode\":\"markers\",\"name\":\"green\",\"scene\":\"scene\",\"showlegend\":true,\"x\":[0.052445434],\"y\":[-0.30814543],\"z\":[-0.20420074],\"type\":\"scatter3d\"},{\"hovertemplate\":\"color=check\\u003cbr\\u003e0=%{x}\\u003cbr\\u003e1=%{y}\\u003cbr\\u003e2=%{z}\\u003cextra\\u003e\\u003c\\u002fextra\\u003e\",\"legendgroup\":\"check\",\"marker\":{\"color\":\"#FFA15A\",\"symbol\":\"circle\"},\"mode\":\"markers\",\"name\":\"check\",\"scene\":\"scene\",\"showlegend\":true,\"x\":[-0.060917445],\"y\":[-0.20583063],\"z\":[-0.027714074],\"type\":\"scatter3d\"},{\"hovertemplate\":\"color=later\\u003cbr\\u003e0=%{x}\\u003cbr\\u003e1=%{y}\\u003cbr\\u003e2=%{z}\\u003cextra\\u003e\\u003c\\u002fextra\\u003e\",\"legendgroup\":\"later\",\"marker\":{\"color\":\"#19d3f3\",\"symbol\":\"circle\"},\"mode\":\"markers\",\"name\":\"later\",\"scene\":\"scene\",\"showlegend\":true,\"x\":[-0.08844177],\"y\":[-0.20678411],\"z\":[-0.22561312],\"type\":\"scatter3d\"},{\"hovertemplate\":\"color=course\\u003cbr\\u003e0=%{x}\\u003cbr\\u003e1=%{y}\\u003cbr\\u003e2=%{z}\\u003cextra\\u003e\\u003c\\u002fextra\\u003e\",\"legendgroup\":\"course\",\"marker\":{\"color\":\"#FF6692\",\"symbol\":\"circle\"},\"mode\":\"markers\",\"name\":\"course\",\"scene\":\"scene\",\"showlegend\":true,\"x\":[0.34512943],\"y\":[-0.17073305],\"z\":[0.037263215],\"type\":\"scatter3d\"},{\"hovertemplate\":\"color=idea\\u003cbr\\u003e0=%{x}\\u003cbr\\u003e1=%{y}\\u003cbr\\u003e2=%{z}\\u003cextra\\u003e\\u003c\\u002fextra\\u003e\",\"legendgroup\":\"idea\",\"marker\":{\"color\":\"#B6E880\",\"symbol\":\"circle\"},\"mode\":\"markers\",\"name\":\"idea\",\"scene\":\"scene\",\"showlegend\":true,\"x\":[0.5230206],\"y\":[-0.09573439],\"z\":[-0.051609933],\"type\":\"scatter3d\"},{\"hovertemplate\":\"color=already\\u003cbr\\u003e0=%{x}\\u003cbr\\u003e1=%{y}\\u003cbr\\u003e2=%{z}\\u003cextra\\u003e\\u003c\\u002fextra\\u003e\",\"legendgroup\":\"already\",\"marker\":{\"color\":\"#FF97FF\",\"symbol\":\"circle\"},\"mode\":\"markers\",\"name\":\"already\",\"scene\":\"scene\",\"showlegend\":true,\"x\":[0.4823128],\"y\":[0.0565172],\"z\":[-0.031755626],\"type\":\"scatter3d\"},{\"hovertemplate\":\"color=kitchen\\u003cbr\\u003e0=%{x}\\u003cbr\\u003e1=%{y}\\u003cbr\\u003e2=%{z}\\u003cextra\\u003e\\u003c\\u002fextra\\u003e\",\"legendgroup\":\"kitchen\",\"marker\":{\"color\":\"#FECB52\",\"symbol\":\"circle\"},\"mode\":\"markers\",\"name\":\"kitchen\",\"scene\":\"scene\",\"showlegend\":true,\"x\":[-0.5382686],\"y\":[-0.40921155],\"z\":[-0.20214015],\"type\":\"scatter3d\"},{\"hovertemplate\":\"color=stupid\\u003cbr\\u003e0=%{x}\\u003cbr\\u003e1=%{y}\\u003cbr\\u003e2=%{z}\\u003cextra\\u003e\\u003c\\u002fextra\\u003e\",\"legendgroup\":\"stupid\",\"marker\":{\"color\":\"#636efa\",\"symbol\":\"circle\"},\"mode\":\"markers\",\"name\":\"stupid\",\"scene\":\"scene\",\"showlegend\":true,\"x\":[0.5093131],\"y\":[0.25233546],\"z\":[-0.10631639],\"type\":\"scatter3d\"},{\"hovertemplate\":\"color=everybody\\u003cbr\\u003e0=%{x}\\u003cbr\\u003e1=%{y}\\u003cbr\\u003e2=%{z}\\u003cextra\\u003e\\u003c\\u002fextra\\u003e\",\"legendgroup\":\"everybody\",\"marker\":{\"color\":\"#EF553B\",\"symbol\":\"circle\"},\"mode\":\"markers\",\"name\":\"everybody\",\"scene\":\"scene\",\"showlegend\":true,\"x\":[0.18340056],\"y\":[-0.117522955],\"z\":[0.034504473],\"type\":\"scatter3d\"},{\"hovertemplate\":\"color=done\\u003cbr\\u003e0=%{x}\\u003cbr\\u003e1=%{y}\\u003cbr\\u003e2=%{z}\\u003cextra\\u003e\\u003c\\u002fextra\\u003e\",\"legendgroup\":\"done\",\"marker\":{\"color\":\"#00cc96\",\"symbol\":\"circle\"},\"mode\":\"markers\",\"name\":\"done\",\"scene\":\"scene\",\"showlegend\":true,\"x\":[0.5043947],\"y\":[0.1218141],\"z\":[-0.051505625],\"type\":\"scatter3d\"},{\"hovertemplate\":\"color=bed\\u003cbr\\u003e0=%{x}\\u003cbr\\u003e1=%{y}\\u003cbr\\u003e2=%{z}\\u003cextra\\u003e\\u003c\\u002fextra\\u003e\",\"legendgroup\":\"bed\",\"marker\":{\"color\":\"#ab63fa\",\"symbol\":\"circle\"},\"mode\":\"markers\",\"name\":\"bed\",\"scene\":\"scene\",\"showlegend\":true,\"x\":[-0.41042376],\"y\":[-0.021039173],\"z\":[-0.10305905],\"type\":\"scatter3d\"},{\"hovertemplate\":\"color=yet\\u003cbr\\u003e0=%{x}\\u003cbr\\u003e1=%{y}\\u003cbr\\u003e2=%{z}\\u003cextra\\u003e\\u003c\\u002fextra\\u003e\",\"legendgroup\":\"yet\",\"marker\":{\"color\":\"#FFA15A\",\"symbol\":\"circle\"},\"mode\":\"markers\",\"name\":\"yet\",\"scene\":\"scene\",\"showlegend\":true,\"x\":[0.40934563],\"y\":[0.12036982],\"z\":[-0.027343333],\"type\":\"scatter3d\"},{\"hovertemplate\":\"color=crazy\\u003cbr\\u003e0=%{x}\\u003cbr\\u003e1=%{y}\\u003cbr\\u003e2=%{z}\\u003cextra\\u003e\\u003c\\u002fextra\\u003e\",\"legendgroup\":\"crazy\",\"marker\":{\"color\":\"#19d3f3\",\"symbol\":\"circle\"},\"mode\":\"markers\",\"name\":\"crazy\",\"scene\":\"scene\",\"showlegend\":true,\"x\":[0.5486816],\"y\":[0.03757508],\"z\":[-0.043498337],\"type\":\"scatter3d\"},{\"hovertemplate\":\"color=probably\\u003cbr\\u003e0=%{x}\\u003cbr\\u003e1=%{y}\\u003cbr\\u003e2=%{z}\\u003cextra\\u003e\\u003c\\u002fextra\\u003e\",\"legendgroup\":\"probably\",\"marker\":{\"color\":\"#FF6692\",\"symbol\":\"circle\"},\"mode\":\"markers\",\"name\":\"probably\",\"scene\":\"scene\",\"showlegend\":true,\"x\":[0.5857665],\"y\":[0.29717362],\"z\":[-0.21289396],\"type\":\"scatter3d\"},{\"hovertemplate\":\"color=making\\u003cbr\\u003e0=%{x}\\u003cbr\\u003e1=%{y}\\u003cbr\\u003e2=%{z}\\u003cextra\\u003e\\u003c\\u002fextra\\u003e\",\"legendgroup\":\"making\",\"marker\":{\"color\":\"#B6E880\",\"symbol\":\"circle\"},\"mode\":\"markers\",\"name\":\"making\",\"scene\":\"scene\",\"showlegend\":true,\"x\":[-0.038494445],\"y\":[0.09125814],\"z\":[0.048532367],\"type\":\"scatter3d\"},{\"hovertemplate\":\"color=open\\u003cbr\\u003e0=%{x}\\u003cbr\\u003e1=%{y}\\u003cbr\\u003e2=%{z}\\u003cextra\\u003e\\u003c\\u002fextra\\u003e\",\"legendgroup\":\"open\",\"marker\":{\"color\":\"#FF97FF\",\"symbol\":\"circle\"},\"mode\":\"markers\",\"name\":\"open\",\"scene\":\"scene\",\"showlegend\":true,\"x\":[-0.35486698],\"y\":[0.070983544],\"z\":[-0.0798049],\"type\":\"scatter3d\"},{\"hovertemplate\":\"color=year\\u003cbr\\u003e0=%{x}\\u003cbr\\u003e1=%{y}\\u003cbr\\u003e2=%{z}\\u003cextra\\u003e\\u003c\\u002fextra\\u003e\",\"legendgroup\":\"year\",\"marker\":{\"color\":\"#FECB52\",\"symbol\":\"circle\"},\"mode\":\"markers\",\"name\":\"year\",\"scene\":\"scene\",\"showlegend\":true,\"x\":[0.25243756],\"y\":[0.50704086],\"z\":[-0.21295291],\"type\":\"scatter3d\"},{\"hovertemplate\":\"color=wearing\\u003cbr\\u003e0=%{x}\\u003cbr\\u003e1=%{y}\\u003cbr\\u003e2=%{z}\\u003cextra\\u003e\\u003c\\u002fextra\\u003e\",\"legendgroup\":\"wearing\",\"marker\":{\"color\":\"#636efa\",\"symbol\":\"circle\"},\"mode\":\"markers\",\"name\":\"wearing\",\"scene\":\"scene\",\"showlegend\":true,\"x\":[-0.43234813],\"y\":[-0.039523363],\"z\":[-0.054666698],\"type\":\"scatter3d\"},{\"hovertemplate\":\"color=cool\\u003cbr\\u003e0=%{x}\\u003cbr\\u003e1=%{y}\\u003cbr\\u003e2=%{z}\\u003cextra\\u003e\\u003c\\u002fextra\\u003e\",\"legendgroup\":\"cool\",\"marker\":{\"color\":\"#EF553B\",\"symbol\":\"circle\"},\"mode\":\"markers\",\"name\":\"cool\",\"scene\":\"scene\",\"showlegend\":true,\"x\":[0.5208552],\"y\":[-0.08414315],\"z\":[-0.020189464],\"type\":\"scatter3d\"},{\"hovertemplate\":\"color=watching\\u003cbr\\u003e0=%{x}\\u003cbr\\u003e1=%{y}\\u003cbr\\u003e2=%{z}\\u003cextra\\u003e\\u003c\\u002fextra\\u003e\",\"legendgroup\":\"watching\",\"marker\":{\"color\":\"#00cc96\",\"symbol\":\"circle\"},\"mode\":\"markers\",\"name\":\"watching\",\"scene\":\"scene\",\"showlegend\":true,\"x\":[-0.4340495],\"y\":[-0.32529435],\"z\":[-0.16129702],\"type\":\"scatter3d\"},{\"hovertemplate\":\"color=meet\\u003cbr\\u003e0=%{x}\\u003cbr\\u003e1=%{y}\\u003cbr\\u003e2=%{z}\\u003cextra\\u003e\\u003c\\u002fextra\\u003e\",\"legendgroup\":\"meet\",\"marker\":{\"color\":\"#ab63fa\",\"symbol\":\"circle\"},\"mode\":\"markers\",\"name\":\"meet\",\"scene\":\"scene\",\"showlegend\":true,\"x\":[0.46166313],\"y\":[0.11320835],\"z\":[-0.047231376],\"type\":\"scatter3d\"},{\"hovertemplate\":\"color=wants\\u003cbr\\u003e0=%{x}\\u003cbr\\u003e1=%{y}\\u003cbr\\u003e2=%{z}\\u003cextra\\u003e\\u003c\\u002fextra\\u003e\",\"legendgroup\":\"wants\",\"marker\":{\"color\":\"#FFA15A\",\"symbol\":\"circle\"},\"mode\":\"markers\",\"name\":\"wants\",\"scene\":\"scene\",\"showlegend\":true,\"x\":[0.39827132],\"y\":[0.22311631],\"z\":[-0.13437861],\"type\":\"scatter3d\"},{\"hovertemplate\":\"color=pick\\u003cbr\\u003e0=%{x}\\u003cbr\\u003e1=%{y}\\u003cbr\\u003e2=%{z}\\u003cextra\\u003e\\u003c\\u002fextra\\u003e\",\"legendgroup\":\"pick\",\"marker\":{\"color\":\"#19d3f3\",\"symbol\":\"circle\"},\"mode\":\"markers\",\"name\":\"pick\",\"scene\":\"scene\",\"showlegend\":true,\"x\":[0.19976413],\"y\":[0.18435147],\"z\":[-0.11162877],\"type\":\"scatter3d\"},{\"hovertemplate\":\"color=might\\u003cbr\\u003e0=%{x}\\u003cbr\\u003e1=%{y}\\u003cbr\\u003e2=%{z}\\u003cextra\\u003e\\u003c\\u002fextra\\u003e\",\"legendgroup\":\"might\",\"marker\":{\"color\":\"#FF6692\",\"symbol\":\"circle\"},\"mode\":\"markers\",\"name\":\"might\",\"scene\":\"scene\",\"showlegend\":true,\"x\":[0.58523184],\"y\":[0.28306165],\"z\":[-0.21418124],\"type\":\"scatter3d\"},{\"hovertemplate\":\"color=david\\u003cbr\\u003e0=%{x}\\u003cbr\\u003e1=%{y}\\u003cbr\\u003e2=%{z}\\u003cextra\\u003e\\u003c\\u002fextra\\u003e\",\"legendgroup\":\"david\",\"marker\":{\"color\":\"#B6E880\",\"symbol\":\"circle\"},\"mode\":\"markers\",\"name\":\"david\",\"scene\":\"scene\",\"showlegend\":true,\"x\":[-0.090554535],\"y\":[-0.015707329],\"z\":[-0.09744072],\"type\":\"scatter3d\"},{\"hovertemplate\":\"color=reading\\u003cbr\\u003e0=%{x}\\u003cbr\\u003e1=%{y}\\u003cbr\\u003e2=%{z}\\u003cextra\\u003e\\u003c\\u002fextra\\u003e\",\"legendgroup\":\"reading\",\"marker\":{\"color\":\"#FF97FF\",\"symbol\":\"circle\"},\"mode\":\"markers\",\"name\":\"reading\",\"scene\":\"scene\",\"showlegend\":true,\"x\":[-0.47916675],\"y\":[-0.4458839],\"z\":[-0.08709717],\"type\":\"scatter3d\"},{\"hovertemplate\":\"color=playing\\u003cbr\\u003e0=%{x}\\u003cbr\\u003e1=%{y}\\u003cbr\\u003e2=%{z}\\u003cextra\\u003e\\u003c\\u002fextra\\u003e\",\"legendgroup\":\"playing\",\"marker\":{\"color\":\"#FECB52\",\"symbol\":\"circle\"},\"mode\":\"markers\",\"name\":\"playing\",\"scene\":\"scene\",\"showlegend\":true,\"x\":[-0.2929632],\"y\":[-0.13799591],\"z\":[-0.03644198],\"type\":\"scatter3d\"}],                        {\"template\":{\"data\":{\"histogram2dcontour\":[{\"type\":\"histogram2dcontour\",\"colorbar\":{\"outlinewidth\":0,\"ticks\":\"\"},\"colorscale\":[[0.0,\"#0d0887\"],[0.1111111111111111,\"#46039f\"],[0.2222222222222222,\"#7201a8\"],[0.3333333333333333,\"#9c179e\"],[0.4444444444444444,\"#bd3786\"],[0.5555555555555556,\"#d8576b\"],[0.6666666666666666,\"#ed7953\"],[0.7777777777777778,\"#fb9f3a\"],[0.8888888888888888,\"#fdca26\"],[1.0,\"#f0f921\"]]}],\"choropleth\":[{\"type\":\"choropleth\",\"colorbar\":{\"outlinewidth\":0,\"ticks\":\"\"}}],\"histogram2d\":[{\"type\":\"histogram2d\",\"colorbar\":{\"outlinewidth\":0,\"ticks\":\"\"},\"colorscale\":[[0.0,\"#0d0887\"],[0.1111111111111111,\"#46039f\"],[0.2222222222222222,\"#7201a8\"],[0.3333333333333333,\"#9c179e\"],[0.4444444444444444,\"#bd3786\"],[0.5555555555555556,\"#d8576b\"],[0.6666666666666666,\"#ed7953\"],[0.7777777777777778,\"#fb9f3a\"],[0.8888888888888888,\"#fdca26\"],[1.0,\"#f0f921\"]]}],\"heatmap\":[{\"type\":\"heatmap\",\"colorbar\":{\"outlinewidth\":0,\"ticks\":\"\"},\"colorscale\":[[0.0,\"#0d0887\"],[0.1111111111111111,\"#46039f\"],[0.2222222222222222,\"#7201a8\"],[0.3333333333333333,\"#9c179e\"],[0.4444444444444444,\"#bd3786\"],[0.5555555555555556,\"#d8576b\"],[0.6666666666666666,\"#ed7953\"],[0.7777777777777778,\"#fb9f3a\"],[0.8888888888888888,\"#fdca26\"],[1.0,\"#f0f921\"]]}],\"heatmapgl\":[{\"type\":\"heatmapgl\",\"colorbar\":{\"outlinewidth\":0,\"ticks\":\"\"},\"colorscale\":[[0.0,\"#0d0887\"],[0.1111111111111111,\"#46039f\"],[0.2222222222222222,\"#7201a8\"],[0.3333333333333333,\"#9c179e\"],[0.4444444444444444,\"#bd3786\"],[0.5555555555555556,\"#d8576b\"],[0.6666666666666666,\"#ed7953\"],[0.7777777777777778,\"#fb9f3a\"],[0.8888888888888888,\"#fdca26\"],[1.0,\"#f0f921\"]]}],\"contourcarpet\":[{\"type\":\"contourcarpet\",\"colorbar\":{\"outlinewidth\":0,\"ticks\":\"\"}}],\"contour\":[{\"type\":\"contour\",\"colorbar\":{\"outlinewidth\":0,\"ticks\":\"\"},\"colorscale\":[[0.0,\"#0d0887\"],[0.1111111111111111,\"#46039f\"],[0.2222222222222222,\"#7201a8\"],[0.3333333333333333,\"#9c179e\"],[0.4444444444444444,\"#bd3786\"],[0.5555555555555556,\"#d8576b\"],[0.6666666666666666,\"#ed7953\"],[0.7777777777777778,\"#fb9f3a\"],[0.8888888888888888,\"#fdca26\"],[1.0,\"#f0f921\"]]}],\"surface\":[{\"type\":\"surface\",\"colorbar\":{\"outlinewidth\":0,\"ticks\":\"\"},\"colorscale\":[[0.0,\"#0d0887\"],[0.1111111111111111,\"#46039f\"],[0.2222222222222222,\"#7201a8\"],[0.3333333333333333,\"#9c179e\"],[0.4444444444444444,\"#bd3786\"],[0.5555555555555556,\"#d8576b\"],[0.6666666666666666,\"#ed7953\"],[0.7777777777777778,\"#fb9f3a\"],[0.8888888888888888,\"#fdca26\"],[1.0,\"#f0f921\"]]}],\"mesh3d\":[{\"type\":\"mesh3d\",\"colorbar\":{\"outlinewidth\":0,\"ticks\":\"\"}}],\"scatter\":[{\"fillpattern\":{\"fillmode\":\"overlay\",\"size\":10,\"solidity\":0.2},\"type\":\"scatter\"}],\"parcoords\":[{\"type\":\"parcoords\",\"line\":{\"colorbar\":{\"outlinewidth\":0,\"ticks\":\"\"}}}],\"scatterpolargl\":[{\"type\":\"scatterpolargl\",\"marker\":{\"colorbar\":{\"outlinewidth\":0,\"ticks\":\"\"}}}],\"bar\":[{\"error_x\":{\"color\":\"#2a3f5f\"},\"error_y\":{\"color\":\"#2a3f5f\"},\"marker\":{\"line\":{\"color\":\"#E5ECF6\",\"width\":0.5},\"pattern\":{\"fillmode\":\"overlay\",\"size\":10,\"solidity\":0.2}},\"type\":\"bar\"}],\"scattergeo\":[{\"type\":\"scattergeo\",\"marker\":{\"colorbar\":{\"outlinewidth\":0,\"ticks\":\"\"}}}],\"scatterpolar\":[{\"type\":\"scatterpolar\",\"marker\":{\"colorbar\":{\"outlinewidth\":0,\"ticks\":\"\"}}}],\"histogram\":[{\"marker\":{\"pattern\":{\"fillmode\":\"overlay\",\"size\":10,\"solidity\":0.2}},\"type\":\"histogram\"}],\"scattergl\":[{\"type\":\"scattergl\",\"marker\":{\"colorbar\":{\"outlinewidth\":0,\"ticks\":\"\"}}}],\"scatter3d\":[{\"type\":\"scatter3d\",\"line\":{\"colorbar\":{\"outlinewidth\":0,\"ticks\":\"\"}},\"marker\":{\"colorbar\":{\"outlinewidth\":0,\"ticks\":\"\"}}}],\"scattermapbox\":[{\"type\":\"scattermapbox\",\"marker\":{\"colorbar\":{\"outlinewidth\":0,\"ticks\":\"\"}}}],\"scatterternary\":[{\"type\":\"scatterternary\",\"marker\":{\"colorbar\":{\"outlinewidth\":0,\"ticks\":\"\"}}}],\"scattercarpet\":[{\"type\":\"scattercarpet\",\"marker\":{\"colorbar\":{\"outlinewidth\":0,\"ticks\":\"\"}}}],\"carpet\":[{\"aaxis\":{\"endlinecolor\":\"#2a3f5f\",\"gridcolor\":\"white\",\"linecolor\":\"white\",\"minorgridcolor\":\"white\",\"startlinecolor\":\"#2a3f5f\"},\"baxis\":{\"endlinecolor\":\"#2a3f5f\",\"gridcolor\":\"white\",\"linecolor\":\"white\",\"minorgridcolor\":\"white\",\"startlinecolor\":\"#2a3f5f\"},\"type\":\"carpet\"}],\"table\":[{\"cells\":{\"fill\":{\"color\":\"#EBF0F8\"},\"line\":{\"color\":\"white\"}},\"header\":{\"fill\":{\"color\":\"#C8D4E3\"},\"line\":{\"color\":\"white\"}},\"type\":\"table\"}],\"barpolar\":[{\"marker\":{\"line\":{\"color\":\"#E5ECF6\",\"width\":0.5},\"pattern\":{\"fillmode\":\"overlay\",\"size\":10,\"solidity\":0.2}},\"type\":\"barpolar\"}],\"pie\":[{\"automargin\":true,\"type\":\"pie\"}]},\"layout\":{\"autotypenumbers\":\"strict\",\"colorway\":[\"#636efa\",\"#EF553B\",\"#00cc96\",\"#ab63fa\",\"#FFA15A\",\"#19d3f3\",\"#FF6692\",\"#B6E880\",\"#FF97FF\",\"#FECB52\"],\"font\":{\"color\":\"#2a3f5f\"},\"hovermode\":\"closest\",\"hoverlabel\":{\"align\":\"left\"},\"paper_bgcolor\":\"white\",\"plot_bgcolor\":\"#E5ECF6\",\"polar\":{\"bgcolor\":\"#E5ECF6\",\"angularaxis\":{\"gridcolor\":\"white\",\"linecolor\":\"white\",\"ticks\":\"\"},\"radialaxis\":{\"gridcolor\":\"white\",\"linecolor\":\"white\",\"ticks\":\"\"}},\"ternary\":{\"bgcolor\":\"#E5ECF6\",\"aaxis\":{\"gridcolor\":\"white\",\"linecolor\":\"white\",\"ticks\":\"\"},\"baxis\":{\"gridcolor\":\"white\",\"linecolor\":\"white\",\"ticks\":\"\"},\"caxis\":{\"gridcolor\":\"white\",\"linecolor\":\"white\",\"ticks\":\"\"}},\"coloraxis\":{\"colorbar\":{\"outlinewidth\":0,\"ticks\":\"\"}},\"colorscale\":{\"sequential\":[[0.0,\"#0d0887\"],[0.1111111111111111,\"#46039f\"],[0.2222222222222222,\"#7201a8\"],[0.3333333333333333,\"#9c179e\"],[0.4444444444444444,\"#bd3786\"],[0.5555555555555556,\"#d8576b\"],[0.6666666666666666,\"#ed7953\"],[0.7777777777777778,\"#fb9f3a\"],[0.8888888888888888,\"#fdca26\"],[1.0,\"#f0f921\"]],\"sequentialminus\":[[0.0,\"#0d0887\"],[0.1111111111111111,\"#46039f\"],[0.2222222222222222,\"#7201a8\"],[0.3333333333333333,\"#9c179e\"],[0.4444444444444444,\"#bd3786\"],[0.5555555555555556,\"#d8576b\"],[0.6666666666666666,\"#ed7953\"],[0.7777777777777778,\"#fb9f3a\"],[0.8888888888888888,\"#fdca26\"],[1.0,\"#f0f921\"]],\"diverging\":[[0,\"#8e0152\"],[0.1,\"#c51b7d\"],[0.2,\"#de77ae\"],[0.3,\"#f1b6da\"],[0.4,\"#fde0ef\"],[0.5,\"#f7f7f7\"],[0.6,\"#e6f5d0\"],[0.7,\"#b8e186\"],[0.8,\"#7fbc41\"],[0.9,\"#4d9221\"],[1,\"#276419\"]]},\"xaxis\":{\"gridcolor\":\"white\",\"linecolor\":\"white\",\"ticks\":\"\",\"title\":{\"standoff\":15},\"zerolinecolor\":\"white\",\"automargin\":true,\"zerolinewidth\":2},\"yaxis\":{\"gridcolor\":\"white\",\"linecolor\":\"white\",\"ticks\":\"\",\"title\":{\"standoff\":15},\"zerolinecolor\":\"white\",\"automargin\":true,\"zerolinewidth\":2},\"scene\":{\"xaxis\":{\"backgroundcolor\":\"#E5ECF6\",\"gridcolor\":\"white\",\"linecolor\":\"white\",\"showbackground\":true,\"ticks\":\"\",\"zerolinecolor\":\"white\",\"gridwidth\":2},\"yaxis\":{\"backgroundcolor\":\"#E5ECF6\",\"gridcolor\":\"white\",\"linecolor\":\"white\",\"showbackground\":true,\"ticks\":\"\",\"zerolinecolor\":\"white\",\"gridwidth\":2},\"zaxis\":{\"backgroundcolor\":\"#E5ECF6\",\"gridcolor\":\"white\",\"linecolor\":\"white\",\"showbackground\":true,\"ticks\":\"\",\"zerolinecolor\":\"white\",\"gridwidth\":2}},\"shapedefaults\":{\"line\":{\"color\":\"#2a3f5f\"}},\"annotationdefaults\":{\"arrowcolor\":\"#2a3f5f\",\"arrowhead\":0,\"arrowwidth\":1},\"geo\":{\"bgcolor\":\"white\",\"landcolor\":\"#E5ECF6\",\"subunitcolor\":\"white\",\"showland\":true,\"showlakes\":true,\"lakecolor\":\"white\"},\"title\":{\"x\":0.05},\"mapbox\":{\"style\":\"light\"}}},\"scene\":{\"domain\":{\"x\":[0.0,1.0],\"y\":[0.0,1.0]},\"xaxis\":{\"title\":{\"text\":\"0\"}},\"yaxis\":{\"title\":{\"text\":\"1\"}},\"zaxis\":{\"title\":{\"text\":\"2\"}}},\"legend\":{\"title\":{\"text\":\"color\"},\"tracegroupgap\":0},\"margin\":{\"t\":60}},                        {\"responsive\": true}                    ).then(function(){\n",
              "                            \n",
              "var gd = document.getElementById('0908cf2d-76d1-41b1-b637-2412b054a5f2');\n",
              "var x = new MutationObserver(function (mutations, observer) {{\n",
              "        var display = window.getComputedStyle(gd).display;\n",
              "        if (!display || display === 'none') {{\n",
              "            console.log([gd, 'removed!']);\n",
              "            Plotly.purge(gd);\n",
              "            observer.disconnect();\n",
              "        }}\n",
              "}});\n",
              "\n",
              "// Listen for the removal of the full notebook cells\n",
              "var notebookContainer = gd.closest('#notebook-container');\n",
              "if (notebookContainer) {{\n",
              "    x.observe(notebookContainer, {childList: true});\n",
              "}}\n",
              "\n",
              "// Listen for the clearing of the current output cell\n",
              "var outputEl = gd.closest('.output');\n",
              "if (outputEl) {{\n",
              "    x.observe(outputEl, {childList: true});\n",
              "}}\n",
              "\n",
              "                        })                };                            </script>        </div>\n",
              "</body>\n",
              "</html>"
            ]
          },
          "metadata": {}
        }
      ]
    },
    {
      "cell_type": "markdown",
      "source": [],
      "metadata": {
        "id": "ThRJBiJyUluO"
      }
    },
    {
      "cell_type": "code",
      "source": [
        "import plotly.express as px\n",
        "fig = px.scatter_3d(X[400:500],x=0,y=1,z=2, color=y[400:500])\n",
        "fig.show()"
      ],
      "metadata": {
        "colab": {
          "base_uri": "https://localhost:8080/",
          "height": 542
        },
        "id": "GWg1t6ysUk8n",
        "outputId": "34f8da74-1da6-49f2-a677-317396baeaeb"
      },
      "execution_count": 42,
      "outputs": [
        {
          "output_type": "display_data",
          "data": {
            "text/html": [
              "<html>\n",
              "<head><meta charset=\"utf-8\" /></head>\n",
              "<body>\n",
              "    <div>            <script src=\"https://cdnjs.cloudflare.com/ajax/libs/mathjax/2.7.5/MathJax.js?config=TeX-AMS-MML_SVG\"></script><script type=\"text/javascript\">if (window.MathJax && window.MathJax.Hub && window.MathJax.Hub.Config) {window.MathJax.Hub.Config({SVG: {font: \"STIX-Web\"}});}</script>                <script type=\"text/javascript\">window.PlotlyConfig = {MathJaxConfig: 'local'};</script>\n",
              "        <script charset=\"utf-8\" src=\"https://cdn.plot.ly/plotly-2.35.2.min.js\"></script>                <div id=\"a450d8ea-b5ea-48e7-9626-4166efe97419\" class=\"plotly-graph-div\" style=\"height:525px; width:100%;\"></div>            <script type=\"text/javascript\">                                    window.PLOTLYENV=window.PLOTLYENV || {};                                    if (document.getElementById(\"a450d8ea-b5ea-48e7-9626-4166efe97419\")) {                    Plotly.newPlot(                        \"a450d8ea-b5ea-48e7-9626-4166efe97419\",                        [{\"hovertemplate\":\"color=heard\\u003cbr\\u003e0=%{x}\\u003cbr\\u003e1=%{y}\\u003cbr\\u003e2=%{z}\\u003cextra\\u003e\\u003c\\u002fextra\\u003e\",\"legendgroup\":\"heard\",\"marker\":{\"color\":\"#636efa\",\"symbol\":\"circle\"},\"mode\":\"markers\",\"name\":\"heard\",\"scene\":\"scene\",\"showlegend\":true,\"x\":[0.432743],\"y\":[0.05756457],\"z\":[0.0068827868],\"type\":\"scatter3d\"},{\"hovertemplate\":\"color=moving\\u003cbr\\u003e0=%{x}\\u003cbr\\u003e1=%{y}\\u003cbr\\u003e2=%{z}\\u003cextra\\u003e\\u003c\\u002fextra\\u003e\",\"legendgroup\":\"moving\",\"marker\":{\"color\":\"#EF553B\",\"symbol\":\"circle\"},\"mode\":\"markers\",\"name\":\"moving\",\"scene\":\"scene\",\"showlegend\":true,\"x\":[0.13480097],\"y\":[0.015932888],\"z\":[0.049846053],\"type\":\"scatter3d\"},{\"hovertemplate\":\"color=knew\\u003cbr\\u003e0=%{x}\\u003cbr\\u003e1=%{y}\\u003cbr\\u003e2=%{z}\\u003cextra\\u003e\\u003c\\u002fextra\\u003e\",\"legendgroup\":\"knew\",\"marker\":{\"color\":\"#00cc96\",\"symbol\":\"circle\"},\"mode\":\"markers\",\"name\":\"knew\",\"scene\":\"scene\",\"showlegend\":true,\"x\":[0.56045955],\"y\":[0.148705],\"z\":[-0.08214098],\"type\":\"scatter3d\"},{\"hovertemplate\":\"color=birthday\\u003cbr\\u003e0=%{x}\\u003cbr\\u003e1=%{y}\\u003cbr\\u003e2=%{z}\\u003cextra\\u003e\\u003c\\u002fextra\\u003e\",\"legendgroup\":\"birthday\",\"marker\":{\"color\":\"#ab63fa\",\"symbol\":\"circle\"},\"mode\":\"markers\",\"name\":\"birthday\",\"scene\":\"scene\",\"showlegend\":true,\"x\":[0.10558175],\"y\":[-0.07624615],\"z\":[0.011446595],\"type\":\"scatter3d\"},{\"hovertemplate\":\"color=hate\\u003cbr\\u003e0=%{x}\\u003cbr\\u003e1=%{y}\\u003cbr\\u003e2=%{z}\\u003cextra\\u003e\\u003c\\u002fextra\\u003e\",\"legendgroup\":\"hate\",\"marker\":{\"color\":\"#FFA15A\",\"symbol\":\"circle\"},\"mode\":\"markers\",\"name\":\"hate\",\"scene\":\"scene\",\"showlegend\":true,\"x\":[0.40806854],\"y\":[0.040452376],\"z\":[0.027362645],\"type\":\"scatter3d\"},{\"hovertemplate\":\"color=mine\\u003cbr\\u003e0=%{x}\\u003cbr\\u003e1=%{y}\\u003cbr\\u003e2=%{z}\\u003cextra\\u003e\\u003c\\u002fextra\\u003e\",\"legendgroup\":\"mine\",\"marker\":{\"color\":\"#19d3f3\",\"symbol\":\"circle\"},\"mode\":\"markers\",\"name\":\"mine\",\"scene\":\"scene\",\"showlegend\":true,\"x\":[0.36042595],\"y\":[-0.01279968],\"z\":[0.030009389],\"type\":\"scatter3d\"},{\"hovertemplate\":\"color=story\\u003cbr\\u003e0=%{x}\\u003cbr\\u003e1=%{y}\\u003cbr\\u003e2=%{z}\\u003cextra\\u003e\\u003c\\u002fextra\\u003e\",\"legendgroup\":\"story\",\"marker\":{\"color\":\"#FF6692\",\"symbol\":\"circle\"},\"mode\":\"markers\",\"name\":\"story\",\"scene\":\"scene\",\"showlegend\":true,\"x\":[-0.16226839],\"y\":[0.011736259],\"z\":[-0.13297647],\"type\":\"scatter3d\"},{\"hovertemplate\":\"color=sleep\\u003cbr\\u003e0=%{x}\\u003cbr\\u003e1=%{y}\\u003cbr\\u003e2=%{z}\\u003cextra\\u003e\\u003c\\u002fextra\\u003e\",\"legendgroup\":\"sleep\",\"marker\":{\"color\":\"#B6E880\",\"symbol\":\"circle\"},\"mode\":\"markers\",\"name\":\"sleep\",\"scene\":\"scene\",\"showlegend\":true,\"x\":[0.35136092],\"y\":[0.25405008],\"z\":[-0.109012544],\"type\":\"scatter3d\"},{\"hovertemplate\":\"color=laughing\\u003cbr\\u003e0=%{x}\\u003cbr\\u003e1=%{y}\\u003cbr\\u003e2=%{z}\\u003cextra\\u003e\\u003c\\u002fextra\\u003e\",\"legendgroup\":\"laughing\",\"marker\":{\"color\":\"#FF97FF\",\"symbol\":\"circle\"},\"mode\":\"markers\",\"name\":\"laughing\",\"scene\":\"scene\",\"showlegend\":true,\"x\":[-0.16716659],\"y\":[-0.32378566],\"z\":[0.020099998],\"type\":\"scatter3d\"},{\"hovertemplate\":\"color=dog\\u003cbr\\u003e0=%{x}\\u003cbr\\u003e1=%{y}\\u003cbr\\u003e2=%{z}\\u003cextra\\u003e\\u003c\\u002fextra\\u003e\",\"legendgroup\":\"dog\",\"marker\":{\"color\":\"#FECB52\",\"symbol\":\"circle\"},\"mode\":\"markers\",\"name\":\"dog\",\"scene\":\"scene\",\"showlegend\":true,\"x\":[-0.06264155],\"y\":[0.10297541],\"z\":[0.0819965],\"type\":\"scatter3d\"},{\"hovertemplate\":\"color=gave\\u003cbr\\u003e0=%{x}\\u003cbr\\u003e1=%{y}\\u003cbr\\u003e2=%{z}\\u003cextra\\u003e\\u003c\\u002fextra\\u003e\",\"legendgroup\":\"gave\",\"marker\":{\"color\":\"#636efa\",\"symbol\":\"circle\"},\"mode\":\"markers\",\"name\":\"gave\",\"scene\":\"scene\",\"showlegend\":true,\"x\":[0.23960395],\"y\":[0.17338565],\"z\":[0.04907185],\"type\":\"scatter3d\"},{\"hovertemplate\":\"color=movie\\u003cbr\\u003e0=%{x}\\u003cbr\\u003e1=%{y}\\u003cbr\\u003e2=%{z}\\u003cextra\\u003e\\u003c\\u002fextra\\u003e\",\"legendgroup\":\"movie\",\"marker\":{\"color\":\"#EF553B\",\"symbol\":\"circle\"},\"mode\":\"markers\",\"name\":\"movie\",\"scene\":\"scene\",\"showlegend\":true,\"x\":[0.10318985],\"y\":[0.08819729],\"z\":[-0.041042507],\"type\":\"scatter3d\"},{\"hovertemplate\":\"color=car\\u003cbr\\u003e0=%{x}\\u003cbr\\u003e1=%{y}\\u003cbr\\u003e2=%{z}\\u003cextra\\u003e\\u003c\\u002fextra\\u003e\",\"legendgroup\":\"car\",\"marker\":{\"color\":\"#00cc96\",\"symbol\":\"circle\"},\"mode\":\"markers\",\"name\":\"car\",\"scene\":\"scene\",\"showlegend\":true,\"x\":[-0.102912605],\"y\":[0.10659376],\"z\":[0.033938706],\"type\":\"scatter3d\"},{\"hovertemplate\":\"color=sweet\\u003cbr\\u003e0=%{x}\\u003cbr\\u003e1=%{y}\\u003cbr\\u003e2=%{z}\\u003cextra\\u003e\\u003c\\u002fextra\\u003e\",\"legendgroup\":\"sweet\",\"marker\":{\"color\":\"#ab63fa\",\"symbol\":\"circle\"},\"mode\":\"markers\",\"name\":\"sweet\",\"scene\":\"scene\",\"showlegend\":true,\"x\":[0.43572074],\"y\":[-0.2540099],\"z\":[0.027763724],\"type\":\"scatter3d\"},{\"hovertemplate\":\"color=bag\\u003cbr\\u003e0=%{x}\\u003cbr\\u003e1=%{y}\\u003cbr\\u003e2=%{z}\\u003cextra\\u003e\\u003c\\u002fextra\\u003e\",\"legendgroup\":\"bag\",\"marker\":{\"color\":\"#FFA15A\",\"symbol\":\"circle\"},\"mode\":\"markers\",\"name\":\"bag\",\"scene\":\"scene\",\"showlegend\":true,\"x\":[-0.45673025],\"y\":[-0.027045347],\"z\":[-0.026090741],\"type\":\"scatter3d\"},{\"hovertemplate\":\"color=exits\\u003cbr\\u003e0=%{x}\\u003cbr\\u003e1=%{y}\\u003cbr\\u003e2=%{z}\\u003cextra\\u003e\\u003c\\u002fextra\\u003e\",\"legendgroup\":\"exits\",\"marker\":{\"color\":\"#19d3f3\",\"symbol\":\"circle\"},\"mode\":\"markers\",\"name\":\"exits\",\"scene\":\"scene\",\"showlegend\":true,\"x\":[-0.21705382],\"y\":[-0.28025746],\"z\":[0.07826698],\"type\":\"scatter3d\"},{\"hovertemplate\":\"color=without\\u003cbr\\u003e0=%{x}\\u003cbr\\u003e1=%{y}\\u003cbr\\u003e2=%{z}\\u003cextra\\u003e\\u003c\\u002fextra\\u003e\",\"legendgroup\":\"without\",\"marker\":{\"color\":\"#FF6692\",\"symbol\":\"circle\"},\"mode\":\"markers\",\"name\":\"without\",\"scene\":\"scene\",\"showlegend\":true,\"x\":[0.057101533],\"y\":[0.25555742],\"z\":[0.030778706],\"type\":\"scatter3d\"},{\"hovertemplate\":\"color=mona\\u003cbr\\u003e0=%{x}\\u003cbr\\u003e1=%{y}\\u003cbr\\u003e2=%{z}\\u003cextra\\u003e\\u003c\\u002fextra\\u003e\",\"legendgroup\":\"mona\",\"marker\":{\"color\":\"#B6E880\",\"symbol\":\"circle\"},\"mode\":\"markers\",\"name\":\"mona\",\"scene\":\"scene\",\"showlegend\":true,\"x\":[0.088042274],\"y\":[-0.3259253],\"z\":[-0.0098183155],\"type\":\"scatter3d\"},{\"hovertemplate\":\"color=father\\u003cbr\\u003e0=%{x}\\u003cbr\\u003e1=%{y}\\u003cbr\\u003e2=%{z}\\u003cextra\\u003e\\u003c\\u002fextra\\u003e\",\"legendgroup\":\"father\",\"marker\":{\"color\":\"#FF97FF\",\"symbol\":\"circle\"},\"mode\":\"markers\",\"name\":\"father\",\"scene\":\"scene\",\"showlegend\":true,\"x\":[0.34154958],\"y\":[0.11699399],\"z\":[0.015862584],\"type\":\"scatter3d\"},{\"hovertemplate\":\"color=walking\\u003cbr\\u003e0=%{x}\\u003cbr\\u003e1=%{y}\\u003cbr\\u003e2=%{z}\\u003cextra\\u003e\\u003c\\u002fextra\\u003e\",\"legendgroup\":\"walking\",\"marker\":{\"color\":\"#FECB52\",\"symbol\":\"circle\"},\"mode\":\"markers\",\"name\":\"walking\",\"scene\":\"scene\",\"showlegend\":true,\"x\":[-0.50161207],\"y\":[-0.31832045],\"z\":[-0.09590709],\"type\":\"scatter3d\"},{\"hovertemplate\":\"color=bit\\u003cbr\\u003e0=%{x}\\u003cbr\\u003e1=%{y}\\u003cbr\\u003e2=%{z}\\u003cextra\\u003e\\u003c\\u002fextra\\u003e\",\"legendgroup\":\"bit\",\"marker\":{\"color\":\"#636efa\",\"symbol\":\"circle\"},\"mode\":\"markers\",\"name\":\"bit\",\"scene\":\"scene\",\"showlegend\":true,\"x\":[0.1520127],\"y\":[0.24916974],\"z\":[-0.084022164],\"type\":\"scatter3d\"},{\"hovertemplate\":\"color=half\\u003cbr\\u003e0=%{x}\\u003cbr\\u003e1=%{y}\\u003cbr\\u003e2=%{z}\\u003cextra\\u003e\\u003c\\u002fextra\\u003e\",\"legendgroup\":\"half\",\"marker\":{\"color\":\"#EF553B\",\"symbol\":\"circle\"},\"mode\":\"markers\",\"name\":\"half\",\"scene\":\"scene\",\"showlegend\":true,\"x\":[-0.080898724],\"y\":[0.3999006],\"z\":[-0.08553618],\"type\":\"scatter3d\"},{\"hovertemplate\":\"color=laugh\\u003cbr\\u003e0=%{x}\\u003cbr\\u003e1=%{y}\\u003cbr\\u003e2=%{z}\\u003cextra\\u003e\\u003c\\u002fextra\\u003e\",\"legendgroup\":\"laugh\",\"marker\":{\"color\":\"#00cc96\",\"symbol\":\"circle\"},\"mode\":\"markers\",\"name\":\"laugh\",\"scene\":\"scene\",\"showlegend\":true,\"x\":[0.11162936],\"y\":[-0.02827818],\"z\":[0.10206652],\"type\":\"scatter3d\"},{\"hovertemplate\":\"color=must\\u003cbr\\u003e0=%{x}\\u003cbr\\u003e1=%{y}\\u003cbr\\u003e2=%{z}\\u003cextra\\u003e\\u003c\\u002fextra\\u003e\",\"legendgroup\":\"must\",\"marker\":{\"color\":\"#ab63fa\",\"symbol\":\"circle\"},\"mode\":\"markers\",\"name\":\"must\",\"scene\":\"scene\",\"showlegend\":true,\"x\":[0.43861043],\"y\":[0.09434517],\"z\":[-0.010178983],\"type\":\"scatter3d\"},{\"hovertemplate\":\"color=side\\u003cbr\\u003e0=%{x}\\u003cbr\\u003e1=%{y}\\u003cbr\\u003e2=%{z}\\u003cextra\\u003e\\u003c\\u002fextra\\u003e\",\"legendgroup\":\"side\",\"marker\":{\"color\":\"#FFA15A\",\"symbol\":\"circle\"},\"mode\":\"markers\",\"name\":\"side\",\"scene\":\"scene\",\"showlegend\":true,\"x\":[-0.3785053],\"y\":[0.16804513],\"z\":[-0.02857548],\"type\":\"scatter3d\"},{\"hovertemplate\":\"color=different\\u003cbr\\u003e0=%{x}\\u003cbr\\u003e1=%{y}\\u003cbr\\u003e2=%{z}\\u003cextra\\u003e\\u003c\\u002fextra\\u003e\",\"legendgroup\":\"different\",\"marker\":{\"color\":\"#19d3f3\",\"symbol\":\"circle\"},\"mode\":\"markers\",\"name\":\"different\",\"scene\":\"scene\",\"showlegend\":true,\"x\":[0.40957528],\"y\":[0.16563562],\"z\":[-0.01567471],\"type\":\"scatter3d\"},{\"hovertemplate\":\"color=isnt\\u003cbr\\u003e0=%{x}\\u003cbr\\u003e1=%{y}\\u003cbr\\u003e2=%{z}\\u003cextra\\u003e\\u003c\\u002fextra\\u003e\",\"legendgroup\":\"isnt\",\"marker\":{\"color\":\"#FF6692\",\"symbol\":\"circle\"},\"mode\":\"markers\",\"name\":\"isnt\",\"scene\":\"scene\",\"showlegend\":true,\"x\":[0.32969034],\"y\":[-0.022418149],\"z\":[0.05325997],\"type\":\"scatter3d\"},{\"hovertemplate\":\"color=number\\u003cbr\\u003e0=%{x}\\u003cbr\\u003e1=%{y}\\u003cbr\\u003e2=%{z}\\u003cextra\\u003e\\u003c\\u002fextra\\u003e\",\"legendgroup\":\"number\",\"marker\":{\"color\":\"#B6E880\",\"symbol\":\"circle\"},\"mode\":\"markers\",\"name\":\"number\",\"scene\":\"scene\",\"showlegend\":true,\"x\":[0.20039918],\"y\":[0.118349075],\"z\":[-0.035260975],\"type\":\"scatter3d\"},{\"hovertemplate\":\"color=cat\\u003cbr\\u003e0=%{x}\\u003cbr\\u003e1=%{y}\\u003cbr\\u003e2=%{z}\\u003cextra\\u003e\\u003c\\u002fextra\\u003e\",\"legendgroup\":\"cat\",\"marker\":{\"color\":\"#FF97FF\",\"symbol\":\"circle\"},\"mode\":\"markers\",\"name\":\"cat\",\"scene\":\"scene\",\"showlegend\":true,\"x\":[0.04651498],\"y\":[-0.03334727],\"z\":[0.1037609],\"type\":\"scatter3d\"},{\"hovertemplate\":\"color=late\\u003cbr\\u003e0=%{x}\\u003cbr\\u003e1=%{y}\\u003cbr\\u003e2=%{z}\\u003cextra\\u003e\\u003c\\u002fextra\\u003e\",\"legendgroup\":\"late\",\"marker\":{\"color\":\"#FECB52\",\"symbol\":\"circle\"},\"mode\":\"markers\",\"name\":\"late\",\"scene\":\"scene\",\"showlegend\":true,\"x\":[0.26504153],\"y\":[-0.10296239],\"z\":[-0.025476635],\"type\":\"scatter3d\"},{\"hovertemplate\":\"color=uhh\\u003cbr\\u003e0=%{x}\\u003cbr\\u003e1=%{y}\\u003cbr\\u003e2=%{z}\\u003cextra\\u003e\\u003c\\u002fextra\\u003e\",\"legendgroup\":\"uhh\",\"marker\":{\"color\":\"#636efa\",\"symbol\":\"circle\"},\"mode\":\"markers\",\"name\":\"uhh\",\"scene\":\"scene\",\"showlegend\":true,\"x\":[0.46634465],\"y\":[-0.2437763],\"z\":[-0.017465532],\"type\":\"scatter3d\"},{\"hovertemplate\":\"color=finally\\u003cbr\\u003e0=%{x}\\u003cbr\\u003e1=%{y}\\u003cbr\\u003e2=%{z}\\u003cextra\\u003e\\u003c\\u002fextra\\u003e\",\"legendgroup\":\"finally\",\"marker\":{\"color\":\"#EF553B\",\"symbol\":\"circle\"},\"mode\":\"markers\",\"name\":\"finally\",\"scene\":\"scene\",\"showlegend\":true,\"x\":[-0.19680183],\"y\":[0.14633906],\"z\":[0.053279877],\"type\":\"scatter3d\"},{\"hovertemplate\":\"color=working\\u003cbr\\u003e0=%{x}\\u003cbr\\u003e1=%{y}\\u003cbr\\u003e2=%{z}\\u003cextra\\u003e\\u003c\\u002fextra\\u003e\",\"legendgroup\":\"working\",\"marker\":{\"color\":\"#00cc96\",\"symbol\":\"circle\"},\"mode\":\"markers\",\"name\":\"working\",\"scene\":\"scene\",\"showlegend\":true,\"x\":[-0.04161904],\"y\":[-0.1916659],\"z\":[0.048645258],\"type\":\"scatter3d\"},{\"hovertemplate\":\"color=pete\\u003cbr\\u003e0=%{x}\\u003cbr\\u003e1=%{y}\\u003cbr\\u003e2=%{z}\\u003cextra\\u003e\\u003c\\u002fextra\\u003e\",\"legendgroup\":\"pete\",\"marker\":{\"color\":\"#ab63fa\",\"symbol\":\"circle\"},\"mode\":\"markers\",\"name\":\"pete\",\"scene\":\"scene\",\"showlegend\":true,\"x\":[0.22097649],\"y\":[-0.19504891],\"z\":[0.020543218],\"type\":\"scatter3d\"},{\"hovertemplate\":\"color=alone\\u003cbr\\u003e0=%{x}\\u003cbr\\u003e1=%{y}\\u003cbr\\u003e2=%{z}\\u003cextra\\u003e\\u003c\\u002fextra\\u003e\",\"legendgroup\":\"alone\",\"marker\":{\"color\":\"#FFA15A\",\"symbol\":\"circle\"},\"mode\":\"markers\",\"name\":\"alone\",\"scene\":\"scene\",\"showlegend\":true,\"x\":[0.23539358],\"y\":[0.12298307],\"z\":[-0.06879252],\"type\":\"scatter3d\"},{\"hovertemplate\":\"color=mind\\u003cbr\\u003e0=%{x}\\u003cbr\\u003e1=%{y}\\u003cbr\\u003e2=%{z}\\u003cextra\\u003e\\u003c\\u002fextra\\u003e\",\"legendgroup\":\"mind\",\"marker\":{\"color\":\"#19d3f3\",\"symbol\":\"circle\"},\"mode\":\"markers\",\"name\":\"mind\",\"scene\":\"scene\",\"showlegend\":true,\"x\":[0.39603013],\"y\":[0.10766721],\"z\":[-0.027860343],\"type\":\"scatter3d\"},{\"hovertemplate\":\"color=four\\u003cbr\\u003e0=%{x}\\u003cbr\\u003e1=%{y}\\u003cbr\\u003e2=%{z}\\u003cextra\\u003e\\u003c\\u002fextra\\u003e\",\"legendgroup\":\"four\",\"marker\":{\"color\":\"#FF6692\",\"symbol\":\"circle\"},\"mode\":\"markers\",\"name\":\"four\",\"scene\":\"scene\",\"showlegend\":true,\"x\":[0.10224556],\"y\":[0.36190853],\"z\":[-0.033079088],\"type\":\"scatter3d\"},{\"hovertemplate\":\"color=gone\\u003cbr\\u003e0=%{x}\\u003cbr\\u003e1=%{y}\\u003cbr\\u003e2=%{z}\\u003cextra\\u003e\\u003c\\u002fextra\\u003e\",\"legendgroup\":\"gone\",\"marker\":{\"color\":\"#B6E880\",\"symbol\":\"circle\"},\"mode\":\"markers\",\"name\":\"gone\",\"scene\":\"scene\",\"showlegend\":true,\"x\":[0.19926248],\"y\":[0.14951512],\"z\":[0.07003683],\"type\":\"scatter3d\"},{\"hovertemplate\":\"color=kathy\\u003cbr\\u003e0=%{x}\\u003cbr\\u003e1=%{y}\\u003cbr\\u003e2=%{z}\\u003cextra\\u003e\\u003c\\u002fextra\\u003e\",\"legendgroup\":\"kathy\",\"marker\":{\"color\":\"#FF97FF\",\"symbol\":\"circle\"},\"mode\":\"markers\",\"name\":\"kathy\",\"scene\":\"scene\",\"showlegend\":true,\"x\":[0.16192278],\"y\":[-0.27600443],\"z\":[0.06419784],\"type\":\"scatter3d\"},{\"hovertemplate\":\"color=ow\\u003cbr\\u003e0=%{x}\\u003cbr\\u003e1=%{y}\\u003cbr\\u003e2=%{z}\\u003cextra\\u003e\\u003c\\u002fextra\\u003e\",\"legendgroup\":\"ow\",\"marker\":{\"color\":\"#FECB52\",\"symbol\":\"circle\"},\"mode\":\"markers\",\"name\":\"ow\",\"scene\":\"scene\",\"showlegend\":true,\"x\":[-0.35646462],\"y\":[-0.38741195],\"z\":[-0.024220705],\"type\":\"scatter3d\"},{\"hovertemplate\":\"color=though\\u003cbr\\u003e0=%{x}\\u003cbr\\u003e1=%{y}\\u003cbr\\u003e2=%{z}\\u003cextra\\u003e\\u003c\\u002fextra\\u003e\",\"legendgroup\":\"though\",\"marker\":{\"color\":\"#636efa\",\"symbol\":\"circle\"},\"mode\":\"markers\",\"name\":\"though\",\"scene\":\"scene\",\"showlegend\":true,\"x\":[0.55472535],\"y\":[0.14751607],\"z\":[-0.076462865],\"type\":\"scatter3d\"},{\"hovertemplate\":\"color=monicas\\u003cbr\\u003e0=%{x}\\u003cbr\\u003e1=%{y}\\u003cbr\\u003e2=%{z}\\u003cextra\\u003e\\u003c\\u002fextra\\u003e\",\"legendgroup\":\"monicas\",\"marker\":{\"color\":\"#EF553B\",\"symbol\":\"circle\"},\"mode\":\"markers\",\"name\":\"monicas\",\"scene\":\"scene\",\"showlegend\":true,\"x\":[-0.38583767],\"y\":[-0.111895405],\"z\":[-0.060389042],\"type\":\"scatter3d\"},{\"hovertemplate\":\"color=cry\\u003cbr\\u003e0=%{x}\\u003cbr\\u003e1=%{y}\\u003cbr\\u003e2=%{z}\\u003cextra\\u003e\\u003c\\u002fextra\\u003e\",\"legendgroup\":\"cry\",\"marker\":{\"color\":\"#00cc96\",\"symbol\":\"circle\"},\"mode\":\"markers\",\"name\":\"cry\",\"scene\":\"scene\",\"showlegend\":true,\"x\":[0.13582724],\"y\":[0.043044627],\"z\":[-0.05336541],\"type\":\"scatter3d\"},{\"hovertemplate\":\"color=sounds\\u003cbr\\u003e0=%{x}\\u003cbr\\u003e1=%{y}\\u003cbr\\u003e2=%{z}\\u003cextra\\u003e\\u003c\\u002fextra\\u003e\",\"legendgroup\":\"sounds\",\"marker\":{\"color\":\"#ab63fa\",\"symbol\":\"circle\"},\"mode\":\"markers\",\"name\":\"sounds\",\"scene\":\"scene\",\"showlegend\":true,\"x\":[0.44152677],\"y\":[-0.15216127],\"z\":[-0.050436497],\"type\":\"scatter3d\"},{\"hovertemplate\":\"color=question\\u003cbr\\u003e0=%{x}\\u003cbr\\u003e1=%{y}\\u003cbr\\u003e2=%{z}\\u003cextra\\u003e\\u003c\\u002fextra\\u003e\",\"legendgroup\":\"question\",\"marker\":{\"color\":\"#FFA15A\",\"symbol\":\"circle\"},\"mode\":\"markers\",\"name\":\"question\",\"scene\":\"scene\",\"showlegend\":true,\"x\":[0.45571506],\"y\":[-0.017200738],\"z\":[-0.06536621],\"type\":\"scatter3d\"},{\"hovertemplate\":\"color=bring\\u003cbr\\u003e0=%{x}\\u003cbr\\u003e1=%{y}\\u003cbr\\u003e2=%{z}\\u003cextra\\u003e\\u003c\\u002fextra\\u003e\",\"legendgroup\":\"bring\",\"marker\":{\"color\":\"#19d3f3\",\"symbol\":\"circle\"},\"mode\":\"markers\",\"name\":\"bring\",\"scene\":\"scene\",\"showlegend\":true,\"x\":[0.30178046],\"y\":[0.2133443],\"z\":[-0.072717905],\"type\":\"scatter3d\"},{\"hovertemplate\":\"color=uhm\\u003cbr\\u003e0=%{x}\\u003cbr\\u003e1=%{y}\\u003cbr\\u003e2=%{z}\\u003cextra\\u003e\\u003c\\u002fextra\\u003e\",\"legendgroup\":\"uhm\",\"marker\":{\"color\":\"#FF6692\",\"symbol\":\"circle\"},\"mode\":\"markers\",\"name\":\"uhm\",\"scene\":\"scene\",\"showlegend\":true,\"x\":[0.25925106],\"y\":[0.044493765],\"z\":[0.059278786],\"type\":\"scatter3d\"},{\"hovertemplate\":\"color=amazing\\u003cbr\\u003e0=%{x}\\u003cbr\\u003e1=%{y}\\u003cbr\\u003e2=%{z}\\u003cextra\\u003e\\u003c\\u002fextra\\u003e\",\"legendgroup\":\"amazing\",\"marker\":{\"color\":\"#B6E880\",\"symbol\":\"circle\"},\"mode\":\"markers\",\"name\":\"amazing\",\"scene\":\"scene\",\"showlegend\":true,\"x\":[0.424648],\"y\":[-0.020978227],\"z\":[0.04291773],\"type\":\"scatter3d\"},{\"hovertemplate\":\"color=sound\\u003cbr\\u003e0=%{x}\\u003cbr\\u003e1=%{y}\\u003cbr\\u003e2=%{z}\\u003cextra\\u003e\\u003c\\u002fextra\\u003e\",\"legendgroup\":\"sound\",\"marker\":{\"color\":\"#FF97FF\",\"symbol\":\"circle\"},\"mode\":\"markers\",\"name\":\"sound\",\"scene\":\"scene\",\"showlegend\":true,\"x\":[0.16548862],\"y\":[0.055984676],\"z\":[0.07961881],\"type\":\"scatter3d\"},{\"hovertemplate\":\"color=means\\u003cbr\\u003e0=%{x}\\u003cbr\\u003e1=%{y}\\u003cbr\\u003e2=%{z}\\u003cextra\\u003e\\u003c\\u002fextra\\u003e\",\"legendgroup\":\"means\",\"marker\":{\"color\":\"#FECB52\",\"symbol\":\"circle\"},\"mode\":\"markers\",\"name\":\"means\",\"scene\":\"scene\",\"showlegend\":true,\"x\":[0.5035025],\"y\":[0.111753106],\"z\":[-0.051662803],\"type\":\"scatter3d\"},{\"hovertemplate\":\"color=julie\\u003cbr\\u003e0=%{x}\\u003cbr\\u003e1=%{y}\\u003cbr\\u003e2=%{z}\\u003cextra\\u003e\\u003c\\u002fextra\\u003e\",\"legendgroup\":\"julie\",\"marker\":{\"color\":\"#636efa\",\"symbol\":\"circle\"},\"mode\":\"markers\",\"name\":\"julie\",\"scene\":\"scene\",\"showlegend\":true,\"x\":[0.110780865],\"y\":[-0.34544647],\"z\":[0.035251677],\"type\":\"scatter3d\"},{\"hovertemplate\":\"color=days\\u003cbr\\u003e0=%{x}\\u003cbr\\u003e1=%{y}\\u003cbr\\u003e2=%{z}\\u003cextra\\u003e\\u003c\\u002fextra\\u003e\",\"legendgroup\":\"days\",\"marker\":{\"color\":\"#EF553B\",\"symbol\":\"circle\"},\"mode\":\"markers\",\"name\":\"days\",\"scene\":\"scene\",\"showlegend\":true,\"x\":[0.12810156],\"y\":[0.437021],\"z\":[-0.099764824],\"type\":\"scatter3d\"},{\"hovertemplate\":\"color=street\\u003cbr\\u003e0=%{x}\\u003cbr\\u003e1=%{y}\\u003cbr\\u003e2=%{z}\\u003cextra\\u003e\\u003c\\u002fextra\\u003e\",\"legendgroup\":\"street\",\"marker\":{\"color\":\"#00cc96\",\"symbol\":\"circle\"},\"mode\":\"markers\",\"name\":\"street\",\"scene\":\"scene\",\"showlegend\":true,\"x\":[-0.40647882],\"y\":[-0.087043025],\"z\":[-0.08712673],\"type\":\"scatter3d\"},{\"hovertemplate\":\"color=joshua\\u003cbr\\u003e0=%{x}\\u003cbr\\u003e1=%{y}\\u003cbr\\u003e2=%{z}\\u003cextra\\u003e\\u003c\\u002fextra\\u003e\",\"legendgroup\":\"joshua\",\"marker\":{\"color\":\"#ab63fa\",\"symbol\":\"circle\"},\"mode\":\"markers\",\"name\":\"joshua\",\"scene\":\"scene\",\"showlegend\":true,\"x\":[0.16439316],\"y\":[-0.27998066],\"z\":[0.012542248],\"type\":\"scatter3d\"},{\"hovertemplate\":\"color=quickly\\u003cbr\\u003e0=%{x}\\u003cbr\\u003e1=%{y}\\u003cbr\\u003e2=%{z}\\u003cextra\\u003e\\u003c\\u002fextra\\u003e\",\"legendgroup\":\"quickly\",\"marker\":{\"color\":\"#FFA15A\",\"symbol\":\"circle\"},\"mode\":\"markers\",\"name\":\"quickly\",\"scene\":\"scene\",\"showlegend\":true,\"x\":[-0.43367928],\"y\":[-0.021425396],\"z\":[-0.04450929],\"type\":\"scatter3d\"},{\"hovertemplate\":\"color=hmm\\u003cbr\\u003e0=%{x}\\u003cbr\\u003e1=%{y}\\u003cbr\\u003e2=%{z}\\u003cextra\\u003e\\u003c\\u002fextra\\u003e\",\"legendgroup\":\"hmm\",\"marker\":{\"color\":\"#19d3f3\",\"symbol\":\"circle\"},\"mode\":\"markers\",\"name\":\"hmm\",\"scene\":\"scene\",\"showlegend\":true,\"x\":[0.32823163],\"y\":[-0.2754659],\"z\":[0.021175802],\"type\":\"scatter3d\"},{\"hovertemplate\":\"color=hall\\u003cbr\\u003e0=%{x}\\u003cbr\\u003e1=%{y}\\u003cbr\\u003e2=%{z}\\u003cextra\\u003e\\u003c\\u002fextra\\u003e\",\"legendgroup\":\"hall\",\"marker\":{\"color\":\"#FF6692\",\"symbol\":\"circle\"},\"mode\":\"markers\",\"name\":\"hall\",\"scene\":\"scene\",\"showlegend\":true,\"x\":[-0.47108805],\"y\":[-0.19834034],\"z\":[-0.12412578],\"type\":\"scatter3d\"},{\"hovertemplate\":\"color=ahh\\u003cbr\\u003e0=%{x}\\u003cbr\\u003e1=%{y}\\u003cbr\\u003e2=%{z}\\u003cextra\\u003e\\u003c\\u002fextra\\u003e\",\"legendgroup\":\"ahh\",\"marker\":{\"color\":\"#B6E880\",\"symbol\":\"circle\"},\"mode\":\"markers\",\"name\":\"ahh\",\"scene\":\"scene\",\"showlegend\":true,\"x\":[0.26136982],\"y\":[-0.25494918],\"z\":[0.075739026],\"type\":\"scatter3d\"},{\"hovertemplate\":\"color=kidding\\u003cbr\\u003e0=%{x}\\u003cbr\\u003e1=%{y}\\u003cbr\\u003e2=%{z}\\u003cextra\\u003e\\u003c\\u002fextra\\u003e\",\"legendgroup\":\"kidding\",\"marker\":{\"color\":\"#FF97FF\",\"symbol\":\"circle\"},\"mode\":\"markers\",\"name\":\"kidding\",\"scene\":\"scene\",\"showlegend\":true,\"x\":[0.32542545],\"y\":[-0.31504208],\"z\":[0.061071873],\"type\":\"scatter3d\"},{\"hovertemplate\":\"color=restaurant\\u003cbr\\u003e0=%{x}\\u003cbr\\u003e1=%{y}\\u003cbr\\u003e2=%{z}\\u003cextra\\u003e\\u003c\\u002fextra\\u003e\",\"legendgroup\":\"restaurant\",\"marker\":{\"color\":\"#FECB52\",\"symbol\":\"circle\"},\"mode\":\"markers\",\"name\":\"restaurant\",\"scene\":\"scene\",\"showlegend\":true,\"x\":[-0.30874968],\"y\":[-0.19896138],\"z\":[-0.22445095],\"type\":\"scatter3d\"},{\"hovertemplate\":\"color=close\\u003cbr\\u003e0=%{x}\\u003cbr\\u003e1=%{y}\\u003cbr\\u003e2=%{z}\\u003cextra\\u003e\\u003c\\u002fextra\\u003e\",\"legendgroup\":\"close\",\"marker\":{\"color\":\"#636efa\",\"symbol\":\"circle\"},\"mode\":\"markers\",\"name\":\"close\",\"scene\":\"scene\",\"showlegend\":true,\"x\":[-0.058844216],\"y\":[0.01735261],\"z\":[0.07245743],\"type\":\"scatter3d\"},{\"hovertemplate\":\"color=naked\\u003cbr\\u003e0=%{x}\\u003cbr\\u003e1=%{y}\\u003cbr\\u003e2=%{z}\\u003cextra\\u003e\\u003c\\u002fextra\\u003e\",\"legendgroup\":\"naked\",\"marker\":{\"color\":\"#EF553B\",\"symbol\":\"circle\"},\"mode\":\"markers\",\"name\":\"naked\",\"scene\":\"scene\",\"showlegend\":true,\"x\":[0.018132241],\"y\":[0.15541142],\"z\":[0.051244438],\"type\":\"scatter3d\"},{\"hovertemplate\":\"color=serious\\u003cbr\\u003e0=%{x}\\u003cbr\\u003e1=%{y}\\u003cbr\\u003e2=%{z}\\u003cextra\\u003e\\u003c\\u002fextra\\u003e\",\"legendgroup\":\"serious\",\"marker\":{\"color\":\"#00cc96\",\"symbol\":\"circle\"},\"mode\":\"markers\",\"name\":\"serious\",\"scene\":\"scene\",\"showlegend\":true,\"x\":[0.46634567],\"y\":[-0.0021114647],\"z\":[0.0067925453],\"type\":\"scatter3d\"},{\"hovertemplate\":\"color=youve\\u003cbr\\u003e0=%{x}\\u003cbr\\u003e1=%{y}\\u003cbr\\u003e2=%{z}\\u003cextra\\u003e\\u003c\\u002fextra\\u003e\",\"legendgroup\":\"youve\",\"marker\":{\"color\":\"#ab63fa\",\"symbol\":\"circle\"},\"mode\":\"markers\",\"name\":\"youve\",\"scene\":\"scene\",\"showlegend\":true,\"x\":[0.35967672],\"y\":[0.277297],\"z\":[-0.06668383],\"type\":\"scatter3d\"},{\"hovertemplate\":\"color=ball\\u003cbr\\u003e0=%{x}\\u003cbr\\u003e1=%{y}\\u003cbr\\u003e2=%{z}\\u003cextra\\u003e\\u003c\\u002fextra\\u003e\",\"legendgroup\":\"ball\",\"marker\":{\"color\":\"#FFA15A\",\"symbol\":\"circle\"},\"mode\":\"markers\",\"name\":\"ball\",\"scene\":\"scene\",\"showlegend\":true,\"x\":[-0.44979423],\"y\":[0.08216523],\"z\":[-0.072940886],\"type\":\"scatter3d\"},{\"hovertemplate\":\"color=knock\\u003cbr\\u003e0=%{x}\\u003cbr\\u003e1=%{y}\\u003cbr\\u003e2=%{z}\\u003cextra\\u003e\\u003c\\u002fextra\\u003e\",\"legendgroup\":\"knock\",\"marker\":{\"color\":\"#19d3f3\",\"symbol\":\"circle\"},\"mode\":\"markers\",\"name\":\"knock\",\"scene\":\"scene\",\"showlegend\":true,\"x\":[-0.37100834],\"y\":[-0.16345586],\"z\":[-0.14562654],\"type\":\"scatter3d\"},{\"hovertemplate\":\"color=elizabeth\\u003cbr\\u003e0=%{x}\\u003cbr\\u003e1=%{y}\\u003cbr\\u003e2=%{z}\\u003cextra\\u003e\\u003c\\u002fextra\\u003e\",\"legendgroup\":\"elizabeth\",\"marker\":{\"color\":\"#FF6692\",\"symbol\":\"circle\"},\"mode\":\"markers\",\"name\":\"elizabeth\",\"scene\":\"scene\",\"showlegend\":true,\"x\":[0.0461303],\"y\":[-0.2680142],\"z\":[0.042070508],\"type\":\"scatter3d\"},{\"hovertemplate\":\"color=huge\\u003cbr\\u003e0=%{x}\\u003cbr\\u003e1=%{y}\\u003cbr\\u003e2=%{z}\\u003cextra\\u003e\\u003c\\u002fextra\\u003e\",\"legendgroup\":\"huge\",\"marker\":{\"color\":\"#B6E880\",\"symbol\":\"circle\"},\"mode\":\"markers\",\"name\":\"huge\",\"scene\":\"scene\",\"showlegend\":true,\"x\":[-0.1784362],\"y\":[0.048285887],\"z\":[0.086131275],\"type\":\"scatter3d\"},{\"hovertemplate\":\"color=true\\u003cbr\\u003e0=%{x}\\u003cbr\\u003e1=%{y}\\u003cbr\\u003e2=%{z}\\u003cextra\\u003e\\u003c\\u002fextra\\u003e\",\"legendgroup\":\"true\",\"marker\":{\"color\":\"#FF97FF\",\"symbol\":\"circle\"},\"mode\":\"markers\",\"name\":\"true\",\"scene\":\"scene\",\"showlegend\":true,\"x\":[0.5226596],\"y\":[-0.19453871],\"z\":[-0.03360927],\"type\":\"scatter3d\"},{\"hovertemplate\":\"color=wife\\u003cbr\\u003e0=%{x}\\u003cbr\\u003e1=%{y}\\u003cbr\\u003e2=%{z}\\u003cextra\\u003e\\u003c\\u002fextra\\u003e\",\"legendgroup\":\"wife\",\"marker\":{\"color\":\"#FECB52\",\"symbol\":\"circle\"},\"mode\":\"markers\",\"name\":\"wife\",\"scene\":\"scene\",\"showlegend\":true,\"x\":[0.27563792],\"y\":[0.18441015],\"z\":[0.016741514],\"type\":\"scatter3d\"},{\"hovertemplate\":\"color=inside\\u003cbr\\u003e0=%{x}\\u003cbr\\u003e1=%{y}\\u003cbr\\u003e2=%{z}\\u003cextra\\u003e\\u003c\\u002fextra\\u003e\",\"legendgroup\":\"inside\",\"marker\":{\"color\":\"#636efa\",\"symbol\":\"circle\"},\"mode\":\"markers\",\"name\":\"inside\",\"scene\":\"scene\",\"showlegend\":true,\"x\":[-0.5163546],\"y\":[-0.09087833],\"z\":[-0.109773576],\"type\":\"scatter3d\"},{\"hovertemplate\":\"color=set\\u003cbr\\u003e0=%{x}\\u003cbr\\u003e1=%{y}\\u003cbr\\u003e2=%{z}\\u003cextra\\u003e\\u003c\\u002fextra\\u003e\",\"legendgroup\":\"set\",\"marker\":{\"color\":\"#EF553B\",\"symbol\":\"circle\"},\"mode\":\"markers\",\"name\":\"set\",\"scene\":\"scene\",\"showlegend\":true,\"x\":[-0.08865439],\"y\":[0.036777377],\"z\":[-0.0039827228],\"type\":\"scatter3d\"},{\"hovertemplate\":\"color=dress\\u003cbr\\u003e0=%{x}\\u003cbr\\u003e1=%{y}\\u003cbr\\u003e2=%{z}\\u003cextra\\u003e\\u003c\\u002fextra\\u003e\",\"legendgroup\":\"dress\",\"marker\":{\"color\":\"#00cc96\",\"symbol\":\"circle\"},\"mode\":\"markers\",\"name\":\"dress\",\"scene\":\"scene\",\"showlegend\":true,\"x\":[-0.23223011],\"y\":[0.12020218],\"z\":[0.055818796],\"type\":\"scatter3d\"},{\"hovertemplate\":\"color=closes\\u003cbr\\u003e0=%{x}\\u003cbr\\u003e1=%{y}\\u003cbr\\u003e2=%{z}\\u003cextra\\u003e\\u003c\\u002fextra\\u003e\",\"legendgroup\":\"closes\",\"marker\":{\"color\":\"#ab63fa\",\"symbol\":\"circle\"},\"mode\":\"markers\",\"name\":\"closes\",\"scene\":\"scene\",\"showlegend\":true,\"x\":[-0.37630576],\"y\":[-0.107325636],\"z\":[-0.11681771],\"type\":\"scatter3d\"},{\"hovertemplate\":\"color=running\\u003cbr\\u003e0=%{x}\\u003cbr\\u003e1=%{y}\\u003cbr\\u003e2=%{z}\\u003cextra\\u003e\\u003c\\u002fextra\\u003e\",\"legendgroup\":\"running\",\"marker\":{\"color\":\"#FFA15A\",\"symbol\":\"circle\"},\"mode\":\"markers\",\"name\":\"running\",\"scene\":\"scene\",\"showlegend\":true,\"x\":[-0.4006151],\"y\":[-0.19342013],\"z\":[-0.042884707],\"type\":\"scatter3d\"},{\"hovertemplate\":\"color=almost\\u003cbr\\u003e0=%{x}\\u003cbr\\u003e1=%{y}\\u003cbr\\u003e2=%{z}\\u003cextra\\u003e\\u003c\\u002fextra\\u003e\",\"legendgroup\":\"almost\",\"marker\":{\"color\":\"#19d3f3\",\"symbol\":\"circle\"},\"mode\":\"markers\",\"name\":\"almost\",\"scene\":\"scene\",\"showlegend\":true,\"x\":[0.08935739],\"y\":[0.087871],\"z\":[0.10104036],\"type\":\"scatter3d\"},{\"hovertemplate\":\"color=eating\\u003cbr\\u003e0=%{x}\\u003cbr\\u003e1=%{y}\\u003cbr\\u003e2=%{z}\\u003cextra\\u003e\\u003c\\u002fextra\\u003e\",\"legendgroup\":\"eating\",\"marker\":{\"color\":\"#FF6692\",\"symbol\":\"circle\"},\"mode\":\"markers\",\"name\":\"eating\",\"scene\":\"scene\",\"showlegend\":true,\"x\":[-0.4328726],\"y\":[-0.43427035],\"z\":[-0.16958624],\"type\":\"scatter3d\"},{\"hovertemplate\":\"color=read\\u003cbr\\u003e0=%{x}\\u003cbr\\u003e1=%{y}\\u003cbr\\u003e2=%{z}\\u003cextra\\u003e\\u003c\\u002fextra\\u003e\",\"legendgroup\":\"read\",\"marker\":{\"color\":\"#B6E880\",\"symbol\":\"circle\"},\"mode\":\"markers\",\"name\":\"read\",\"scene\":\"scene\",\"showlegend\":true,\"x\":[0.08427657],\"y\":[0.20767331],\"z\":[0.036523104],\"type\":\"scatter3d\"},{\"hovertemplate\":\"color=anyone\\u003cbr\\u003e0=%{x}\\u003cbr\\u003e1=%{y}\\u003cbr\\u003e2=%{z}\\u003cextra\\u003e\\u003c\\u002fextra\\u003e\",\"legendgroup\":\"anyone\",\"marker\":{\"color\":\"#FF97FF\",\"symbol\":\"circle\"},\"mode\":\"markers\",\"name\":\"anyone\",\"scene\":\"scene\",\"showlegend\":true,\"x\":[0.52834284],\"y\":[0.24512136],\"z\":[-0.1466381],\"type\":\"scatter3d\"},{\"hovertemplate\":\"color=wont\\u003cbr\\u003e0=%{x}\\u003cbr\\u003e1=%{y}\\u003cbr\\u003e2=%{z}\\u003cextra\\u003e\\u003c\\u002fextra\\u003e\",\"legendgroup\":\"wont\",\"marker\":{\"color\":\"#FECB52\",\"symbol\":\"circle\"},\"mode\":\"markers\",\"name\":\"wont\",\"scene\":\"scene\",\"showlegend\":true,\"x\":[0.38184112],\"y\":[0.20910126],\"z\":[-0.076529205],\"type\":\"scatter3d\"},{\"hovertemplate\":\"color=tape\\u003cbr\\u003e0=%{x}\\u003cbr\\u003e1=%{y}\\u003cbr\\u003e2=%{z}\\u003cextra\\u003e\\u003c\\u002fextra\\u003e\",\"legendgroup\":\"tape\",\"marker\":{\"color\":\"#636efa\",\"symbol\":\"circle\"},\"mode\":\"markers\",\"name\":\"tape\",\"scene\":\"scene\",\"showlegend\":true,\"x\":[-0.078826435],\"y\":[-0.018455774],\"z\":[0.056384087],\"type\":\"scatter3d\"},{\"hovertemplate\":\"color=fact\\u003cbr\\u003e0=%{x}\\u003cbr\\u003e1=%{y}\\u003cbr\\u003e2=%{z}\\u003cextra\\u003e\\u003c\\u002fextra\\u003e\",\"legendgroup\":\"fact\",\"marker\":{\"color\":\"#EF553B\",\"symbol\":\"circle\"},\"mode\":\"markers\",\"name\":\"fact\",\"scene\":\"scene\",\"showlegend\":true,\"x\":[0.45706534],\"y\":[0.21711159],\"z\":[-0.053994656],\"type\":\"scatter3d\"},{\"hovertemplate\":\"color=counter\\u003cbr\\u003e0=%{x}\\u003cbr\\u003e1=%{y}\\u003cbr\\u003e2=%{z}\\u003cextra\\u003e\\u003c\\u002fextra\\u003e\",\"legendgroup\":\"counter\",\"marker\":{\"color\":\"#00cc96\",\"symbol\":\"circle\"},\"mode\":\"markers\",\"name\":\"counter\",\"scene\":\"scene\",\"showlegend\":true,\"x\":[-0.5859675],\"y\":[-0.18034628],\"z\":[-0.12866306],\"type\":\"scatter3d\"},{\"hovertemplate\":\"color=point\\u003cbr\\u003e0=%{x}\\u003cbr\\u003e1=%{y}\\u003cbr\\u003e2=%{z}\\u003cextra\\u003e\\u003c\\u002fextra\\u003e\",\"legendgroup\":\"point\",\"marker\":{\"color\":\"#ab63fa\",\"symbol\":\"circle\"},\"mode\":\"markers\",\"name\":\"point\",\"scene\":\"scene\",\"showlegend\":true,\"x\":[0.11646817],\"y\":[0.16605327],\"z\":[0.04605329],\"type\":\"scatter3d\"},{\"hovertemplate\":\"color=minutes\\u003cbr\\u003e0=%{x}\\u003cbr\\u003e1=%{y}\\u003cbr\\u003e2=%{z}\\u003cextra\\u003e\\u003c\\u002fextra\\u003e\",\"legendgroup\":\"minutes\",\"marker\":{\"color\":\"#FFA15A\",\"symbol\":\"circle\"},\"mode\":\"markers\",\"name\":\"minutes\",\"scene\":\"scene\",\"showlegend\":true,\"x\":[0.0894075],\"y\":[0.4074565],\"z\":[-0.081944466],\"type\":\"scatter3d\"},{\"hovertemplate\":\"color=mark\\u003cbr\\u003e0=%{x}\\u003cbr\\u003e1=%{y}\\u003cbr\\u003e2=%{z}\\u003cextra\\u003e\\u003c\\u002fextra\\u003e\",\"legendgroup\":\"mark\",\"marker\":{\"color\":\"#19d3f3\",\"symbol\":\"circle\"},\"mode\":\"markers\",\"name\":\"mark\",\"scene\":\"scene\",\"showlegend\":true,\"x\":[0.17297101],\"y\":[-0.17396262],\"z\":[0.053800046],\"type\":\"scatter3d\"},{\"hovertemplate\":\"color=closing\\u003cbr\\u003e0=%{x}\\u003cbr\\u003e1=%{y}\\u003cbr\\u003e2=%{z}\\u003cextra\\u003e\\u003c\\u002fextra\\u003e\",\"legendgroup\":\"closing\",\"marker\":{\"color\":\"#FF6692\",\"symbol\":\"circle\"},\"mode\":\"markers\",\"name\":\"closing\",\"scene\":\"scene\",\"showlegend\":true,\"x\":[-0.63008386],\"y\":[-0.38805163],\"z\":[-0.3125142],\"type\":\"scatter3d\"},{\"hovertemplate\":\"color=erica\\u003cbr\\u003e0=%{x}\\u003cbr\\u003e1=%{y}\\u003cbr\\u003e2=%{z}\\u003cextra\\u003e\\u003c\\u002fextra\\u003e\",\"legendgroup\":\"erica\",\"marker\":{\"color\":\"#B6E880\",\"symbol\":\"circle\"},\"mode\":\"markers\",\"name\":\"erica\",\"scene\":\"scene\",\"showlegend\":true,\"x\":[0.22095957],\"y\":[-0.17242023],\"z\":[0.053032696],\"type\":\"scatter3d\"},{\"hovertemplate\":\"color=card\\u003cbr\\u003e0=%{x}\\u003cbr\\u003e1=%{y}\\u003cbr\\u003e2=%{z}\\u003cextra\\u003e\\u003c\\u002fextra\\u003e\",\"legendgroup\":\"card\",\"marker\":{\"color\":\"#FF97FF\",\"symbol\":\"circle\"},\"mode\":\"markers\",\"name\":\"card\",\"scene\":\"scene\",\"showlegend\":true,\"x\":[-0.25656778],\"y\":[0.082193434],\"z\":[0.036042333],\"type\":\"scatter3d\"},{\"hovertemplate\":\"color=ago\\u003cbr\\u003e0=%{x}\\u003cbr\\u003e1=%{y}\\u003cbr\\u003e2=%{z}\\u003cextra\\u003e\\u003c\\u002fextra\\u003e\",\"legendgroup\":\"ago\",\"marker\":{\"color\":\"#FECB52\",\"symbol\":\"circle\"},\"mode\":\"markers\",\"name\":\"ago\",\"scene\":\"scene\",\"showlegend\":true,\"x\":[0.1796326],\"y\":[0.55336404],\"z\":[-0.22475731],\"type\":\"scatter3d\"},{\"hovertemplate\":\"color=excited\\u003cbr\\u003e0=%{x}\\u003cbr\\u003e1=%{y}\\u003cbr\\u003e2=%{z}\\u003cextra\\u003e\\u003c\\u002fextra\\u003e\",\"legendgroup\":\"excited\",\"marker\":{\"color\":\"#636efa\",\"symbol\":\"circle\"},\"mode\":\"markers\",\"name\":\"excited\",\"scene\":\"scene\",\"showlegend\":true,\"x\":[0.25214976],\"y\":[-0.33971697],\"z\":[0.060929894],\"type\":\"scatter3d\"},{\"hovertemplate\":\"color=babies\\u003cbr\\u003e0=%{x}\\u003cbr\\u003e1=%{y}\\u003cbr\\u003e2=%{z}\\u003cextra\\u003e\\u003c\\u002fextra\\u003e\",\"legendgroup\":\"babies\",\"marker\":{\"color\":\"#EF553B\",\"symbol\":\"circle\"},\"mode\":\"markers\",\"name\":\"babies\",\"scene\":\"scene\",\"showlegend\":true,\"x\":[0.39536095],\"y\":[0.23426518],\"z\":[-0.05222249],\"type\":\"scatter3d\"},{\"hovertemplate\":\"color=leaving\\u003cbr\\u003e0=%{x}\\u003cbr\\u003e1=%{y}\\u003cbr\\u003e2=%{z}\\u003cextra\\u003e\\u003c\\u002fextra\\u003e\",\"legendgroup\":\"leaving\",\"marker\":{\"color\":\"#00cc96\",\"symbol\":\"circle\"},\"mode\":\"markers\",\"name\":\"leaving\",\"scene\":\"scene\",\"showlegend\":true,\"x\":[-0.16784789],\"y\":[-0.16783503],\"z\":[0.041313946],\"type\":\"scatter3d\"},{\"hovertemplate\":\"color=floor\\u003cbr\\u003e0=%{x}\\u003cbr\\u003e1=%{y}\\u003cbr\\u003e2=%{z}\\u003cextra\\u003e\\u003c\\u002fextra\\u003e\",\"legendgroup\":\"floor\",\"marker\":{\"color\":\"#ab63fa\",\"symbol\":\"circle\"},\"mode\":\"markers\",\"name\":\"floor\",\"scene\":\"scene\",\"showlegend\":true,\"x\":[-0.4595415],\"y\":[0.100891724],\"z\":[-0.05336219],\"type\":\"scatter3d\"},{\"hovertemplate\":\"color=dude\\u003cbr\\u003e0=%{x}\\u003cbr\\u003e1=%{y}\\u003cbr\\u003e2=%{z}\\u003cextra\\u003e\\u003c\\u002fextra\\u003e\",\"legendgroup\":\"dude\",\"marker\":{\"color\":\"#FFA15A\",\"symbol\":\"circle\"},\"mode\":\"markers\",\"name\":\"dude\",\"scene\":\"scene\",\"showlegend\":true,\"x\":[0.3004871],\"y\":[-0.22360224],\"z\":[0.058945358],\"type\":\"scatter3d\"},{\"hovertemplate\":\"color=rings\\u003cbr\\u003e0=%{x}\\u003cbr\\u003e1=%{y}\\u003cbr\\u003e2=%{z}\\u003cextra\\u003e\\u003c\\u002fextra\\u003e\",\"legendgroup\":\"rings\",\"marker\":{\"color\":\"#19d3f3\",\"symbol\":\"circle\"},\"mode\":\"markers\",\"name\":\"rings\",\"scene\":\"scene\",\"showlegend\":true,\"x\":[-0.3530532],\"y\":[-0.3718805],\"z\":[-0.07890934],\"type\":\"scatter3d\"},{\"hovertemplate\":\"color=line\\u003cbr\\u003e0=%{x}\\u003cbr\\u003e1=%{y}\\u003cbr\\u003e2=%{z}\\u003cextra\\u003e\\u003c\\u002fextra\\u003e\",\"legendgroup\":\"line\",\"marker\":{\"color\":\"#FF6692\",\"symbol\":\"circle\"},\"mode\":\"markers\",\"name\":\"line\",\"scene\":\"scene\",\"showlegend\":true,\"x\":[-0.03947845],\"y\":[0.122504264],\"z\":[0.015190005],\"type\":\"scatter3d\"},{\"hovertemplate\":\"color=world\\u003cbr\\u003e0=%{x}\\u003cbr\\u003e1=%{y}\\u003cbr\\u003e2=%{z}\\u003cextra\\u003e\\u003c\\u002fextra\\u003e\",\"legendgroup\":\"world\",\"marker\":{\"color\":\"#B6E880\",\"symbol\":\"circle\"},\"mode\":\"markers\",\"name\":\"world\",\"scene\":\"scene\",\"showlegend\":true,\"x\":[0.20943843],\"y\":[0.29782867],\"z\":[0.0070546865],\"type\":\"scatter3d\"},{\"hovertemplate\":\"color=hugs\\u003cbr\\u003e0=%{x}\\u003cbr\\u003e1=%{y}\\u003cbr\\u003e2=%{z}\\u003cextra\\u003e\\u003c\\u002fextra\\u003e\",\"legendgroup\":\"hugs\",\"marker\":{\"color\":\"#FF97FF\",\"symbol\":\"circle\"},\"mode\":\"markers\",\"name\":\"hugs\",\"scene\":\"scene\",\"showlegend\":true,\"x\":[-0.2848735],\"y\":[-0.361],\"z\":[0.026000142],\"type\":\"scatter3d\"},{\"hovertemplate\":\"color=la\\u003cbr\\u003e0=%{x}\\u003cbr\\u003e1=%{y}\\u003cbr\\u003e2=%{z}\\u003cextra\\u003e\\u003c\\u002fextra\\u003e\",\"legendgroup\":\"la\",\"marker\":{\"color\":\"#FECB52\",\"symbol\":\"circle\"},\"mode\":\"markers\",\"name\":\"la\",\"scene\":\"scene\",\"showlegend\":true,\"x\":[-0.11626233],\"y\":[-0.026205085],\"z\":[-0.2416293],\"type\":\"scatter3d\"}],                        {\"template\":{\"data\":{\"histogram2dcontour\":[{\"type\":\"histogram2dcontour\",\"colorbar\":{\"outlinewidth\":0,\"ticks\":\"\"},\"colorscale\":[[0.0,\"#0d0887\"],[0.1111111111111111,\"#46039f\"],[0.2222222222222222,\"#7201a8\"],[0.3333333333333333,\"#9c179e\"],[0.4444444444444444,\"#bd3786\"],[0.5555555555555556,\"#d8576b\"],[0.6666666666666666,\"#ed7953\"],[0.7777777777777778,\"#fb9f3a\"],[0.8888888888888888,\"#fdca26\"],[1.0,\"#f0f921\"]]}],\"choropleth\":[{\"type\":\"choropleth\",\"colorbar\":{\"outlinewidth\":0,\"ticks\":\"\"}}],\"histogram2d\":[{\"type\":\"histogram2d\",\"colorbar\":{\"outlinewidth\":0,\"ticks\":\"\"},\"colorscale\":[[0.0,\"#0d0887\"],[0.1111111111111111,\"#46039f\"],[0.2222222222222222,\"#7201a8\"],[0.3333333333333333,\"#9c179e\"],[0.4444444444444444,\"#bd3786\"],[0.5555555555555556,\"#d8576b\"],[0.6666666666666666,\"#ed7953\"],[0.7777777777777778,\"#fb9f3a\"],[0.8888888888888888,\"#fdca26\"],[1.0,\"#f0f921\"]]}],\"heatmap\":[{\"type\":\"heatmap\",\"colorbar\":{\"outlinewidth\":0,\"ticks\":\"\"},\"colorscale\":[[0.0,\"#0d0887\"],[0.1111111111111111,\"#46039f\"],[0.2222222222222222,\"#7201a8\"],[0.3333333333333333,\"#9c179e\"],[0.4444444444444444,\"#bd3786\"],[0.5555555555555556,\"#d8576b\"],[0.6666666666666666,\"#ed7953\"],[0.7777777777777778,\"#fb9f3a\"],[0.8888888888888888,\"#fdca26\"],[1.0,\"#f0f921\"]]}],\"heatmapgl\":[{\"type\":\"heatmapgl\",\"colorbar\":{\"outlinewidth\":0,\"ticks\":\"\"},\"colorscale\":[[0.0,\"#0d0887\"],[0.1111111111111111,\"#46039f\"],[0.2222222222222222,\"#7201a8\"],[0.3333333333333333,\"#9c179e\"],[0.4444444444444444,\"#bd3786\"],[0.5555555555555556,\"#d8576b\"],[0.6666666666666666,\"#ed7953\"],[0.7777777777777778,\"#fb9f3a\"],[0.8888888888888888,\"#fdca26\"],[1.0,\"#f0f921\"]]}],\"contourcarpet\":[{\"type\":\"contourcarpet\",\"colorbar\":{\"outlinewidth\":0,\"ticks\":\"\"}}],\"contour\":[{\"type\":\"contour\",\"colorbar\":{\"outlinewidth\":0,\"ticks\":\"\"},\"colorscale\":[[0.0,\"#0d0887\"],[0.1111111111111111,\"#46039f\"],[0.2222222222222222,\"#7201a8\"],[0.3333333333333333,\"#9c179e\"],[0.4444444444444444,\"#bd3786\"],[0.5555555555555556,\"#d8576b\"],[0.6666666666666666,\"#ed7953\"],[0.7777777777777778,\"#fb9f3a\"],[0.8888888888888888,\"#fdca26\"],[1.0,\"#f0f921\"]]}],\"surface\":[{\"type\":\"surface\",\"colorbar\":{\"outlinewidth\":0,\"ticks\":\"\"},\"colorscale\":[[0.0,\"#0d0887\"],[0.1111111111111111,\"#46039f\"],[0.2222222222222222,\"#7201a8\"],[0.3333333333333333,\"#9c179e\"],[0.4444444444444444,\"#bd3786\"],[0.5555555555555556,\"#d8576b\"],[0.6666666666666666,\"#ed7953\"],[0.7777777777777778,\"#fb9f3a\"],[0.8888888888888888,\"#fdca26\"],[1.0,\"#f0f921\"]]}],\"mesh3d\":[{\"type\":\"mesh3d\",\"colorbar\":{\"outlinewidth\":0,\"ticks\":\"\"}}],\"scatter\":[{\"fillpattern\":{\"fillmode\":\"overlay\",\"size\":10,\"solidity\":0.2},\"type\":\"scatter\"}],\"parcoords\":[{\"type\":\"parcoords\",\"line\":{\"colorbar\":{\"outlinewidth\":0,\"ticks\":\"\"}}}],\"scatterpolargl\":[{\"type\":\"scatterpolargl\",\"marker\":{\"colorbar\":{\"outlinewidth\":0,\"ticks\":\"\"}}}],\"bar\":[{\"error_x\":{\"color\":\"#2a3f5f\"},\"error_y\":{\"color\":\"#2a3f5f\"},\"marker\":{\"line\":{\"color\":\"#E5ECF6\",\"width\":0.5},\"pattern\":{\"fillmode\":\"overlay\",\"size\":10,\"solidity\":0.2}},\"type\":\"bar\"}],\"scattergeo\":[{\"type\":\"scattergeo\",\"marker\":{\"colorbar\":{\"outlinewidth\":0,\"ticks\":\"\"}}}],\"scatterpolar\":[{\"type\":\"scatterpolar\",\"marker\":{\"colorbar\":{\"outlinewidth\":0,\"ticks\":\"\"}}}],\"histogram\":[{\"marker\":{\"pattern\":{\"fillmode\":\"overlay\",\"size\":10,\"solidity\":0.2}},\"type\":\"histogram\"}],\"scattergl\":[{\"type\":\"scattergl\",\"marker\":{\"colorbar\":{\"outlinewidth\":0,\"ticks\":\"\"}}}],\"scatter3d\":[{\"type\":\"scatter3d\",\"line\":{\"colorbar\":{\"outlinewidth\":0,\"ticks\":\"\"}},\"marker\":{\"colorbar\":{\"outlinewidth\":0,\"ticks\":\"\"}}}],\"scattermapbox\":[{\"type\":\"scattermapbox\",\"marker\":{\"colorbar\":{\"outlinewidth\":0,\"ticks\":\"\"}}}],\"scatterternary\":[{\"type\":\"scatterternary\",\"marker\":{\"colorbar\":{\"outlinewidth\":0,\"ticks\":\"\"}}}],\"scattercarpet\":[{\"type\":\"scattercarpet\",\"marker\":{\"colorbar\":{\"outlinewidth\":0,\"ticks\":\"\"}}}],\"carpet\":[{\"aaxis\":{\"endlinecolor\":\"#2a3f5f\",\"gridcolor\":\"white\",\"linecolor\":\"white\",\"minorgridcolor\":\"white\",\"startlinecolor\":\"#2a3f5f\"},\"baxis\":{\"endlinecolor\":\"#2a3f5f\",\"gridcolor\":\"white\",\"linecolor\":\"white\",\"minorgridcolor\":\"white\",\"startlinecolor\":\"#2a3f5f\"},\"type\":\"carpet\"}],\"table\":[{\"cells\":{\"fill\":{\"color\":\"#EBF0F8\"},\"line\":{\"color\":\"white\"}},\"header\":{\"fill\":{\"color\":\"#C8D4E3\"},\"line\":{\"color\":\"white\"}},\"type\":\"table\"}],\"barpolar\":[{\"marker\":{\"line\":{\"color\":\"#E5ECF6\",\"width\":0.5},\"pattern\":{\"fillmode\":\"overlay\",\"size\":10,\"solidity\":0.2}},\"type\":\"barpolar\"}],\"pie\":[{\"automargin\":true,\"type\":\"pie\"}]},\"layout\":{\"autotypenumbers\":\"strict\",\"colorway\":[\"#636efa\",\"#EF553B\",\"#00cc96\",\"#ab63fa\",\"#FFA15A\",\"#19d3f3\",\"#FF6692\",\"#B6E880\",\"#FF97FF\",\"#FECB52\"],\"font\":{\"color\":\"#2a3f5f\"},\"hovermode\":\"closest\",\"hoverlabel\":{\"align\":\"left\"},\"paper_bgcolor\":\"white\",\"plot_bgcolor\":\"#E5ECF6\",\"polar\":{\"bgcolor\":\"#E5ECF6\",\"angularaxis\":{\"gridcolor\":\"white\",\"linecolor\":\"white\",\"ticks\":\"\"},\"radialaxis\":{\"gridcolor\":\"white\",\"linecolor\":\"white\",\"ticks\":\"\"}},\"ternary\":{\"bgcolor\":\"#E5ECF6\",\"aaxis\":{\"gridcolor\":\"white\",\"linecolor\":\"white\",\"ticks\":\"\"},\"baxis\":{\"gridcolor\":\"white\",\"linecolor\":\"white\",\"ticks\":\"\"},\"caxis\":{\"gridcolor\":\"white\",\"linecolor\":\"white\",\"ticks\":\"\"}},\"coloraxis\":{\"colorbar\":{\"outlinewidth\":0,\"ticks\":\"\"}},\"colorscale\":{\"sequential\":[[0.0,\"#0d0887\"],[0.1111111111111111,\"#46039f\"],[0.2222222222222222,\"#7201a8\"],[0.3333333333333333,\"#9c179e\"],[0.4444444444444444,\"#bd3786\"],[0.5555555555555556,\"#d8576b\"],[0.6666666666666666,\"#ed7953\"],[0.7777777777777778,\"#fb9f3a\"],[0.8888888888888888,\"#fdca26\"],[1.0,\"#f0f921\"]],\"sequentialminus\":[[0.0,\"#0d0887\"],[0.1111111111111111,\"#46039f\"],[0.2222222222222222,\"#7201a8\"],[0.3333333333333333,\"#9c179e\"],[0.4444444444444444,\"#bd3786\"],[0.5555555555555556,\"#d8576b\"],[0.6666666666666666,\"#ed7953\"],[0.7777777777777778,\"#fb9f3a\"],[0.8888888888888888,\"#fdca26\"],[1.0,\"#f0f921\"]],\"diverging\":[[0,\"#8e0152\"],[0.1,\"#c51b7d\"],[0.2,\"#de77ae\"],[0.3,\"#f1b6da\"],[0.4,\"#fde0ef\"],[0.5,\"#f7f7f7\"],[0.6,\"#e6f5d0\"],[0.7,\"#b8e186\"],[0.8,\"#7fbc41\"],[0.9,\"#4d9221\"],[1,\"#276419\"]]},\"xaxis\":{\"gridcolor\":\"white\",\"linecolor\":\"white\",\"ticks\":\"\",\"title\":{\"standoff\":15},\"zerolinecolor\":\"white\",\"automargin\":true,\"zerolinewidth\":2},\"yaxis\":{\"gridcolor\":\"white\",\"linecolor\":\"white\",\"ticks\":\"\",\"title\":{\"standoff\":15},\"zerolinecolor\":\"white\",\"automargin\":true,\"zerolinewidth\":2},\"scene\":{\"xaxis\":{\"backgroundcolor\":\"#E5ECF6\",\"gridcolor\":\"white\",\"linecolor\":\"white\",\"showbackground\":true,\"ticks\":\"\",\"zerolinecolor\":\"white\",\"gridwidth\":2},\"yaxis\":{\"backgroundcolor\":\"#E5ECF6\",\"gridcolor\":\"white\",\"linecolor\":\"white\",\"showbackground\":true,\"ticks\":\"\",\"zerolinecolor\":\"white\",\"gridwidth\":2},\"zaxis\":{\"backgroundcolor\":\"#E5ECF6\",\"gridcolor\":\"white\",\"linecolor\":\"white\",\"showbackground\":true,\"ticks\":\"\",\"zerolinecolor\":\"white\",\"gridwidth\":2}},\"shapedefaults\":{\"line\":{\"color\":\"#2a3f5f\"}},\"annotationdefaults\":{\"arrowcolor\":\"#2a3f5f\",\"arrowhead\":0,\"arrowwidth\":1},\"geo\":{\"bgcolor\":\"white\",\"landcolor\":\"#E5ECF6\",\"subunitcolor\":\"white\",\"showland\":true,\"showlakes\":true,\"lakecolor\":\"white\"},\"title\":{\"x\":0.05},\"mapbox\":{\"style\":\"light\"}}},\"scene\":{\"domain\":{\"x\":[0.0,1.0],\"y\":[0.0,1.0]},\"xaxis\":{\"title\":{\"text\":\"0\"}},\"yaxis\":{\"title\":{\"text\":\"1\"}},\"zaxis\":{\"title\":{\"text\":\"2\"}}},\"legend\":{\"title\":{\"text\":\"color\"},\"tracegroupgap\":0},\"margin\":{\"t\":60}},                        {\"responsive\": true}                    ).then(function(){\n",
              "                            \n",
              "var gd = document.getElementById('a450d8ea-b5ea-48e7-9626-4166efe97419');\n",
              "var x = new MutationObserver(function (mutations, observer) {{\n",
              "        var display = window.getComputedStyle(gd).display;\n",
              "        if (!display || display === 'none') {{\n",
              "            console.log([gd, 'removed!']);\n",
              "            Plotly.purge(gd);\n",
              "            observer.disconnect();\n",
              "        }}\n",
              "}});\n",
              "\n",
              "// Listen for the removal of the full notebook cells\n",
              "var notebookContainer = gd.closest('#notebook-container');\n",
              "if (notebookContainer) {{\n",
              "    x.observe(notebookContainer, {childList: true});\n",
              "}}\n",
              "\n",
              "// Listen for the clearing of the current output cell\n",
              "var outputEl = gd.closest('.output');\n",
              "if (outputEl) {{\n",
              "    x.observe(outputEl, {childList: true});\n",
              "}}\n",
              "\n",
              "                        })                };                            </script>        </div>\n",
              "</body>\n",
              "</html>"
            ]
          },
          "metadata": {}
        }
      ]
    },
    {
      "cell_type": "markdown",
      "source": [
        "The values you see when you hover over each point (the 0, 1, and 2) correspond to the 3 dimensions of the word's vector after it has been reduced by PCA.\n",
        "\n",
        "Let's break down what those values represent:\n",
        "\n",
        "0: This is the value on the first principal component (PC1).\n",
        "\n",
        "1: This is the value on the second principal component (PC2).\n",
        "\n",
        "2: This is the value on the third principal component (PC3).\n",
        "\n",
        "What are Principal Components?\n",
        "Imagine your original word vectors as points in a 300-dimensional space. We can't see this space, but we know it's a very complex cloud of points.\n",
        "\n",
        "PCA's job is to find the most important \"directions\" or axes in that cloud of points.\n",
        "\n",
        "PC1 (The first principal component) is the single most important direction. It's the axis along which the data varies the most. It captures the largest amount of variance (information) from your original 300-dimensional data.\n",
        "\n",
        "PC2 (The second principal component) is the second most important direction. It's perpendicular to PC1 and captures the next largest amount of variance.\n",
        "\n",
        "PC3 (The third principal component) is the third most important direction, perpendicular to both PC1 and PC2, and so on.\n",
        "\n",
        "When you use n_components=3, PCA finds the three most important directions and essentially \"flattens\" your 300-dimensional cloud of points onto these three new axes.\n",
        "\n",
        "What the Values Tell You\n",
        "The values you see (the numbers for 0, 1, and 2) are the coordinates of the word vector on these three new principal axes.\n",
        "\n",
        "A large positive or negative value on a principal component means that the word is strongly aligned with the semantic concept that component represents.\n",
        "\n",
        "For example, in a sentiment analysis context, PC1 might represent the \"positive vs. negative\" dimension. Words with large positive PC1 values might be \"amazing\" and \"love,\" while words with large negative values might be \"terrible\" and \"horrible.\"\n",
        "\n",
        "In your case, with a general corpus, PC1 might represent gender (\"he\" vs. \"she\"), PC2 might represent social status (\"king\" vs. \"peasant\"), and PC3 might represent a combination of concepts."
      ],
      "metadata": {
        "id": "iiYPlxpgUnv2"
      }
    }
  ]
}