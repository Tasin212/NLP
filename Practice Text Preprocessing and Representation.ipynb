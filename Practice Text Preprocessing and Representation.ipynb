{
 "cells": [
  {
   "cell_type": "code",
   "execution_count": 1,
   "id": "2a441f76-4ccc-45dc-95e2-735fb7d76998",
   "metadata": {},
   "outputs": [],
   "source": [
    "import pandas as pd\n",
    "import numpy as np"
   ]
  },
  {
   "cell_type": "code",
   "execution_count": 4,
   "id": "f0e8dd7f-6046-415c-935e-ca9e7d04fd7a",
   "metadata": {},
   "outputs": [
    {
     "data": {
      "text/html": [
       "<div>\n",
       "<style scoped>\n",
       "    .dataframe tbody tr th:only-of-type {\n",
       "        vertical-align: middle;\n",
       "    }\n",
       "\n",
       "    .dataframe tbody tr th {\n",
       "        vertical-align: top;\n",
       "    }\n",
       "\n",
       "    .dataframe thead th {\n",
       "        text-align: right;\n",
       "    }\n",
       "</style>\n",
       "<table border=\"1\" class=\"dataframe\">\n",
       "  <thead>\n",
       "    <tr style=\"text-align: right;\">\n",
       "      <th></th>\n",
       "      <th>review</th>\n",
       "      <th>sentiment</th>\n",
       "    </tr>\n",
       "  </thead>\n",
       "  <tbody>\n",
       "    <tr>\n",
       "      <th>0</th>\n",
       "      <td>One of the other reviewers has mentioned that ...</td>\n",
       "      <td>positive</td>\n",
       "    </tr>\n",
       "    <tr>\n",
       "      <th>1</th>\n",
       "      <td>A wonderful little production. &lt;br /&gt;&lt;br /&gt;The...</td>\n",
       "      <td>positive</td>\n",
       "    </tr>\n",
       "    <tr>\n",
       "      <th>2</th>\n",
       "      <td>I thought this was a wonderful way to spend ti...</td>\n",
       "      <td>positive</td>\n",
       "    </tr>\n",
       "    <tr>\n",
       "      <th>3</th>\n",
       "      <td>Basically there's a family where a little boy ...</td>\n",
       "      <td>negative</td>\n",
       "    </tr>\n",
       "    <tr>\n",
       "      <th>4</th>\n",
       "      <td>Petter Mattei's \"Love in the Time of Money\" is...</td>\n",
       "      <td>positive</td>\n",
       "    </tr>\n",
       "  </tbody>\n",
       "</table>\n",
       "</div>"
      ],
      "text/plain": [
       "                                              review sentiment\n",
       "0  One of the other reviewers has mentioned that ...  positive\n",
       "1  A wonderful little production. <br /><br />The...  positive\n",
       "2  I thought this was a wonderful way to spend ti...  positive\n",
       "3  Basically there's a family where a little boy ...  negative\n",
       "4  Petter Mattei's \"Love in the Time of Money\" is...  positive"
      ]
     },
     "execution_count": 4,
     "metadata": {},
     "output_type": "execute_result"
    }
   ],
   "source": [
    "df = pd.read_csv('data/imdb_dataset.csv')\n",
    "df.head()"
   ]
  },
  {
   "cell_type": "code",
   "execution_count": 10,
   "id": "ff2edbe7-32af-4303-be07-f46c175b14a3",
   "metadata": {},
   "outputs": [
    {
     "data": {
      "text/plain": [
       "(50000, 2)"
      ]
     },
     "execution_count": 10,
     "metadata": {},
     "output_type": "execute_result"
    }
   ],
   "source": [
    "df.shape"
   ]
  },
  {
   "cell_type": "code",
   "execution_count": 11,
   "id": "de1f3536-2355-4060-98a8-5fb7a618b7ab",
   "metadata": {},
   "outputs": [
    {
     "data": {
      "text/plain": [
       "sentiment\n",
       "positive    25000\n",
       "negative    25000\n",
       "Name: count, dtype: int64"
      ]
     },
     "execution_count": 11,
     "metadata": {},
     "output_type": "execute_result"
    }
   ],
   "source": [
    "df['sentiment'].value_counts()"
   ]
  },
  {
   "cell_type": "code",
   "execution_count": 12,
   "id": "e2edff3c-57c3-45c9-9cd6-80ab3ace96d3",
   "metadata": {},
   "outputs": [
    {
     "name": "stdout",
     "output_type": "stream",
     "text": [
      "<class 'pandas.core.frame.DataFrame'>\n",
      "RangeIndex: 50000 entries, 0 to 49999\n",
      "Data columns (total 2 columns):\n",
      " #   Column     Non-Null Count  Dtype \n",
      "---  ------     --------------  ----- \n",
      " 0   review     50000 non-null  object\n",
      " 1   sentiment  50000 non-null  object\n",
      "dtypes: object(2)\n",
      "memory usage: 781.4+ KB\n"
     ]
    }
   ],
   "source": [
    "df.info()"
   ]
  },
  {
   "cell_type": "code",
   "execution_count": 15,
   "id": "35954ad5-beec-426c-86a1-66a4c9c256a8",
   "metadata": {},
   "outputs": [
    {
     "data": {
      "text/plain": [
       "np.int64(418)"
      ]
     },
     "execution_count": 15,
     "metadata": {},
     "output_type": "execute_result"
    }
   ],
   "source": [
    "df.duplicated().sum()"
   ]
  },
  {
   "cell_type": "code",
   "execution_count": 18,
   "id": "9aaed417-66c4-419d-8a6f-fcca0af266c0",
   "metadata": {},
   "outputs": [
    {
     "data": {
      "text/html": [
       "<div>\n",
       "<style scoped>\n",
       "    .dataframe tbody tr th:only-of-type {\n",
       "        vertical-align: middle;\n",
       "    }\n",
       "\n",
       "    .dataframe tbody tr th {\n",
       "        vertical-align: top;\n",
       "    }\n",
       "\n",
       "    .dataframe thead th {\n",
       "        text-align: right;\n",
       "    }\n",
       "</style>\n",
       "<table border=\"1\" class=\"dataframe\">\n",
       "  <thead>\n",
       "    <tr style=\"text-align: right;\">\n",
       "      <th></th>\n",
       "      <th>review</th>\n",
       "      <th>sentiment</th>\n",
       "      <th>review_length</th>\n",
       "    </tr>\n",
       "  </thead>\n",
       "  <tbody>\n",
       "    <tr>\n",
       "      <th>0</th>\n",
       "      <td>One of the other reviewers has mentioned that ...</td>\n",
       "      <td>positive</td>\n",
       "      <td>307</td>\n",
       "    </tr>\n",
       "    <tr>\n",
       "      <th>1</th>\n",
       "      <td>A wonderful little production. &lt;br /&gt;&lt;br /&gt;The...</td>\n",
       "      <td>positive</td>\n",
       "      <td>162</td>\n",
       "    </tr>\n",
       "    <tr>\n",
       "      <th>2</th>\n",
       "      <td>I thought this was a wonderful way to spend ti...</td>\n",
       "      <td>positive</td>\n",
       "      <td>166</td>\n",
       "    </tr>\n",
       "    <tr>\n",
       "      <th>3</th>\n",
       "      <td>Basically there's a family where a little boy ...</td>\n",
       "      <td>negative</td>\n",
       "      <td>138</td>\n",
       "    </tr>\n",
       "    <tr>\n",
       "      <th>4</th>\n",
       "      <td>Petter Mattei's \"Love in the Time of Money\" is...</td>\n",
       "      <td>positive</td>\n",
       "      <td>230</td>\n",
       "    </tr>\n",
       "    <tr>\n",
       "      <th>...</th>\n",
       "      <td>...</td>\n",
       "      <td>...</td>\n",
       "      <td>...</td>\n",
       "    </tr>\n",
       "    <tr>\n",
       "      <th>49995</th>\n",
       "      <td>I thought this movie did a down right good job...</td>\n",
       "      <td>positive</td>\n",
       "      <td>194</td>\n",
       "    </tr>\n",
       "    <tr>\n",
       "      <th>49996</th>\n",
       "      <td>Bad plot, bad dialogue, bad acting, idiotic di...</td>\n",
       "      <td>negative</td>\n",
       "      <td>112</td>\n",
       "    </tr>\n",
       "    <tr>\n",
       "      <th>49997</th>\n",
       "      <td>I am a Catholic taught in parochial elementary...</td>\n",
       "      <td>negative</td>\n",
       "      <td>230</td>\n",
       "    </tr>\n",
       "    <tr>\n",
       "      <th>49998</th>\n",
       "      <td>I'm going to have to disagree with the previou...</td>\n",
       "      <td>negative</td>\n",
       "      <td>212</td>\n",
       "    </tr>\n",
       "    <tr>\n",
       "      <th>49999</th>\n",
       "      <td>No one expects the Star Trek movies to be high...</td>\n",
       "      <td>negative</td>\n",
       "      <td>129</td>\n",
       "    </tr>\n",
       "  </tbody>\n",
       "</table>\n",
       "<p>50000 rows × 3 columns</p>\n",
       "</div>"
      ],
      "text/plain": [
       "                                                  review sentiment  \\\n",
       "0      One of the other reviewers has mentioned that ...  positive   \n",
       "1      A wonderful little production. <br /><br />The...  positive   \n",
       "2      I thought this was a wonderful way to spend ti...  positive   \n",
       "3      Basically there's a family where a little boy ...  negative   \n",
       "4      Petter Mattei's \"Love in the Time of Money\" is...  positive   \n",
       "...                                                  ...       ...   \n",
       "49995  I thought this movie did a down right good job...  positive   \n",
       "49996  Bad plot, bad dialogue, bad acting, idiotic di...  negative   \n",
       "49997  I am a Catholic taught in parochial elementary...  negative   \n",
       "49998  I'm going to have to disagree with the previou...  negative   \n",
       "49999  No one expects the Star Trek movies to be high...  negative   \n",
       "\n",
       "       review_length  \n",
       "0                307  \n",
       "1                162  \n",
       "2                166  \n",
       "3                138  \n",
       "4                230  \n",
       "...              ...  \n",
       "49995            194  \n",
       "49996            112  \n",
       "49997            230  \n",
       "49998            212  \n",
       "49999            129  \n",
       "\n",
       "[50000 rows x 3 columns]"
      ]
     },
     "execution_count": 18,
     "metadata": {},
     "output_type": "execute_result"
    }
   ],
   "source": [
    "# let's see the length of the review\n",
    "df['review_length'] = df['review'].apply(lambda x: len(x.split()))\n",
    "df"
   ]
  },
  {
   "cell_type": "code",
   "execution_count": 20,
   "id": "2647cb55-a92e-4378-b782-b893acdfd0f6",
   "metadata": {
    "scrolled": true
   },
   "outputs": [
    {
     "data": {
      "text/plain": [
       "count    50000.000000\n",
       "mean       231.156940\n",
       "std        171.343997\n",
       "min          4.000000\n",
       "25%        126.000000\n",
       "50%        173.000000\n",
       "75%        280.000000\n",
       "max       2470.000000\n",
       "Name: review_length, dtype: float64"
      ]
     },
     "execution_count": 20,
     "metadata": {},
     "output_type": "execute_result"
    }
   ],
   "source": [
    "df['review_length'].describe()"
   ]
  },
  {
   "cell_type": "code",
   "execution_count": 21,
   "id": "a5eda8d0-9646-4346-955f-73e7eafde4cb",
   "metadata": {},
   "outputs": [
    {
     "data": {
      "text/plain": [
       "review           Basically there's a family where a little boy ...\n",
       "sentiment                                                 negative\n",
       "review_length                                                  138\n",
       "Name: 3, dtype: object"
      ]
     },
     "execution_count": 21,
     "metadata": {},
     "output_type": "execute_result"
    }
   ],
   "source": [
    "df.loc[3]"
   ]
  },
  {
   "cell_type": "code",
   "execution_count": 24,
   "id": "0281e9d7-fa12-4c46-9f2f-1610a5a4b06b",
   "metadata": {},
   "outputs": [
    {
     "data": {
      "text/plain": [
       "\"Basically there's a family where a little boy (Jake) thinks there's a zombie in his closet & his parents are fighting all the time.<br /><br />This movie is slower than a soap opera... and suddenly, Jake decides to become Rambo and kill the zombie.<br /><br />OK, first of all when you're going to make a film you must Decide if its a thriller or a drama! As a drama the movie is watchable. Parents are divorcing & arguing like in real life. And then we have Jake with his closet which totally ruins all the film! I expected to see a BOOGEYMAN similar movie, and instead i watched a drama with some meaningless thriller spots.<br /><br />3 out of 10 just for the well playing parents & descent dialogs. As for the shots with Jake: just ignore them.\""
      ]
     },
     "execution_count": 24,
     "metadata": {},
     "output_type": "execute_result"
    }
   ],
   "source": [
    "# let's see one sample review\n",
    "df.loc[3, 'review']"
   ]
  },
  {
   "cell_type": "markdown",
   "id": "6313eb11-8dcf-4310-867f-a82c2353feae",
   "metadata": {},
   "source": [
    "## Text Preprocessing\n",
    "Now that we have got the idea about the data let's perfrom some preprocessing"
   ]
  },
  {
   "cell_type": "markdown",
   "id": "8a3caa3a-baae-4bc3-8534-a9f640f86c4a",
   "metadata": {},
   "source": [
    "#### Removing Duplicates"
   ]
  },
  {
   "cell_type": "code",
   "execution_count": 26,
   "id": "6a03b41e-3e66-494d-9d91-467b4261f3fa",
   "metadata": {},
   "outputs": [
    {
     "name": "stdout",
     "output_type": "stream",
     "text": [
      "After remvoing dupicates length of the dataset :  49582\n"
     ]
    }
   ],
   "source": [
    "df = df.drop_duplicates().reset_index(drop=True)\n",
    "print('After remvoing dupicates length of the dataset : ', len(df))"
   ]
  },
  {
   "cell_type": "markdown",
   "id": "ff65641d-5014-43ef-b87c-436175367450",
   "metadata": {},
   "source": [
    "#### Removing HTML Tags"
   ]
  },
  {
   "cell_type": "code",
   "execution_count": 29,
   "id": "131a46e4-d86d-4e2d-a203-4eeeac8ed486",
   "metadata": {},
   "outputs": [
    {
     "name": "stdout",
     "output_type": "stream",
     "text": [
      "Number of reviews has HTML Tags :  28968\n"
     ]
    }
   ],
   "source": [
    "# first let's check how many reviews has HTML tags\n",
    "import re\n",
    "def has_html(text):\n",
    "    return bool(re.search(r'<.*?>', text))\n",
    "\n",
    "print('Number of reviews has HTML Tags : ', df['review'].apply(has_html).sum())"
   ]
  },
  {
   "cell_type": "code",
   "execution_count": 30,
   "id": "c5c465a6-1fab-47be-9148-82ed1aa13b77",
   "metadata": {},
   "outputs": [],
   "source": [
    "def remove_html(text):\n",
    "    return re.sub(r'<.*?>', ' ',text)\n",
    "\n",
    "df['review'] = df['review'].apply(remove_html)"
   ]
  },
  {
   "cell_type": "markdown",
   "id": "32d160fb-0ce6-4adf-aca3-8ddbde55373b",
   "metadata": {},
   "source": [
    "#### Removeing Punctuation"
   ]
  },
  {
   "cell_type": "code",
   "execution_count": 36,
   "id": "30db1a85-7314-42e1-9737-ae7867841871",
   "metadata": {},
   "outputs": [
    {
     "name": "stdout",
     "output_type": "stream",
     "text": [
      "!\"#$%&'()*+,-./:;<=>?@[\\]^_`{|}~\n"
     ]
    }
   ],
   "source": [
    "import string\n",
    "\n",
    "print(string.punctuation)\n",
    "exclude = string.punctuation"
   ]
  },
  {
   "cell_type": "code",
   "execution_count": 37,
   "id": "66dca13d-433c-4748-8983-895df304adee",
   "metadata": {},
   "outputs": [],
   "source": [
    "def remove_punctuation(text):\n",
    "    return text.translate(str.maketrans('','',exclude))\n",
    "\n",
    "df['review'] = df['review'].apply(remove_punctuation)"
   ]
  },
  {
   "cell_type": "code",
   "execution_count": 38,
   "id": "728e3f19-ead9-43db-a401-8847ba50146e",
   "metadata": {},
   "outputs": [],
   "source": [
    "# to ensure consistency, let's convert lowercaes()\n",
    "df['review'] = df['review'].str.lower()"
   ]
  },
  {
   "cell_type": "markdown",
   "id": "3e20b38c-d1a5-44cf-a2f5-2036f9b219e5",
   "metadata": {},
   "source": [
    "#### Removing Stopwords"
   ]
  },
  {
   "cell_type": "code",
   "execution_count": 39,
   "id": "0e5e7123-6c79-41d8-b338-f0a192500946",
   "metadata": {},
   "outputs": [],
   "source": [
    "from nltk.corpus import stopwords"
   ]
  },
  {
   "cell_type": "code",
   "execution_count": 40,
   "id": "f436461e-eabb-4f99-97a8-8f3c9de0e595",
   "metadata": {},
   "outputs": [],
   "source": [
    "stop_words = set(stopwords.words('english'))\n",
    "# we can add custom words to this stopwords list\n",
    "stop_words.update(['br', 'film', 'movie', 'one', 'character'])  # Common in movie reviews"
   ]
  },
  {
   "cell_type": "code",
   "execution_count": 41,
   "id": "cfc14692-9358-4b68-a2b5-b4e091c39982",
   "metadata": {},
   "outputs": [],
   "source": [
    "def remove_stopwords(text):\n",
    "    words = re.findall(r'\\b[a-zA-Z]{2,}\\b', text)\n",
    "    return ' '.join(w for w in words if w not in stop_words)\n",
    "\n",
    "df['review'] = df['review'].apply(remove_stopwords)\n",
    "# also instead of .apply() func we can use .map() which is slightly faster"
   ]
  },
  {
   "cell_type": "markdown",
   "id": "60661b59-b172-4ef4-a664-53670d224ab9",
   "metadata": {},
   "source": [
    "Let's explain a bit how this regex is actually working : \n",
    "* \\b: This matches a \"word boundary.\" It ensures that the pattern only matches whole words, not characters inside a larger word (e.g., it will find \"is\" but not \"this\").\n",
    "* [a-zA-Z]: This is a character set that matches any single lowercase or uppercase letter.\n",
    "* {2,}: This is a quantifier that specifies the character set must be repeated two or more times. This is a simple way to filter out very short words, such as \"a\" or \"I\". Or In simple words it will keep the words that has at least 2 characters.\n",
    "- Additionally, this function will be applied on each review one by one"
   ]
  },
  {
   "cell_type": "markdown",
   "id": "ca7a3225-616c-4126-8bb2-314e53f5d954",
   "metadata": {},
   "source": [
    "## Text Representation (TF-IDF)"
   ]
  },
  {
   "cell_type": "code",
   "execution_count": 42,
   "id": "3d34a69f-7721-416f-a7f8-4161ef4bfa0d",
   "metadata": {},
   "outputs": [],
   "source": [
    "from sklearn.feature_extraction.text import TfidfVectorizer"
   ]
  },
  {
   "cell_type": "code",
   "execution_count": 43,
   "id": "3906a0b7-479e-4d87-a8df-b1d9559fca09",
   "metadata": {},
   "outputs": [],
   "source": [
    "tv = TfidfVectorizer(max_features=5000, ngram_range=(1,2))  # Unigrams + bigrams\n",
    "X = tv.fit_transform(df['review'])"
   ]
  },
  {
   "cell_type": "markdown",
   "id": "f63f6770-aa2f-4530-ad94-0ec6c488e831",
   "metadata": {},
   "source": [
    "#### For now lets train model with MultinomialNB"
   ]
  },
  {
   "cell_type": "code",
   "execution_count": 44,
   "id": "2be894f9-714c-45d3-bc24-fe6536c12cab",
   "metadata": {},
   "outputs": [],
   "source": [
    "# Labels\n",
    "y = df['sentiment']\n",
    "\n",
    "# Now train your model!\n",
    "from sklearn.naive_bayes import MultinomialNB\n",
    "model = MultinomialNB().fit(X, y)"
   ]
  },
  {
   "cell_type": "markdown",
   "id": "d5730bb0-2c07-4c36-81a6-8923bd145e1d",
   "metadata": {},
   "source": [
    "What does .fit_transform() do?\n",
    "\n",
    "Two steps in one:\n",
    "\n",
    "* .fit():\n",
    "Scans all cleaned reviews\n",
    "Builds vocabulary of up to 5000 best words (with TF-IDF weights)\n",
    "Learns which words matter\n",
    "* .transform():\n",
    "Converts each review into a numerical vector\n",
    "Each number = TF-IDF score of a word\n",
    "* 🎯 Output: X is a sparse matrix of shape (50000, ~5000)\n",
    "→ 50k rows (reviews), 5000 columns (word scores)\n",
    "\n",
    "This is the feature matrix — input to ML model."
   ]
  }
 ],
 "metadata": {
  "kernelspec": {
   "display_name": "Python [conda env:base] *",
   "language": "python",
   "name": "conda-base-py"
  },
  "language_info": {
   "codemirror_mode": {
    "name": "ipython",
    "version": 3
   },
   "file_extension": ".py",
   "mimetype": "text/x-python",
   "name": "python",
   "nbconvert_exporter": "python",
   "pygments_lexer": "ipython3",
   "version": "3.13.5"
  }
 },
 "nbformat": 4,
 "nbformat_minor": 5
}
